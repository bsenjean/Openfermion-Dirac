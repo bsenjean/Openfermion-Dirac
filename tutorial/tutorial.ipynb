{
 "cells": [
  {
   "cell_type": "markdown",
   "metadata": {},
   "source": [
    "# Tutorial for the OpenFermion-Dirac interface"
   ]
  },
  {
   "cell_type": "markdown",
   "metadata": {},
   "source": [
    "The goal of this interface is to perform relativistic or non-relativistic calculation of \n",
    "chemical compounds through the Dirac program (see http://diracprogram.org)\n",
    "in OpenFermion (https://github.com/quantumlib/OpenFermion). \n",
    "The resulting molecular Hamiltonian can then be encoded into a qubit Hamiltonian thanks to the Jordan-Wigner\n",
    "transformation, for instance."
   ]
  },
  {
   "cell_type": "markdown",
   "metadata": {},
   "source": [
    "## Non relativistic calculation"
   ]
  },
  {
   "cell_type": "markdown",
   "metadata": {},
   "source": [
    "First, define your atom or molecule. Here, the example of the hydrogen molecule is provided."
   ]
  },
  {
   "cell_type": "code",
   "execution_count": 4,
   "metadata": {},
   "outputs": [],
   "source": [
    "bond_length = 1.0\n",
    "multiplicity = 1\n",
    "charge = 0\n",
    "geometry = [('H', (0., 0., 0.)), ('H', (0., 0., bond_length))]"
   ]
  },
  {
   "cell_type": "markdown",
   "metadata": {},
   "source": [
    "Then, specify the basis set. For practical reason, the small STO-3G basis set is considered here. More complex basis sets can be used to perform Hartree-Fock (HF) or Coupled Cluster Single and Doubles (CCSD), but it becomes rapidly untractable for Full Configuration Interaction (FCI)."
   ]
  },
  {
   "cell_type": "code",
   "execution_count": 5,
   "metadata": {},
   "outputs": [],
   "source": [
    "basis = 'STO-3G'"
   ]
  },
  {
   "cell_type": "markdown",
   "metadata": {},
   "source": [
    "To know more about the valid basis sets, we refer the reader to the DIRAC documentation (http://diracprogram.org)."
   ]
  },
  {
   "cell_type": "markdown",
   "metadata": {},
   "source": [
    "Given that the filename does not contain information about the bond length or the type of calculation, it is interesting to add it manually. We will perform here a CCSD calculation."
   ]
  },
  {
   "cell_type": "code",
   "execution_count": 6,
   "metadata": {},
   "outputs": [],
   "source": [
    "run_ccsd = True\n",
    "if run_ccsd:\n",
    "    description = 'R' + str(bond_length) + '_ccsd'\n",
    "else:\n",
    "    description = 'R' + str(bond_length) + '_scf'"
   ]
  },
  {
   "cell_type": "markdown",
   "metadata": {},
   "source": [
    "Now that every parameters are defined, one can construct the molecule thanks to the ```MolecularData_Dirac``` command"
   ]
  },
  {
   "cell_type": "code",
   "execution_count": 7,
   "metadata": {},
   "outputs": [],
   "source": [
    "import os\n",
    "\n",
    "data_directory=os.getcwd()\n",
    "\n",
    "from openfermion_dirac import MolecularData_Dirac\n",
    "\n",
    "molecule = MolecularData_Dirac(geometry=geometry,\n",
    "                               basis=basis,\n",
    "                               multiplicity=multiplicity,\n",
    "                               charge=charge,\n",
    "                               description=description,\n",
    "                               data_directory=data_directory)"
   ]
  },
  {
   "cell_type": "markdown",
   "metadata": {},
   "source": [
    "Time to start the calculation ! First, defines which type of calculation you want to perform. The choices are SCF (Hartree-Fock) or CCSD. If you don't set any option, it will run an SCF calculation automatically. \n",
    "If you set ```run_ccsd = True```, it will perform a CCSD calculation. Performing CCSD also gives you access to the second-order Moller-Plesset perturbation (MP2) and the Hartree-Fock (HF) energy."
   ]
  },
  {
   "cell_type": "code",
   "execution_count": 8,
   "metadata": {},
   "outputs": [],
   "source": [
    "run_ccsd = True"
   ]
  },
  {
   "cell_type": "markdown",
   "metadata": {},
   "source": [
    "Note that the non relativistic calculation uses the Levy-Leblond Hamiltonian. For some applications (outside the scope of this tutorial) one may want to use the NONREL Hamiltonian instead. This can be set with ```NONREL=True``` in ```run_dirac```.\n",
    "\n",
    "Several files are generated during the calculation: \n",
    "- The input file (.inp)\n",
    "- The geometry file (.xyz)\n",
    "- The output file (.out)\n",
    "- The integral files (MRCONEE and MDCINT)\n",
    "- The FCIDUMP file\n",
    "- Optionally, an hdf5 file which saves several informations (as shown latter on).\n",
    "\n",
    "You can define all the files that you want to keep or to discard at the end of the calculation. Note that the geometry of the molecule and the input file are included in the Dirac output file, such that only this file can be kept.\n",
    "The MRCONEE and MDCINT contain the one- and two-electron integrals, respectively. The ```dirac_openfermion_mointegral_export.x``` transforms those files into a FCIDUMP file containing all the molecular integrals. Only the latter file is then needed to construct the molecular Hamiltonian in OpenFermion. This molecular Hamiltonian can then be transformed into a Qubit Hamiltonian, as shown in the following."
   ]
  },
  {
   "cell_type": "code",
   "execution_count": 9,
   "metadata": {},
   "outputs": [],
   "source": [
    "delete_input = True\n",
    "delete_xyz = True\n",
    "delete_output = False\n",
    "delete_MRCONEE = True\n",
    "delete_MDCINT = True"
   ]
  },
  {
   "cell_type": "markdown",
   "metadata": {},
   "source": [
    "Note that is fcidump=False and run_ccsd = False, the MRCONEE and MDCINT files will not be extracted (not needed)."
   ]
  },
  {
   "cell_type": "markdown",
   "metadata": {},
   "source": [
    "To start the calculation, use the command ```run_dirac``` as follows:"
   ]
  },
  {
   "cell_type": "code",
   "execution_count": 10,
   "metadata": {},
   "outputs": [],
   "source": [
    "from openfermion_dirac import run_dirac\n",
    "\n",
    "fcidump=True\n",
    "\n",
    "molecule = run_dirac(molecule,\n",
    "                    fcidump=fcidump,\n",
    "                    delete_input=delete_input,\n",
    "                    delete_xyz=delete_xyz,\n",
    "                    delete_output=delete_output,\n",
    "                    delete_MRCONEE=delete_MRCONEE,\n",
    "                    delete_MDCINT=delete_MDCINT,\n",
    "                    run_ccsd=run_ccsd)"
   ]
  },
  {
   "cell_type": "markdown",
   "metadata": {},
   "source": [
    "Note that ```fcidump=True``` has to be set if you want to extract the second-quantized molecular Hamiltonian in OpenFermion from the object ```molecule```:"
   ]
  },
  {
   "cell_type": "code",
   "execution_count": 11,
   "metadata": {},
   "outputs": [
    {
     "name": "stdout",
     "output_type": "stream",
     "text": [
      "() 0.5291772083\n",
      "((0, 1), (0, 0)) -1.11084417705\n",
      "((1, 1), (1, 0)) -1.11084417705\n",
      "((2, 1), (2, 0)) -0.5891210130952\n",
      "((3, 1), (3, 0)) -0.5891210130952\n",
      "((0, 1), (0, 1), (0, 0), (0, 0)) 0.313201246336\n",
      "((0, 1), (0, 1), (2, 0), (2, 0)) 0.0983952893027\n",
      "((0, 1), (1, 1), (1, 0), (0, 0)) 0.313201246336\n",
      "((0, 1), (1, 1), (3, 0), (2, 0)) 0.0983952893027\n",
      "((0, 1), (2, 1), (0, 0), (2, 0)) 0.0983952893027\n",
      "((0, 1), (2, 1), (2, 0), (0, 0)) 0.3108533766756\n",
      "((0, 1), (3, 1), (1, 0), (2, 0)) 0.0983952893027\n",
      "((0, 1), (3, 1), (3, 0), (0, 0)) 0.3108533766756\n",
      "((1, 1), (0, 1), (0, 0), (1, 0)) 0.313201246336\n",
      "((1, 1), (0, 1), (2, 0), (3, 0)) 0.0983952893027\n",
      "((1, 1), (1, 1), (1, 0), (1, 0)) 0.313201246336\n",
      "((1, 1), (1, 1), (3, 0), (3, 0)) 0.0983952893027\n",
      "((1, 1), (2, 1), (0, 0), (3, 0)) 0.0983952893027\n",
      "((1, 1), (2, 1), (2, 0), (1, 0)) 0.3108533766756\n",
      "((1, 1), (3, 1), (1, 0), (3, 0)) 0.0983952893027\n",
      "((1, 1), (3, 1), (3, 0), (1, 0)) 0.3108533766756\n",
      "((2, 1), (0, 1), (0, 0), (2, 0)) 0.3108533766756\n",
      "((2, 1), (0, 1), (2, 0), (0, 0)) 0.0983952893027\n",
      "((2, 1), (1, 1), (1, 0), (2, 0)) 0.3108533766756\n",
      "((2, 1), (1, 1), (3, 0), (0, 0)) 0.0983952893027\n",
      "((2, 1), (2, 1), (0, 0), (0, 0)) 0.0983952893027\n",
      "((2, 1), (2, 1), (2, 0), (2, 0)) 0.3265353672724\n",
      "((2, 1), (3, 1), (1, 0), (0, 0)) 0.0983952893027\n",
      "((2, 1), (3, 1), (3, 0), (2, 0)) 0.3265353672724\n",
      "((3, 1), (0, 1), (0, 0), (3, 0)) 0.3108533766756\n",
      "((3, 1), (0, 1), (2, 0), (1, 0)) 0.0983952893027\n",
      "((3, 1), (1, 1), (1, 0), (3, 0)) 0.3108533766756\n",
      "((3, 1), (1, 1), (3, 0), (1, 0)) 0.0983952893027\n",
      "((3, 1), (2, 1), (0, 0), (1, 0)) 0.0983952893027\n",
      "((3, 1), (2, 1), (2, 0), (3, 0)) 0.3265353672724\n",
      "((3, 1), (3, 1), (1, 0), (1, 0)) 0.0983952893027\n",
      "((3, 1), (3, 1), (3, 0), (3, 0)) 0.3265353672724\n",
      "\n"
     ]
    }
   ],
   "source": [
    "molecular_hamiltonian = molecule.get_molecular_hamiltonian()[0]\n",
    "print(molecular_hamiltonian)"
   ]
  },
  {
   "cell_type": "markdown",
   "metadata": {},
   "source": [
    "and encode it into the qubit Hamiltonian thanks to the Jordan-Wigner transformation, provided by OpenFermion:"
   ]
  },
  {
   "cell_type": "code",
   "execution_count": 12,
   "metadata": {},
   "outputs": [
    {
     "name": "stdout",
     "output_type": "stream",
     "text": [
      "-0.32760821099250037 [] +\n",
      "-0.04919764465135 [X0 X1 Y2 Y3] +\n",
      "0.04919764465135 [X0 Y1 Y2 X3] +\n",
      "0.04919764465135 [Y0 X1 X2 Y3] +\n",
      "-0.04919764465135 [Y0 Y1 X2 X3] +\n",
      "0.13716573333275 [Z0] +\n",
      "0.156600623168 [Z0 Z1] +\n",
      "0.10622904368644998 [Z0 Z2] +\n",
      "0.1554266883378 [Z0 Z3] +\n",
      "0.13716573333275 [Z1] +\n",
      "0.1554266883378 [Z1 Z2] +\n",
      "0.10622904368644998 [Z1 Z3] +\n",
      "-0.13036290911284995 [Z2] +\n",
      "0.1632676836362 [Z2 Z3] +\n",
      "-0.13036290911284995 [Z3]\n"
     ]
    }
   ],
   "source": [
    "from openfermion.transforms import jordan_wigner\n",
    "\n",
    "qubit_hamiltonian = jordan_wigner(molecular_hamiltonian)\n",
    "print(qubit_hamiltonian)"
   ]
  },
  {
   "cell_type": "markdown",
   "metadata": {},
   "source": [
    "The energies calculated from the Dirac program are extracted as follows:"
   ]
  },
  {
   "cell_type": "code",
   "execution_count": 13,
   "metadata": {},
   "outputs": [
    {
     "name": "stdout",
     "output_type": "stream",
     "text": [
      "Hartree-Fock energy of -1.0661086531285879 Hartree.\n",
      "MP2 energy of -1.086665367911370 Hartree.\n",
      "CCSD energy of -1.101150333280237 Hartree.\n"
     ]
    }
   ],
   "source": [
    "print('Hartree-Fock energy of {} Hartree.'.format(molecule.get_energies()[0]))\n",
    "print('MP2 energy of {} Hartree.'.format(molecule.get_energies()[1]))\n",
    "print('CCSD energy of {} Hartree.'.format(molecule.get_energies()[2]))"
   ]
  },
  {
   "cell_type": "markdown",
   "metadata": {},
   "source": [
    "Note that it is usual to set consider the point nucleus model instead of the Gaussian charge distribution (default)\n",
    "in a non-relativistic calculation. This can be set by specifying:"
   ]
  },
  {
   "cell_type": "code",
   "execution_count": 14,
   "metadata": {},
   "outputs": [
    {
     "name": "stdout",
     "output_type": "stream",
     "text": [
      "Hartree-Fock energy of -1.0661086541045273 Hartree.\n",
      "MP2 energy of -1.086665368896307 Hartree.\n",
      "CCSD energy of -1.101150334281559 Hartree.\n"
     ]
    }
   ],
   "source": [
    "point_nucleus = True\n",
    "\n",
    "molecule = run_dirac(molecule,\n",
    "                    delete_input=delete_input,\n",
    "                    delete_xyz=delete_xyz,\n",
    "                    delete_output=delete_output,\n",
    "                    delete_MRCONEE=delete_MRCONEE,\n",
    "                    delete_MDCINT=delete_MDCINT,\n",
    "                    run_ccsd=run_ccsd,\n",
    "                    point_nucleus=point_nucleus)\n",
    "\n",
    "print('Hartree-Fock energy of {} Hartree.'.format(molecule.get_energies()[0]))\n",
    "print('MP2 energy of {} Hartree.'.format(molecule.get_energies()[1]))\n",
    "print('CCSD energy of {} Hartree.'.format(molecule.get_energies()[2]))"
   ]
  },
  {
   "cell_type": "markdown",
   "metadata": {},
   "source": [
    "We can observe small changes in the energies. Then one can build the qubit Hamiltonian, which operates in the Fock space (i.e., independently of the number of particle) and is solved\n",
    "in OpenFermion with the eigenspectrum function:"
   ]
  },
  {
   "cell_type": "code",
   "execution_count": 15,
   "metadata": {},
   "outputs": [
    {
     "name": "stdout",
     "output_type": "stream",
     "text": [
      "Solving the Qubit Hamiltonian (Jordan-Wigner): \n",
      " [-1.10115033 -0.74587181 -0.74587181 -0.74587181 -0.60860674 -0.60860674\n",
      " -0.58166697 -0.58166697 -0.35229065 -0.06021533 -0.06021533 -0.0599438\n",
      " -0.0599438   0.0390476   0.50196591  0.52917721]\n"
     ]
    }
   ],
   "source": [
    "from openfermion.utils import eigenspectrum\n",
    "\n",
    "evs = eigenspectrum(qubit_hamiltonian)\n",
    "print('Solving the Qubit Hamiltonian (Jordan-Wigner): \\n {}'.format(evs))"
   ]
  },
  {
   "cell_type": "markdown",
   "metadata": {},
   "source": [
    "## FCI Calculation"
   ]
  },
  {
   "cell_type": "markdown",
   "metadata": {},
   "source": [
    "The FCI ground-state energy can also be calculated as follows (let us take the example of LiH, for which CCSD is not exact anymore)"
   ]
  },
  {
   "cell_type": "code",
   "execution_count": 16,
   "metadata": {},
   "outputs": [
    {
     "name": "stderr",
     "output_type": "stream",
     "text": [
      "/Users/bsenjean/Documents/Git_repositories/Openfermion-Dirac/openfermion_dirac/_run_dirac.py:146: Warning: run_fci is simply implemented to get the FCI ground-state energy for now. Using it to get anything else is highly not recommended. This option has not been tested meticulously and it might lead to errors depending on the system that you want to treat.\n",
      "  Warning)\n"
     ]
    },
    {
     "name": "stdout",
     "output_type": "stream",
     "text": [
      "Hartree-Fock energy of -7.7673621382862628 Hartree.\n",
      "MP2 energy of -7.778799092752027 Hartree.\n",
      "CCSD energy of -7.784454824479287 Hartree.\n",
      "FCI energy of -7.784460282090 Hartree.\n"
     ]
    }
   ],
   "source": [
    "geometry = [('Li', (0., 0., 0.)), ('H', (0., 0., bond_length))]\n",
    "run_fci = True\n",
    "description = 'R' + str(bond_length) + '_fci'\n",
    "\n",
    "molecule = MolecularData_Dirac(geometry=geometry,\n",
    "                               basis=basis,\n",
    "                               multiplicity=multiplicity,\n",
    "                               charge=charge,\n",
    "                               description=description,\n",
    "                               data_directory=data_directory)\n",
    "\n",
    "molecule_fci = run_dirac(molecule,\n",
    "                    point_nucleus=point_nucleus,\n",
    "                    delete_input=delete_input,\n",
    "                    delete_xyz=delete_xyz,\n",
    "                    delete_output=delete_output,\n",
    "                    delete_MRCONEE=delete_MRCONEE,\n",
    "                    delete_MDCINT=delete_MDCINT,\n",
    "                    run_fci=run_fci)\n",
    "\n",
    "# Let us compare with the CCSD energy:\n",
    "run_ccsd = True\n",
    "description = 'R' + str(bond_length) + '_ccsd'\n",
    "molecule = MolecularData_Dirac(geometry=geometry,\n",
    "                               basis=basis,\n",
    "                               multiplicity=multiplicity,\n",
    "                               charge=charge,\n",
    "                               description=description,\n",
    "                               data_directory=data_directory)\n",
    "\n",
    "molecule_ccsd = run_dirac(molecule,\n",
    "                    point_nucleus=point_nucleus,\n",
    "                    delete_input=delete_input,\n",
    "                    delete_xyz=delete_xyz,\n",
    "                    delete_output=delete_output,\n",
    "                    delete_MRCONEE=delete_MRCONEE,\n",
    "                    delete_MDCINT=delete_MDCINT,\n",
    "                    run_ccsd=run_ccsd)\n",
    "\n",
    "print('Hartree-Fock energy of {} Hartree.'.format(molecule_ccsd.get_energies()[0]))\n",
    "print('MP2 energy of {} Hartree.'.format(molecule_ccsd.get_energies()[1]))\n",
    "print('CCSD energy of {} Hartree.'.format(molecule_ccsd.get_energies()[2]))\n",
    "print('FCI energy of {} Hartree.'.format(molecule_fci.get_energies()[3]))"
   ]
  },
  {
   "cell_type": "markdown",
   "metadata": {},
   "source": [
    "## DFT Calculation"
   ]
  },
  {
   "cell_type": "markdown",
   "metadata": {},
   "source": [
    "Density-functional theory is one of the most widely used approach in quantum chemistry due to its mean-field-like formulation, thus leading to a much cheaper computational cost in comparison to multiconfigurational wavefunction methods. In Dirac program, several functionals are available (see http://www.diracprogram.org/doc/master/manual/dftcfun.html?highlight=dft) and can be called in this interface by specifying run_dirac=\"X\", where X is the choosen approximate exchange-correlation functional."
   ]
  },
  {
   "cell_type": "code",
   "execution_count": 17,
   "metadata": {},
   "outputs": [
    {
     "name": "stdout",
     "output_type": "stream",
     "text": [
      "DFT energy of -7.6988055970620017 Hartree.\n"
     ]
    }
   ],
   "source": [
    "run_dft=\"LDA\"\n",
    "description = 'R' + str(bond_length) + '_' + run_dft\n",
    "\n",
    "molecule = MolecularData_Dirac(geometry=geometry,\n",
    "                               basis=basis,\n",
    "                               multiplicity=multiplicity,\n",
    "                               charge=charge,\n",
    "                               description=description,\n",
    "                               data_directory=data_directory)\n",
    "\n",
    "molecule = run_dirac(molecule,\n",
    "                    fcidump=True,\n",
    "                    point_nucleus=point_nucleus,\n",
    "                    delete_input=delete_input,\n",
    "                    delete_xyz=delete_xyz,\n",
    "                    delete_output=delete_output,\n",
    "                    run_dft=run_dft)\n",
    "\n",
    "print('DFT energy of {} Hartree.'.format(molecule.get_energies()[0]))"
   ]
  },
  {
   "cell_type": "markdown",
   "metadata": {},
   "source": [
    "## Relativistic Calculation"
   ]
  },
  {
   "cell_type": "markdown",
   "metadata": {},
   "source": [
    "To perform a relativistic calculation by considering the full Dirac-Coulomb Hamiltonian, a simple option has to be switched on. Note that one should not switch on the ```point_nucleus``` option for relativistic calculation."
   ]
  },
  {
   "cell_type": "code",
   "execution_count": 18,
   "metadata": {},
   "outputs": [
    {
     "name": "stdout",
     "output_type": "stream",
     "text": [
      "Hartree-Fock energy of -1.0661226627178420 Hartree.\n",
      "MP2 energy of None Hartree.\n",
      "CCSD energy of None Hartree.\n",
      "Solving the Qubit Hamiltonian (Jordan-Wigner): \n",
      " [-1.1011657  -0.74591589 -0.74591589 -0.74591589 -0.60865735 -0.60865735\n",
      " -0.58167347 -0.58167347 -0.35233876 -0.06029881 -0.06029881 -0.05998437\n",
      " -0.05998437  0.03896802  0.50187888  0.52917721]\n"
     ]
    }
   ],
   "source": [
    "relativistic = True\n",
    "basis = \"STO-3G\"\n",
    "bond_length = 1.0\n",
    "multiplicity = 1\n",
    "charge = 0\n",
    "geometry = [('H', (0., 0., 0.)), ('H', (0., 0., bond_length))]\n",
    "\n",
    "run_ccsd = False\n",
    "if run_ccsd:\n",
    "    description = 'R' + str(bond_length) + '_ccsd'\n",
    "else:\n",
    "    description = 'R' + str(bond_length) + '_scf'\n",
    "\n",
    "molecule = MolecularData_Dirac(geometry=geometry,\n",
    "                               basis=basis,\n",
    "                               multiplicity=multiplicity,\n",
    "                               charge=charge,\n",
    "                               relativistic=relativistic,\n",
    "                               description=description,\n",
    "                               data_directory=data_directory)\n",
    "\n",
    "molecule = run_dirac(molecule,\n",
    "                    fcidump=fcidump,\n",
    "                    delete_input=delete_input,\n",
    "                    delete_xyz=delete_xyz,\n",
    "                    delete_output=delete_output,\n",
    "                    delete_MRCONEE=delete_MRCONEE,\n",
    "                    delete_MDCINT=delete_MDCINT,\n",
    "                    run_ccsd=run_ccsd,\n",
    "                    relativistic=relativistic)\n",
    "\n",
    "molecular_hamiltonian = molecule.get_molecular_hamiltonian()[0]\n",
    "qubit_hamiltonian = jordan_wigner(molecular_hamiltonian)\n",
    "evs = eigenspectrum(qubit_hamiltonian)\n",
    "print('Hartree-Fock energy of {} Hartree.'.format(molecule.get_energies()[0]))\n",
    "print('MP2 energy of {} Hartree.'.format(molecule.get_energies()[1]))\n",
    "print('CCSD energy of {} Hartree.'.format(molecule.get_energies()[2]))\n",
    "print('Solving the Qubit Hamiltonian (Jordan-Wigner): \\n {}'.format(evs))"
   ]
  },
  {
   "cell_type": "markdown",
   "metadata": {},
   "source": [
    "Small differences are seen between the relativistic energies and the non-relativistic ones obtained previously.\n",
    "Of course, the difference is quite small for the hydrogen molecule but it is known to be very important especially for heavy elements."
   ]
  },
  {
   "cell_type": "markdown",
   "metadata": {},
   "source": [
    "### Extraction of the CC amplitudes"
   ]
  },
  {
   "cell_type": "markdown",
   "metadata": {},
   "source": [
    "Not so much tested for now. I advise to keep ```relativistic=True```, as well as ```symmetry=False```.\n",
    "The format has been chosen to be the same as in the other interfaces with OpenFermion (like PySCF)."
   ]
  },
  {
   "cell_type": "code",
   "execution_count": 19,
   "metadata": {
    "scrolled": false
   },
   "outputs": [],
   "source": [
    "ccamp = True\n",
    "run_ccsd = True\n",
    "relativistic = True\n",
    "symmetry = False\n",
    "if run_ccsd:\n",
    "    description = 'ccsd'\n",
    "else:\n",
    "    description = 'scf'\n",
    "\n",
    "geometry = [('C', (0., 0., 0.))]\n",
    "\n",
    "molecule = MolecularData_Dirac(geometry=geometry,\n",
    "                               basis=basis,\n",
    "                               multiplicity=multiplicity,\n",
    "                               charge=charge,\n",
    "                               relativistic=relativistic,\n",
    "                               symmetry=symmetry,\n",
    "                               description=description,\n",
    "                               data_directory=data_directory)\n",
    "\n",
    "molecule = run_dirac(molecule,\n",
    "                    fcidump=fcidump,\n",
    "                    delete_input=delete_input,\n",
    "                    delete_xyz=delete_xyz,\n",
    "                    delete_output=delete_output,\n",
    "                    delete_MRCONEE=delete_MRCONEE,\n",
    "                    delete_MDCINT=delete_MDCINT,\n",
    "                    run_ccsd=run_ccsd,\n",
    "                    relativistic=relativistic,\n",
    "                    ccamp=ccamp,\n",
    "                    symmetry=symmetry)"
   ]
  },
  {
   "cell_type": "markdown",
   "metadata": {},
   "source": [
    "Then one can get rid of all zeros amplitudes. That can be used in the Uniraty Coupled Cluster ansatz in OpenFermion, as I show in the following:"
   ]
  },
  {
   "cell_type": "code",
   "execution_count": 28,
   "metadata": {},
   "outputs": [
    {
     "name": "stdout",
     "output_type": "stream",
     "text": [
      "CCSD single amps: [[[6, 0], (-2.8479639686390137e-15+7.498633762132461e-15j)], [[6, 1], (-3.436619775692146e-14+8.092745448695372e-15j)], [[6, 2], (6.567534181132371e-09+6.445848452565609e-09j)], [[6, 3], (-5.410140576966125e-15+7.591185700246384e-16j)], [[6, 4], (-1.708261607347372e-15+2.463621623749374e-14j)], [[6, 5], (8.067532605860823e-10-1.1255643531118557e-10j)], [[7, 0], (1.75984290496042e-14+6.0240893611982274e-15j)], [[7, 1], (1.2501724014782233e-13+7.649367587011334e-15j)], [[7, 2], (-9.529791772281856e-09-5.644778301946054e-09j)], [[7, 3], (-3.584295399181073e-15+6.5003602354509316e-15j)], [[7, 4], (3.337019811911488e-14-2.879755048539229e-14j)], [[7, 5], (1.195578335533789e-10-2.757511152289738e-09j)], [[8, 0], (5.324557199743825e-15+5.342924641019684e-16j)], [[8, 1], (-1.4683683260051967e-15+1.1522270125727205e-14j)], [[8, 2], (-8.067522073474275e-10-1.1255570857738251e-10j)], [[8, 3], (-2.7637053027362786e-15-7.550996266425162e-15j)], [[8, 4], (-2.485817160676186e-15-1.3781817633902433e-14j)], [[8, 5], (6.567539809968273e-09-6.44585021015331e-09j)], [[9, 0], (2.961489816617094e-15+6.505426189913421e-15j)], [[9, 1], (-3.583797687420075e-14-5.349121588259811e-14j)], [[9, 2], (-1.1952715535042032e-10-2.7575432860893357e-09j)], [[9, 3], (1.8680789782216076e-14-6.314594389282807e-15j)], [[9, 4], (1.3380004170956305e-13-2.547619386105211e-14j)], [[9, 5], (-9.529790385169902e-09+5.644775091431833e-09j)]]\n",
      "CCSD double amps: [[[6, 0, 7, 1], (1.5811293149306377e-13+2.474588290572417e-13j)], [[6, 0, 7, 2], (1.2296689830444956e-16+4.0611380152212813e-17j)], [[6, 0, 7, 3], (2.3678448096343855e-14-7.04106464451203e-15j)], [[6, 0, 7, 4], (-4.4176078236797234e-13-2.518605350879995e-14j)], [[6, 0, 7, 5], (-1.4075384916840933e-16+4.821291867737058e-17j)], [[6, 0, 8, 1], (-2.207850440514751e-14-9.482942041089898e-15j)], [[6, 0, 8, 2], (9.739924842754449e-16+3.996309227122714e-16j)], [[6, 0, 8, 3], (-0.0001715867318030119+3.602076021644978e-18j)], [[6, 0, 8, 4], (-0.0006260662279481931-4.618293779486494e-15j)], [[6, 0, 8, 5], (1.4800283014399504e-15-8.304500471743388e-16j)], [[6, 0, 9, 1], (-9.828494788307789e-14+1.5451822022575065e-12j)], [[6, 0, 9, 2], (4.983458038822076e-19+3.002037238287263e-16j)], [[6, 0, 9, 3], (-2.863058942458714e-14+1.766531165745837e-14j)], [[6, 0, 9, 4], (-5.519403452720856e-13-1.0648620516141488e-13j)], [[6, 0, 9, 5], (-5.751139432472592e-16+9.154158527906863e-18j)], [[6, 1, 7, 2], (-1.3823080289900879e-14+2.1912114573342588e-14j)], [[6, 1, 7, 3], (6.208249318497669e-13-2.8060567161794956e-14j)], [[6, 1, 7, 4], (6.213867377323981e-12-1.847744660969385e-12j)], [[6, 1, 7, 5], (5.98813011270742e-14-1.7507894255243613e-14j)], [[6, 1, 8, 2], (2.968730024510704e-14-3.360155685005892e-14j)], [[6, 1, 8, 3], (-0.0006260662279481861+4.650144269740836e-15j)], [[6, 1, 8, 4], (-0.040407097026408545+7.231741952722165e-16j)], [[6, 1, 8, 5], (8.88313175934778e-14+8.962406140479419e-15j)], [[6, 1, 9, 2], (-1.1357101593600564e-14-4.759065181664642e-14j)], [[6, 1, 9, 3], (3.3542634934757606e-13+2.4007777849325103e-13j)], [[6, 1, 9, 4], (-7.513312581231803e-12+4.636018814640747e-12j)], [[6, 1, 9, 5], (6.589927362726251e-14-3.4012913997889757e-14j)], [[6, 2, 7, 3], (-3.905146859238327e-16+1.0801296497086896e-16j)], [[6, 2, 7, 4], (6.741950553187732e-14-2.3205208781068185e-14j)], [[6, 2, 7, 5], (-4.081540880351457e-11+1.2137522975446663e-11j)], [[6, 2, 8, 3], (1.4418641463921969e-15+1.0504544216484317e-15j)], [[6, 2, 8, 4], (1.1153149830444907e-13-1.247145928396566e-14j)], [[6, 2, 8, 5], (-0.21874636759737953-4.738876195394322e-15j)], [[6, 2, 9, 3], (1.7493140747533538e-16+2.1735341792026274e-16j)], [[6, 2, 9, 4], (-3.805821554030374e-15-4.448403652942107e-14j)], [[6, 2, 9, 5], (4.935282614439994e-11-3.045065768379655e-11j)], [[6, 3, 7, 4], (1.8202943853157204e-13-1.2822636998758574e-12j)], [[6, 3, 7, 5], (1.7869475969369762e-17-2.4672493717495745e-16j)], [[6, 3, 8, 4], (-2.2036505058903718e-14+9.481243107584785e-15j)], [[6, 3, 8, 5], (9.98781883464848e-16-3.445629304978017e-16j)], [[6, 3, 9, 4], (-2.4331241292390046e-13+1.0900491978085487e-12j)], [[6, 3, 9, 5], (5.31670214542197e-18+1.0089428481102045e-16j)], [[6, 4, 7, 5], (-4.4703445997686245e-14+6.322554267671176e-16j)], [[6, 4, 8, 5], (2.4963819470533015e-14+6.401855323713986e-15j)], [[6, 4, 9, 5], (-1.4417122852775202e-14+7.987996254737794e-14j)], [[7, 0, 8, 1], (-2.433210214678039e-13-1.090049772746941e-12j)], [[7, 0, 8, 2], (1.2827354196884168e-16-8.737423786371665e-17j)], [[7, 0, 8, 3], (-2.8623695255518036e-14-1.767125764038992e-14j)], [[7, 0, 8, 4], (3.3545479259424924e-13-2.401055029983392e-13j)], [[7, 0, 8, 5], (-4.0153392923178863e-17-1.1775304790028763e-16j)], [[7, 0, 9, 1], (2.0584759735776682e-14+6.667199845211314e-15j)], [[7, 0, 9, 2], (9.923239429574257e-16+1.0294176808790818e-15j)], [[7, 0, 9, 3], (-0.00017158673531763712-1.9787844132240768e-18j)], [[7, 0, 9, 4], (-0.0006260662411235532+5.01895343271201e-15j)], [[7, 0, 9, 5], (1.8157887262069593e-15-7.427831441568292e-16j)], [[7, 1, 6, 0], (1.5811293149306377e-13+2.474588290572417e-13j)], [[7, 1, 8, 2], (-5.6516555907887385e-14-6.690109401493859e-14j)], [[7, 1, 8, 3], (-5.519155361804678e-13+1.064686624336665e-13j)], [[7, 1, 8, 4], (-7.511462653042226e-12-4.637582702096412e-12j)], [[7, 1, 8, 5], (1.460854677750297e-14+3.9331380156423834e-14j)], [[7, 1, 9, 2], (-3.979007070305344e-14-8.476566747903908e-15j)], [[7, 1, 9, 3], (-0.0006260662411235532-5.028947108576946e-15j)], [[7, 1, 9, 4], (-0.04040709792732233-7.30164382444635e-16j)], [[7, 1, 9, 5], (9.537438948618014e-14-1.7287035758662356e-14j)], [[7, 2, 6, 0], (1.2296689830444956e-16+4.0611380152212813e-17j)], [[7, 2, 6, 1], (-1.3823080289900879e-14+2.1912114573342588e-14j)], [[7, 2, 8, 3], (-5.944368548087157e-16+5.019380569534365e-17j)], [[7, 2, 8, 4], (7.888776338791851e-14+3.29735687651951e-14j)], [[7, 2, 8, 5], (4.9340848251266586e-11+3.046083469303908e-11j)], [[7, 2, 9, 3], (2.049535070666693e-15+1.0204671669739938e-15j)], [[7, 2, 9, 4], (5.4310406408446315e-14-3.834931332482452e-15j)], [[7, 2, 9, 5], (-0.21874636162395333+4.731428201497912e-15j)], [[7, 3, 6, 0], (2.3678448096343855e-14-7.04106464451203e-15j)], [[7, 3, 6, 1], (6.208249318497669e-13-2.8060567161794956e-14j)], [[7, 3, 6, 2], (-3.905146859238327e-16+1.0801296497086896e-16j)], [[7, 3, 8, 4], (-9.827204569570118e-14-1.545179955749747e-12j)], [[7, 3, 8, 5], (-2.815373865901889e-17-1.5619356958278254e-16j)], [[7, 3, 9, 4], (2.0613904178236373e-14-6.66632705134169e-15j)], [[7, 3, 9, 5], (9.820150270064727e-16-7.842746621554437e-16j)], [[7, 4, 6, 0], (-4.4176078236797234e-13-2.518605350879995e-14j)], [[7, 4, 6, 1], (6.213867377323981e-12-1.847744660969385e-12j)], [[7, 4, 6, 2], (6.741950553187732e-14-2.3205208781068185e-14j)], [[7, 4, 6, 3], (1.8202943853157204e-13-1.2822636998758574e-12j)], [[7, 4, 8, 5], (1.83863644594483e-14+4.685690772894102e-14j)], [[7, 4, 9, 5], (-4.242279054854341e-14-5.151277470722692e-14j)], [[7, 5, 6, 0], (-1.4075384916840933e-16+4.821291867737058e-17j)], [[7, 5, 6, 1], (5.98813011270742e-14-1.7507894255243613e-14j)], [[7, 5, 6, 2], (-4.081540880351457e-11+1.2137522975446663e-11j)], [[7, 5, 6, 3], (1.7869475969369762e-17-2.4672493717495745e-16j)], [[7, 5, 6, 4], (-4.4703445997686245e-14+6.322554267671176e-16j)], [[8, 0, 9, 1], (1.820230967085064e-13+1.2822670247781478e-12j)], [[8, 0, 9, 2], (4.6291461475869555e-17+4.447345173332257e-16j)], [[8, 0, 9, 3], (2.3683548017051157e-14+7.019311840641542e-15j)], [[8, 0, 9, 4], (6.20846281113351e-13+2.7978303627185043e-14j)], [[8, 0, 9, 5], (-4.754258123808346e-16-1.2556526742217064e-16j)], [[8, 1, 6, 0], (-2.207850440514751e-14-9.482942041089898e-15j)], [[8, 1, 7, 0], (-2.433210214678039e-13-1.090049772746941e-12j)], [[8, 1, 9, 2], (-3.526652116392046e-14-1.2885088381123048e-14j)], [[8, 1, 9, 3], (-4.4174282331209364e-13+2.5103965091571025e-14j)], [[8, 1, 9, 4], (6.215266325548459e-12+1.8420436389183508e-12j)], [[8, 1, 9, 5], (9.77173804331112e-14+2.751755312168852e-14j)], [[8, 2, 6, 0], (9.739924842754449e-16+3.996309227122714e-16j)], [[8, 2, 6, 1], (2.968730024510704e-14-3.360155685005892e-14j)], [[8, 2, 7, 0], (1.2827354196884168e-16-8.737423786371665e-17j)], [[8, 2, 7, 1], (-5.6516555907887385e-14-6.690109401493859e-14j)], [[8, 2, 9, 3], (-2.416016519129965e-16-7.175331211031578e-17j)], [[8, 2, 9, 4], (7.111788411430027e-14-3.978843638141935e-15j)], [[8, 2, 9, 5], (-4.082425896619466e-11-1.2100292528416446e-11j)], [[8, 3, 6, 0], (-0.0001715867318030119+3.602076021644978e-18j)], [[8, 3, 6, 1], (-0.0006260662279481861+4.650144269740836e-15j)], [[8, 3, 6, 2], (1.4418641463921969e-15+1.0504544216484317e-15j)], [[8, 3, 7, 0], (-2.8623695255518036e-14-1.767125764038992e-14j)], [[8, 3, 7, 1], (-5.519155361804678e-13+1.064686624336665e-13j)], [[8, 3, 7, 2], (-5.944368548087157e-16+5.019380569534365e-17j)], [[8, 3, 9, 4], (1.5810500629801017e-13-2.474620561288019e-13j)], [[8, 3, 9, 5], (1.8356004896465774e-16-2.5211245062876274e-16j)], [[8, 4, 6, 0], (-0.0006260662279481931-4.618293779486494e-15j)], [[8, 4, 6, 1], (-0.040407097026408545+7.231741952722165e-16j)], [[8, 4, 6, 2], (1.1153149830444907e-13-1.247145928396566e-14j)], [[8, 4, 6, 3], (-2.2036505058903718e-14+9.481243107584785e-15j)], [[8, 4, 7, 0], (3.3545479259424924e-13-2.401055029983392e-13j)], [[8, 4, 7, 1], (-7.511462653042226e-12-4.637582702096412e-12j)], [[8, 4, 7, 2], (7.888776338791851e-14+3.29735687651951e-14j)], [[8, 4, 7, 3], (-9.827204569570118e-14-1.545179955749747e-12j)], [[8, 4, 9, 5], (-1.1515569792974014e-14+2.1323947812824695e-14j)], [[8, 5, 6, 0], (1.4800283014399504e-15-8.304500471743388e-16j)], [[8, 5, 6, 1], (8.88313175934778e-14+8.962406140479419e-15j)], [[8, 5, 6, 2], (-0.21874636759737953-4.738876195394322e-15j)], [[8, 5, 6, 3], (9.98781883464848e-16-3.445629304978017e-16j)], [[8, 5, 6, 4], (2.4963819470533015e-14+6.401855323713986e-15j)], [[8, 5, 7, 0], (-4.0153392923178863e-17-1.1775304790028763e-16j)], [[8, 5, 7, 1], (1.460854677750297e-14+3.9331380156423834e-14j)], [[8, 5, 7, 2], (4.9340848251266586e-11+3.046083469303908e-11j)], [[8, 5, 7, 3], (-2.815373865901889e-17-1.5619356958278254e-16j)], [[8, 5, 7, 4], (1.83863644594483e-14+4.685690772894102e-14j)], [[9, 1, 6, 0], (-9.828494788307789e-14+1.5451822022575065e-12j)], [[9, 1, 7, 0], (2.0584759735776682e-14+6.667199845211314e-15j)], [[9, 1, 8, 0], (1.820230967085064e-13+1.2822670247781478e-12j)], [[9, 2, 6, 0], (4.983458038822076e-19+3.002037238287263e-16j)], [[9, 2, 6, 1], (-1.1357101593600564e-14-4.759065181664642e-14j)], [[9, 2, 7, 0], (9.923239429574257e-16+1.0294176808790818e-15j)], [[9, 2, 7, 1], (-3.979007070305344e-14-8.476566747903908e-15j)], [[9, 2, 8, 0], (4.6291461475869555e-17+4.447345173332257e-16j)], [[9, 2, 8, 1], (-3.526652116392046e-14-1.2885088381123048e-14j)], [[9, 3, 6, 0], (-2.863058942458714e-14+1.766531165745837e-14j)], [[9, 3, 6, 1], (3.3542634934757606e-13+2.4007777849325103e-13j)], [[9, 3, 6, 2], (1.7493140747533538e-16+2.1735341792026274e-16j)], [[9, 3, 7, 0], (-0.00017158673531763712-1.9787844132240768e-18j)], [[9, 3, 7, 1], (-0.0006260662411235532-5.028947108576946e-15j)], [[9, 3, 7, 2], (2.049535070666693e-15+1.0204671669739938e-15j)], [[9, 3, 8, 0], (2.3683548017051157e-14+7.019311840641542e-15j)], [[9, 3, 8, 1], (-4.4174282331209364e-13+2.5103965091571025e-14j)], [[9, 3, 8, 2], (-2.416016519129965e-16-7.175331211031578e-17j)], [[9, 4, 6, 0], (-5.519403452720856e-13-1.0648620516141488e-13j)], [[9, 4, 6, 1], (-7.513312581231803e-12+4.636018814640747e-12j)], [[9, 4, 6, 2], (-3.805821554030374e-15-4.448403652942107e-14j)], [[9, 4, 6, 3], (-2.4331241292390046e-13+1.0900491978085487e-12j)], [[9, 4, 7, 0], (-0.0006260662411235532+5.01895343271201e-15j)], [[9, 4, 7, 1], (-0.04040709792732233-7.30164382444635e-16j)], [[9, 4, 7, 2], (5.4310406408446315e-14-3.834931332482452e-15j)], [[9, 4, 7, 3], (2.0613904178236373e-14-6.66632705134169e-15j)], [[9, 4, 8, 0], (6.20846281113351e-13+2.7978303627185043e-14j)], [[9, 4, 8, 1], (6.215266325548459e-12+1.8420436389183508e-12j)], [[9, 4, 8, 2], (7.111788411430027e-14-3.978843638141935e-15j)], [[9, 4, 8, 3], (1.5810500629801017e-13-2.474620561288019e-13j)], [[9, 5, 6, 0], (-5.751139432472592e-16+9.154158527906863e-18j)], [[9, 5, 6, 1], (6.589927362726251e-14-3.4012913997889757e-14j)], [[9, 5, 6, 2], (4.935282614439994e-11-3.045065768379655e-11j)], [[9, 5, 6, 3], (5.31670214542197e-18+1.0089428481102045e-16j)], [[9, 5, 6, 4], (-1.4417122852775202e-14+7.987996254737794e-14j)], [[9, 5, 7, 0], (1.8157887262069593e-15-7.427831441568292e-16j)], [[9, 5, 7, 1], (9.537438948618014e-14-1.7287035758662356e-14j)], [[9, 5, 7, 2], (-0.21874636162395333+4.731428201497912e-15j)], [[9, 5, 7, 3], (9.820150270064727e-16-7.842746621554437e-16j)], [[9, 5, 7, 4], (-4.242279054854341e-14-5.151277470722692e-14j)], [[9, 5, 8, 0], (-4.754258123808346e-16-1.2556526742217064e-16j)], [[9, 5, 8, 1], (9.77173804331112e-14+2.751755312168852e-14j)], [[9, 5, 8, 2], (-4.082425896619466e-11-1.2100292528416446e-11j)], [[9, 5, 8, 3], (1.8356004896465774e-16-2.5211245062876274e-16j)], [[9, 5, 8, 4], (-1.1515569792974014e-14+2.1323947812824695e-14j)]]\n"
     ]
    },
    {
     "name": "stdout",
     "output_type": "stream",
     "text": [
      "HF energy                   : -37.150906473292835\n",
      "MP2 energy                  : -37.176836384946121\n",
      "CCSD energy                 : -37.225100751081243\n",
      "CCSD energy (OpenFermion)   : (-37.1509064732982-3.724403869077578e-18j)\n",
      "UCCSD energy (OpenFermion)  : (-36.91163873166512-1.6977278802615755e-10j)\n"
     ]
    }
   ],
   "source": [
    "def _cut_ccsd_amplitudes(single_amplitudes, double_amplitudes, threshold):\n",
    "    if not (isinstance(single_amplitudes, list) or isinstance(double_amplitudes, list)):\n",
    "        raise TypeError('Input amplitudes must be a list.')\n",
    "    sing_amp = single_amplitudes[:]\n",
    "    doub_amp = double_amplitudes[:]\n",
    "    list_sing_amp_del = []\n",
    "    list_doub_amp_del = []\n",
    "    for i in range(len(single_amplitudes)):\n",
    "        if (abs(single_amplitudes[i][1]) < threshold):\n",
    "            list_sing_amp_del.append(i)\n",
    "    for i in range(len(double_amplitudes)):     \n",
    "        if (abs(double_amplitudes[i][1]) < threshold):\n",
    "            list_doub_amp_del.append(i)\n",
    "    # Get rid of all zeros:\n",
    "    for i in sorted(list_sing_amp_del, reverse=True):\n",
    "        del sing_amp[i]\n",
    "    for i in sorted(list_doub_amp_del, reverse=True):\n",
    "        del doub_amp[i]\n",
    "    return sing_amp, doub_amp\n",
    "\n",
    "from openfermion import *\n",
    "from scipy.sparse.linalg import expm_multiply\n",
    "\n",
    "# INITIALIZE OBJECT, HF STATE AND HAMILTONIAN\n",
    "mol_ham = molecule.get_molecular_hamiltonian()[0]\n",
    "hf_state = jw_hartree_fock_state(molecule.n_electrons,molecule.n_orbitals)\n",
    "hamiltonian_matrix = get_sparse_operator(mol_ham)\n",
    "\n",
    "# TRUNCATE AMPLITUDES:\n",
    "threshold = 0\n",
    "sing_amps, doub_amps = uccsd_convert_amplitude_format(molecule.get_ccamps()[0], molecule.get_ccamps()[1])\n",
    "sing_amps_trunc, doub_amps_trunc = _cut_ccsd_amplitudes(sing_amps,doub_amps,threshold)\n",
    "print(\"CCSD single amps: {}\".format(sing_amps_trunc))\n",
    "print(\"CCSD double amps: {}\".format(doub_amps_trunc))\n",
    "packed_amps = uccsd_singlet_get_packed_amplitudes(molecule.get_ccamps()[0], molecule.get_ccamps()[1], molecule.n_qubits, molecule.n_electrons)\n",
    "\n",
    "# CCSD ENERGY\n",
    "ccsd_op = uccsd_singlet_generator(packed_amps,molecule.n_qubits,molecule.n_electrons,anti_hermitian=False)\n",
    "ccsd_sparse_r = jordan_wigner_sparse(ccsd_op)\n",
    "ccsd_sparse_l = jordan_wigner_sparse(-hermitian_conjugated(ccsd_op))\n",
    "ccsd_state_r = expm_multiply(ccsd_sparse_r,hf_state)\n",
    "ccsd_state_l = expm_multiply(ccsd_sparse_l,hf_state)\n",
    "expected_ccsd_energy = ccsd_state_l.conjugate().dot(hamiltonian_matrix.dot(ccsd_state_r))\n",
    "\n",
    "uccsd_op = uccsd_generator(sing_amps_trunc, doub_amps_trunc, anti_hermitian=True)\n",
    "uccsd_sparse = jordan_wigner_sparse(uccsd_op)\n",
    "uccsd_state = expm_multiply(uccsd_sparse,hf_state)\n",
    "expected_uccsd_energy = expectation(hamiltonian_matrix,uccsd_state)\n",
    "\n",
    "print(\"HF energy                   : {}\".format(molecule.get_energies()[0]))\n",
    "print(\"MP2 energy                  : {}\".format(molecule.get_energies()[1]))\n",
    "print(\"CCSD energy                 : {}\".format(molecule.get_energies()[2]))\n",
    "print(\"CCSD energy (OpenFermion)   : {}\".format(expected_ccsd_energy))\n",
    "print(\"UCCSD energy (OpenFermion)  : {}\".format(expected_uccsd_energy))"
   ]
  },
  {
   "cell_type": "markdown",
   "metadata": {},
   "source": [
    "### Change the speed of light"
   ]
  },
  {
   "cell_type": "markdown",
   "metadata": {},
   "source": [
    "One can play with the speed of light (137 a.u.) in order to increase the relativistic effects:"
   ]
  },
  {
   "cell_type": "code",
   "execution_count": 18,
   "metadata": {},
   "outputs": [
    {
     "name": "stdout",
     "output_type": "stream",
     "text": [
      "Hartree-Fock energy of -1.0942741633461521 Hartree.\n",
      "MP2 energy of None Hartree.\n",
      "CCSD energy of None Hartree.\n",
      "Solving the Qubit Hamiltonian (Jordan-Wigner): \n",
      " [-1.13213496 -0.82925112 -0.82925112 -0.82925112 -0.70678081 -0.70678081\n",
      " -0.59452925 -0.59452925 -0.44310418 -0.21989424 -0.21989424 -0.13468642\n",
      " -0.13468642 -0.10968398  0.33171782  0.52917721]\n"
     ]
    }
   ],
   "source": [
    "speed_of_light = 3.0\n",
    "geometry = [('H', (0., 0., 0.)), ('H', (0., 0., bond_length))]\n",
    "\n",
    "run_ccsd = False\n",
    "if run_ccsd:\n",
    "    description = 'R' + str(bond_length) + '_ccsd'\n",
    "else:\n",
    "    description = 'R' + str(bond_length) + '_scf'\n",
    "\n",
    "molecule = MolecularData_Dirac(geometry=geometry,\n",
    "                               basis=basis,\n",
    "                               multiplicity=multiplicity,\n",
    "                               charge=charge,\n",
    "                               speed_of_light=speed_of_light,\n",
    "                               description=description,\n",
    "                               relativistic=relativistic,\n",
    "                               data_directory=data_directory)\n",
    "\n",
    "molecule = run_dirac(molecule,\n",
    "                    fcidump=fcidump,\n",
    "                    delete_input=delete_input,\n",
    "                    delete_xyz=delete_xyz,\n",
    "                    delete_output=delete_output,\n",
    "                    delete_MRCONEE=delete_MRCONEE,\n",
    "                    delete_MDCINT=delete_MDCINT,\n",
    "                    run_ccsd=run_ccsd,\n",
    "                    relativistic=relativistic,\n",
    "                    speed_of_light=speed_of_light)\n",
    "\n",
    "molecular_hamiltonian = molecule.get_molecular_hamiltonian()[0]\n",
    "qubit_hamiltonian = jordan_wigner(molecular_hamiltonian)\n",
    "evs = eigenspectrum(qubit_hamiltonian)\n",
    "print('Hartree-Fock energy of {} Hartree.'.format(molecule.get_energies()[0]))\n",
    "print('MP2 energy of {} Hartree.'.format(molecule.get_energies()[1]))\n",
    "print('CCSD energy of {} Hartree.'.format(molecule.get_energies()[2]))\n",
    "print('Solving the Qubit Hamiltonian (Jordan-Wigner): \\n {}'.format(evs))"
   ]
  },
  {
   "cell_type": "markdown",
   "metadata": {},
   "source": [
    "The change in energy is now much more important, showing the significance of considering relativistic effects in this case."
   ]
  },
  {
   "cell_type": "markdown",
   "metadata": {},
   "source": [
    "## Active space option"
   ]
  },
  {
   "cell_type": "markdown",
   "metadata": {},
   "source": [
    "Let us take the example of the lithium hydride molecule LiH:"
   ]
  },
  {
   "cell_type": "code",
   "execution_count": 19,
   "metadata": {},
   "outputs": [],
   "source": [
    "basis = 'STO-3G'\n",
    "bond_length = 2.0\n",
    "multiplicity = 1\n",
    "charge = 0\n",
    "\n",
    "delete_input = True\n",
    "delete_xyz = True\n",
    "delete_output = False\n",
    "delete_MRCONEE = True\n",
    "delete_MDCINT = True\n",
    "delete_FCIDUMP = False\n",
    "geometry = [('Li', (0., 0., 0.)), ('H', (0., 0., bond_length))]\n",
    "description = \"_R\" + str(bond_length) + \"_scf\"\n",
    "\n",
    "molecule = MolecularData_Dirac(geometry=geometry,\n",
    "                               basis=basis,\n",
    "                               multiplicity=multiplicity,\n",
    "                               charge=charge,\n",
    "                               description=description,\n",
    "                               data_directory=data_directory)"
   ]
  },
  {
   "cell_type": "markdown",
   "metadata": {},
   "source": [
    "The option ```active``` is a list of 3 real numbers:\n",
    "- first number : lowest energy\n",
    "- second number : highest energy\n",
    "- third number : minimum gap required between the lowest (highest) minimum gap required between the neighbor energy of the lowest and highest energy set previously. If the gap is lower than this number, the lowest (or highest) energy is shifted down (or up) until the gap is larger to the third number.\n",
    "\n",
    "The orbitals with energy in between the first and second number are considered active. Of course, one should choose the active space such that no orbital with energy higher than the second number is occupied, and such that the relevant orbitals are considered active.\n",
    "The electrons in the core orbitals (with energy below the first number) are frozen, while the orbitals with energy higher than the second number are discarded."
   ]
  },
  {
   "cell_type": "markdown",
   "metadata": {},
   "source": [
    "For LiH, let's first do a calculation to have information on the orbital energies. To get the orbitals, we only need the SCF calculation which is the default (i.e., switch-off ```run_ccsd```)."
   ]
  },
  {
   "cell_type": "code",
   "execution_count": 20,
   "metadata": {},
   "outputs": [
    {
     "name": "stdout",
     "output_type": "stream",
     "text": [
      "Hartree-Fock energy of -7.8309055873879219 Hartree.\n",
      "No file found. You should first run a calculation with save=True (see LiH_save.py)\n"
     ]
    },
    {
     "name": "stderr",
     "output_type": "stream",
     "text": [
      "/Users/bsenjean/Documents/Git_repositories/Openfermion-Dirac/openfermion_dirac/_run_dirac.py:432: Warning: Error in saving results. Check that fcidump is set to True.\n",
      "  Warning)\n"
     ]
    },
    {
     "ename": "SystemExit",
     "evalue": "0",
     "output_type": "error",
     "traceback": [
      "An exception has occurred, use %tb to see the full traceback.\n",
      "\u001b[0;31mSystemExit\u001b[0m\u001b[0;31m:\u001b[0m 0\n"
     ]
    },
    {
     "name": "stderr",
     "output_type": "stream",
     "text": [
      "/Users/bsenjean/psi4conda/lib/python3.7/site-packages/IPython/core/interactiveshell.py:3334: UserWarning: To exit: use 'exit', 'quit', or Ctrl-D.\n",
      "  warn(\"To exit: use 'exit', 'quit', or Ctrl-D.\", stacklevel=1)\n"
     ]
    }
   ],
   "source": [
    "import sys\n",
    "save = True\n",
    "point_nucleus=True\n",
    "\n",
    "molecule = run_dirac(molecule,\n",
    "                    fcidump=fcidump,\n",
    "                    point_nucleus=point_nucleus,\n",
    "                    delete_input=delete_input,\n",
    "                    delete_xyz=delete_xyz,\n",
    "                    delete_output=delete_output,\n",
    "                    delete_MRCONEE=delete_MRCONEE,\n",
    "                    delete_MDCINT=delete_MDCINT,\n",
    "                    save=save)\n",
    "\n",
    "print('Hartree-Fock energy of {} Hartree.'.format(molecule.get_energies()[0]))\n",
    "\n",
    "# This could be done to check if the saving file exist already or not.\n",
    "#if os.path.exists(\"{}/{}.hdf5\".format(data_directory,molecule.name)) is False:\n",
    "if os.path.exists(\"{}.hdf5\".format(molecule.filename)) is False:\n",
    "    print(\"No file found. You should first run a calculation with save=True (see LiH_save.py)\")\n",
    "    sys.exit(0)\n",
    "\n",
    "print(\"The spin-orbitals and their associated energy:{}\\n\".format(molecule.get_from_file(\"orbital_energies\")))\n",
    "\n",
    "molecular_hamiltonian = molecule.get_molecular_hamiltonian()[0]\n",
    "qubit_hamiltonian = jordan_wigner(molecular_hamiltonian)\n",
    "evs = eigenspectrum(qubit_hamiltonian)\n",
    "print(evs)"
   ]
  },
  {
   "cell_type": "markdown",
   "metadata": {},
   "source": [
    "LiH is a system with 4 electrons. We see that the first spatial orbital (indexed by 1 and 2) has an energy much lower than the second one (indexed by 3 and 4). Consequently, one can freeze the two electrons in this orbital and consider only the 2 other electrons as active. We can also get rid of the last spatial orbital with the highest energy. By doing so, only 8 spin-orbitals with 2 electrons will form our active space."
   ]
  },
  {
   "cell_type": "code",
   "execution_count": null,
   "metadata": {
    "scrolled": true
   },
   "outputs": [],
   "source": [
    "active = [-2.0,0.3,0.1]\n",
    "\n",
    "run_ccsd=True\n",
    "\n",
    "molecule = run_dirac(molecule,\n",
    "                    fcidump=fcidump,\n",
    "                    point_nucleus=point_nucleus,\n",
    "                    delete_input=delete_input,\n",
    "                    delete_xyz=delete_xyz,\n",
    "                    delete_output=delete_output,\n",
    "                    delete_MRCONEE=delete_MRCONEE,\n",
    "                    delete_MDCINT=delete_MDCINT,\n",
    "                    run_ccsd=run_ccsd,\n",
    "                    active=active)\n",
    "\n",
    "molecular_hamiltonian = molecule.get_molecular_hamiltonian()[0]\n",
    "qubit_hamiltonian = jordan_wigner(molecular_hamiltonian)\n",
    "evs = eigenspectrum(qubit_hamiltonian)\n",
    "print('Hartree-Fock energy of {} Hartree.'.format(molecule.get_energies()[0]))\n",
    "print('MP2 energy of {} Hartree.'.format(molecule.get_energies()[1]))\n",
    "print('CCSD energy of {} Hartree.'.format(molecule.get_energies()[2]))\n",
    "print('Ground-state energy of {} Hartree'.format(evs[0]))"
   ]
  },
  {
   "cell_type": "markdown",
   "metadata": {},
   "source": [
    "The calculation is much faster than if all the spin-orbitals are considered active, at the expense of a lower accuracy."
   ]
  },
  {
   "cell_type": "markdown",
   "metadata": {},
   "source": [
    "Another way to perform select an active space is to use orbital indexes. We will use the flexibility of DIRAC implementation to do so.\n",
    "Following DIRAC manual (http://www.diracprogram.org/doc/master/manual/orbital_strings.html#orbital-strings):\n",
    "\n",
    "\"A character string is given where individual orbitals are listed separated by a comma or as a range of orbitals. The range limit is then separated by \"..\". For instance the orbital string:\n",
    "\"1..5,7\"\n",
    "This picks out the five lower positive energy (\"electronic\") orbitals plus positive energy orbital number seven.\n",
    "Note that the index start at 1, and that it correspond to spatial-orbitals and not spin-orbitals."
   ]
  },
  {
   "cell_type": "code",
   "execution_count": null,
   "metadata": {},
   "outputs": [],
   "source": [
    "active = \"2..5\"\n",
    "\n",
    "run_ccsd=True\n",
    "\n",
    "molecule = run_dirac(molecule,\n",
    "                    fcidump=fcidump,\n",
    "                    point_nucleus=point_nucleus,\n",
    "                    delete_input=delete_input,\n",
    "                    delete_xyz=delete_xyz,\n",
    "                    delete_output=delete_output,\n",
    "                    delete_MRCONEE=delete_MRCONEE,\n",
    "                    delete_MDCINT=delete_MDCINT,\n",
    "                    run_ccsd=run_ccsd,\n",
    "                    active=active)\n",
    "\n",
    "molecular_hamiltonian = molecule.get_molecular_hamiltonian()[0]\n",
    "qubit_hamiltonian = jordan_wigner(molecular_hamiltonian)\n",
    "evs = eigenspectrum(qubit_hamiltonian)\n",
    "print('Hartree-Fock energy of {} Hartree.'.format(molecule.get_energies()[0]))\n",
    "print('MP2 energy of {} Hartree.'.format(molecule.get_energies()[1]))\n",
    "print('CCSD energy of {} Hartree.'.format(molecule.get_energies()[2]))\n",
    "print('Ground-state energy of {} Hartree'.format(evs[0]))\n",
    "\n",
    "print(\"\\nLet's add the last virtual orbitals:\\n\")\n",
    "active = \"2..5,6\"\n",
    "\n",
    "run_ccsd=True\n",
    "\n",
    "molecule = run_dirac(molecule,\n",
    "                    fcidump=fcidump,\n",
    "                    point_nucleus=point_nucleus,\n",
    "                    delete_input=delete_input,\n",
    "                    delete_xyz=delete_xyz,\n",
    "                    delete_output=delete_output,\n",
    "                    delete_MRCONEE=delete_MRCONEE,\n",
    "                    delete_MDCINT=delete_MDCINT,\n",
    "                    run_ccsd=run_ccsd,\n",
    "                    active=active)\n",
    "\n",
    "molecular_hamiltonian = molecule.get_molecular_hamiltonian()[0]\n",
    "qubit_hamiltonian = jordan_wigner(molecular_hamiltonian)\n",
    "evs = eigenspectrum(qubit_hamiltonian)\n",
    "print('Hartree-Fock energy of {} Hartree.'.format(molecule.get_energies()[0]))\n",
    "print('MP2 energy of {} Hartree.'.format(molecule.get_energies()[1]))\n",
    "print('CCSD energy of {} Hartree.'.format(molecule.get_energies()[2]))\n",
    "print('Ground-state energy of {} Hartree'.format(evs[0]))\n",
    "\n",
    "print(\"\\nLet's do something crazy:\\n\")\n",
    "active = \"1,3,5,6\"\n",
    "\n",
    "run_ccsd=True\n",
    "\n",
    "molecule = run_dirac(molecule,\n",
    "                    fcidump=fcidump,\n",
    "                    point_nucleus=point_nucleus,\n",
    "                    delete_input=delete_input,\n",
    "                    delete_xyz=delete_xyz,\n",
    "                    delete_output=delete_output,\n",
    "                    delete_MRCONEE=delete_MRCONEE,\n",
    "                    delete_MDCINT=delete_MDCINT,\n",
    "                    run_ccsd=run_ccsd,\n",
    "                    active=active)\n",
    "\n",
    "molecular_hamiltonian = molecule.get_molecular_hamiltonian()[0]\n",
    "qubit_hamiltonian = jordan_wigner(molecular_hamiltonian)\n",
    "evs = eigenspectrum(qubit_hamiltonian)\n",
    "print('Hartree-Fock energy of {} Hartree.'.format(molecule.get_energies()[0]))\n",
    "print('MP2 energy of {} Hartree.'.format(molecule.get_energies()[1]))\n",
    "print('CCSD energy of {} Hartree.'.format(molecule.get_energies()[2]))\n",
    "print('Ground-state energy of {} Hartree'.format(evs[0]))"
   ]
  },
  {
   "cell_type": "markdown",
   "metadata": {},
   "source": [
    "One can see that MP2 and CCSD energies are also changing, because only the amplitudes of active orbitals will be considered."
   ]
  },
  {
   "cell_type": "markdown",
   "metadata": {},
   "source": [
    "# Other more specific options"
   ]
  },
  {
   "cell_type": "markdown",
   "metadata": {},
   "source": [
    "## Getting other important files"
   ]
  },
  {
   "cell_type": "markdown",
   "metadata": {},
   "source": [
    "DIRAC calculation can output several interesting files that are not written if not asked explicitly. For instance, OpenFermion-Dirac ask for the extraction of the ```MRCONEE``` and ```MDCINT``` file by default, which are unformatted files containing the electronic integrals, then transformed into a formatted FCIDUMP file. ```MDPROP``` is also extracted automatically if ```propint``` is ```True```. Another file that can be of interest is the ```DFCOEF``` one which contains all the molecular orbital coefficients, and information on the basis set (basis functiosn, their exponents and coefficients, etc.). This file is necessary to extract if you want to restart a calculation. Let's do a test with an SCF calculation that can last long (but not too long for the sake of the tutorial, it should last around 30 secondes): benzene in the cc-pVDZ basis set. (It should be noted that I am only doing an SCF calculation and I don't need the ```FCIDUMP``` file, such that the 4-index transformation can be omitted. Otherwise the calculation takes much longer.)"
   ]
  },
  {
   "cell_type": "code",
   "execution_count": null,
   "metadata": {},
   "outputs": [],
   "source": [
    "charge       = 0\n",
    "multiplicity = 1\n",
    "basis        = \"cc-pVDZ\"\n",
    "description  = \"\"\n",
    "get          = \"DFCOEF\"\n",
    "geometry = [\n",
    "    ('C',(      -1.39880212,       0.00000000,       0.00000000)),\n",
    "    ('C',(       1.39880212,       0.00000000,       0.00000000)),\n",
    "    ('C',(      -0.69940106,      -1.21139817,       0.00000000)),\n",
    "    ('C',(      -0.69940106,       1.21139817,       0.00000000)),\n",
    "    ('C',(       0.69940106,       1.21139817,       0.00000000)),\n",
    "    ('C',(       0.69940106,      -1.21139817,       0.00000000)),\n",
    "    ('H',(      -2.49009098,       0.00000000,       0.00000000)),\n",
    "    ('H',(      -1.24504549,       2.15648204,       0.00000000)),\n",
    "    ('H',(       1.24504549,       2.15648204,       0.00000000)),\n",
    "    ('H',(       2.49009098,       0.00000000,       0.00000000)),\n",
    "    ('H',(       1.24504549,      -2.15648204,       0.00000000)),\n",
    "    ('H',(      -1.24504549,      -2.15648204,       0.00000000))]\n",
    "\n",
    "molecule = MolecularData_Dirac(geometry=geometry,\n",
    "                               basis=basis,\n",
    "                               multiplicity=multiplicity,\n",
    "                               charge=charge,\n",
    "                               description=description,\n",
    "                               data_directory=data_directory)\n",
    "\n",
    "molecule = run_dirac(molecule,\n",
    "                    get=get,\n",
    "                    delete_input=delete_input,\n",
    "                    delete_xyz=delete_xyz,\n",
    "                    delete_output=delete_output)\n",
    "\n",
    "print('Hartree-Fock energy of {} Hartree.'.format(molecule.get_energies()[0]))"
   ]
  },
  {
   "cell_type": "markdown",
   "metadata": {},
   "source": [
    "Then, let's restart the calculation with the generated DFCOEF file. Given that the MOs are already the Hartree-Fock ones, the SCF calculation should converge in one iteration and the calculation will be much faster."
   ]
  },
  {
   "cell_type": "code",
   "execution_count": null,
   "metadata": {},
   "outputs": [],
   "source": [
    "restart = True\n",
    "molecule = run_dirac(molecule,\n",
    "                    restart=restart,\n",
    "                    delete_input=delete_input,\n",
    "                    delete_xyz=delete_xyz,\n",
    "                    delete_output=delete_output)\n",
    "print('Hartree-Fock energy of {} Hartree.'.format(molecule.get_energies()[0]))"
   ]
  },
  {
   "cell_type": "markdown",
   "metadata": {},
   "source": [
    "## Molecular Properties"
   ]
  },
  {
   "cell_type": "markdown",
   "metadata": {},
   "source": [
    "Different properties can be computed within the Dirac program.\n",
    "One can ask for properties calculation by creating a list ```properties = []``` containing keywords corresponding to the given properties of interest."
   ]
  },
  {
   "cell_type": "code",
   "execution_count": null,
   "metadata": {},
   "outputs": [],
   "source": [
    "geometry = [('H', (0., 0., 0.)), ('H', (0., 0., bond_length))]\n",
    "basis = \"STO-3G\"\n",
    "properties = ['MOLGRD','DIPOLE','QUADRUPOLE','EFG','POLARIZABILITY'] \n",
    "delete_output = False\n",
    "molecule = MolecularData_Dirac(geometry=geometry,\n",
    "                               basis=basis,\n",
    "                               multiplicity=multiplicity,\n",
    "                               charge=charge,\n",
    "                               description=description,\n",
    "                               data_directory=data_directory)\n",
    "\n",
    "molecule = run_dirac(molecule,\n",
    "                    point_nucleus=point_nucleus,\n",
    "                    properties=properties,\n",
    "                    delete_input=delete_input,\n",
    "                    delete_xyz=delete_xyz,\n",
    "                    delete_output=delete_output,\n",
    "                    delete_MRCONEE=delete_MRCONEE,\n",
    "                    delete_MDCINT=delete_MDCINT,\n",
    "                    run_ccsd=run_ccsd)\n",
    "\n",
    "print('Electric dipole moment: {}'.format(molecule.get_elecdipole()))\n",
    "print('Electric quadrupole moment: {}'.format(molecule.get_elecquadrupole()))\n",
    "print('Electric (dipole) polarizability: {}'.format(molecule.get_elecpolarizability()))"
   ]
  },
  {
   "cell_type": "markdown",
   "metadata": {},
   "source": [
    "For now, the electric dipole, quadrupole and polarizability can be extracted. For other properties, one has to look directly at the output."
   ]
  },
  {
   "cell_type": "markdown",
   "metadata": {},
   "source": [
    "One can also extract the PROPINT file that contains all < phi_i | O | phi_j >, i.e. the property integrals in the MO basis for a given one-electron operator O. This can be done using the ```propint``` keyword as follows:"
   ]
  },
  {
   "cell_type": "code",
   "execution_count": null,
   "metadata": {},
   "outputs": [],
   "source": [
    "geometry = [('Li', (0., 0., 0.)), ('H', (0., 0., 1.0))]\n",
    "basis = \"STO-3G\"\n",
    "propint = \"ZDIPLEN\"\n",
    "# another formatted file to construct the unformatted PROPINT can be deleted:\n",
    "delete_MDPROP = True\n",
    "properties = ['DIPOLE']\n",
    "relativisitc = False\n",
    "\n",
    "\n",
    "molecule = MolecularData_Dirac(geometry=geometry,\n",
    "                    basis=basis,\n",
    "                    multiplicity=multiplicity,\n",
    "                    charge=charge,\n",
    "                    description=description,\n",
    "                    relativistic=relativistic,\n",
    "                    data_directory=data_directory)\n",
    "\n",
    "molecule = run_dirac(molecule,\n",
    "                    fcidump=fcidump,\n",
    "                    point_nucleus=point_nucleus,\n",
    "                    propint=propint,\n",
    "                    properties=properties,\n",
    "                    delete_input=delete_input,\n",
    "                    delete_xyz=delete_xyz,\n",
    "                    delete_output=delete_output,\n",
    "                    delete_MRCONEE=delete_MRCONEE,\n",
    "                    delete_MDCINT=delete_MDCINT,\n",
    "                    delete_MDPROP=delete_MDPROP,\n",
    "                    relativistic=relativistic,\n",
    "                    run_ccsd=run_ccsd)\n",
    "\n",
    "property_hamiltonian = molecule.get_property_hamiltonian()\n",
    "print(property_hamiltonian)\n",
    "\n",
    "\n",
    "# Check if we indeed get the correct dipole moment. The dipole moment using the \"properties\" keywords gives:\n",
    "print('Approximate Electric dipole moment (from Dirac program): {}'.format(molecule.get_elecdipole()))\n",
    "\n",
    "# Compare with - < Psi_0 | z | Psi_0 > where Psi_0 is the FCI ground-state, i.e. giving the FCI dipole moment.\n",
    "qubit_hamiltonian = jordan_wigner(molecule.get_molecular_hamiltonian()[0])\n",
    "# Compute the states. vecs[:,0] is the ground state.\n",
    "import numpy as np\n",
    "from openfermion.transforms import get_sparse_operator\n",
    "qubit_hamiltonian = get_sparse_operator(qubit_hamiltonian).todense()\n",
    "evs, vecs = np.linalg.eigh(qubit_hamiltonian)\n",
    "\n",
    "# Compute the expectation value of the first derivative Hamiltonians. It should give the dipole moment (up to a minus sign)\n",
    "property_ham = jordan_wigner(property_hamiltonian)\n",
    "property_ham = get_sparse_operator(property_ham).todense()\n",
    "zdip_analytic = vecs[:,0].conj().T @ property_ham @ vecs[:,0]\n",
    "print('FCI Electric dipole moment: {}'.format(- zdip_analytic))"
   ]
  },
  {
   "cell_type": "markdown",
   "metadata": {},
   "source": [
    "## Add one-electron operators to the Hamiltonian"
   ]
  },
  {
   "cell_type": "markdown",
   "metadata": {},
   "source": [
    "You can add a finite field in the x,y or z direction for instance. Other one-electron operators can be added. The field strength of the operator is specified with COMFACTOR.\n",
    "For more informations, see Dirac's documentation.\n",
    "Here, I describe how you can add a finite electric field in the z direction, for the H2 molecule."
   ]
  },
  {
   "cell_type": "code",
   "execution_count": null,
   "metadata": {},
   "outputs": [],
   "source": [
    "# Set molecule parameters.\n",
    "# a ghost nuclei \"foo\" is added to lower the symmetry.\n",
    "geometry = [('H', (0., 0., 0.)), ('H', (0., 0., bond_length)), ('foo', (0.,0., 10.))]\n",
    "# The basis has to be changed so that the nuclei \"foo\" is indeed treated as a ghost nuclei.\n",
    "basis = 'special'\n",
    "special_basis = [\"STO-3G\",\"foo NOBASIS\"]\n",
    "# Define the operator: [[op1,keywords,strength],[op2,keywords,strength],[op3,...],[...]]\n",
    "operator = [[\"ZDIPLEN\",\"COMFACTOR\",0.001]]\n",
    "\n",
    "run_ccsd = True\n",
    "point_nucleus = True\n",
    "description = 'R' + str(bond_length) + '_ccsd'\n",
    "\n",
    "molecule = MolecularData_Dirac(geometry=geometry,\n",
    "                               basis=basis,\n",
    "                               special_basis=special_basis,\n",
    "                               multiplicity=multiplicity,\n",
    "                               charge=charge,\n",
    "                               description=description,\n",
    "                               data_directory=data_directory)\n",
    "\n",
    "molecule = run_dirac(molecule,\n",
    "                    fcidump=fcidump,\n",
    "                    operator=operator,\n",
    "                    point_nucleus=point_nucleus,\n",
    "                    delete_input=delete_input,\n",
    "                    delete_xyz=delete_xyz,\n",
    "                    delete_output=delete_output,\n",
    "                    delete_MRCONEE=delete_MRCONEE,\n",
    "                    delete_MDCINT=delete_MDCINT,\n",
    "                    run_ccsd=run_ccsd)\n",
    "\n",
    "molecular_hamiltonian = molecule.get_molecular_hamiltonian()"
   ]
  },
  {
   "cell_type": "markdown",
   "metadata": {},
   "source": [
    "This has performed a finite perturbation calculation with the z dipole length operator added to the Hamiltonian: H + 0.001 z"
   ]
  },
  {
   "cell_type": "markdown",
   "metadata": {},
   "source": [
    "We can actually use this to compute the dipole moment by finite difference. To do so, just compute the \"property_hamiltonian\" described above by finite difference (H(+zdip/2) - H(-zdip/2))/zdip, where H(zdip) is the molecular Hamiltonian obtained above. By performing the same calculation as before to get the FCI dipole moment, you should find the same result than without finite difference (with ```propint```)."
   ]
  },
  {
   "cell_type": "markdown",
   "metadata": {},
   "source": [
    "## Save option"
   ]
  },
  {
   "cell_type": "markdown",
   "metadata": {},
   "source": [
    "Let us go back in a non relativistic framework (although everything that follows can be done with the ```relativistic = True``` option).\n",
    "More options can be set in the calculation. The first one is the ```save``` option that allows you to save your calculation in the HDF5 format. Note that ```fcidump``` has to be equal to ```True```. The ouput can be deleted, but I advise not to do it as it contains much more information on the performed calculation."
   ]
  },
  {
   "cell_type": "code",
   "execution_count": null,
   "metadata": {},
   "outputs": [],
   "source": [
    "save = True\n",
    "basis = \"STO-3G\"\n",
    "geometry = [('H', (0., 0., 0.)), ('H', (0., 0., bond_length))]\n",
    "point_nucleus = True\n",
    "properties = ['MOLGRD','DIPOLE','QUADRUPOLE','EFG','POLARIZABILITY']\n",
    "\n",
    "molecule = MolecularData_Dirac(geometry=geometry,\n",
    "                               basis=basis,\n",
    "                               multiplicity=multiplicity,\n",
    "                               charge=charge,\n",
    "                               description=description,\n",
    "                               data_directory=data_directory)\n",
    "\n",
    "molecule = run_dirac(molecule,\n",
    "                    fcidump=fcidump,\n",
    "                    point_nucleus=point_nucleus,\n",
    "                    properties=properties,\n",
    "                    delete_input=delete_input,\n",
    "                    delete_xyz=delete_xyz,\n",
    "                    delete_output=delete_output,\n",
    "                    delete_MRCONEE=delete_MRCONEE,\n",
    "                    delete_MDCINT=delete_MDCINT,\n",
    "                    run_ccsd=run_ccsd,\n",
    "                    save=save)"
   ]
  },
  {
   "cell_type": "markdown",
   "metadata": {},
   "source": [
    "Then check is the HDF5 file has been created"
   ]
  },
  {
   "cell_type": "code",
   "execution_count": null,
   "metadata": {},
   "outputs": [],
   "source": [
    "import sys\n",
    "#if os.path.exists(\"{}/{}.hdf5\".format(data_directory,molecule.name)) is False:\n",
    "if os.path.exists(\"{}.hdf5\".format(molecule.filename)) is False:\n",
    "      sys.exit(0)\n",
    "print(\"HDF5 file found, loading from file. Name : {}\".format(molecule.get_from_file('name')))"
   ]
  },
  {
   "cell_type": "markdown",
   "metadata": {},
   "source": [
    "You can extract the following information from this file thanks to the function ```get_from_file()```:"
   ]
  },
  {
   "cell_type": "code",
   "execution_count": null,
   "metadata": {},
   "outputs": [],
   "source": [
    "print('Name : {}'.format(molecule.get_from_file('name')))\n",
    "print('The description is {}.'.format(molecule.get_from_file('description')))\n",
    "print('System with atoms {} and protons {}.'.format(molecule.get_from_file('atoms'),\n",
    "                                    molecule.get_from_file('protons')))\n",
    "print('System of {} atoms and {} electrons.'.format(molecule.get_from_file('n_atoms'),\n",
    "                                                             molecule.get_from_file('n_electrons')))\n",
    "print('With charge {} and multiplicity {}.'.format(molecule.get_from_file('charge'),\n",
    "                                                  molecule.get_from_file('multiplicity')))\n",
    "print('With basis-set {}.'.format(molecule.get_from_file('basis')))\n",
    "print('With {} spin-orbitals with corresponding energies {}.'.format(molecule.get_from_file('n_orbitals'),\n",
    "                                                                     molecule.get_from_file('orbital_energies')))\n",
    "print('With {} qubits.'.format(molecule.get_from_file('n_qubits')))\n",
    "print('Hartree-Fock energy of {} Hartree.'.format(molecule.get_from_file('hf_energy')))\n",
    "print('MP2 energy of {} Hartree.'.format(molecule.get_from_file('mp2_energy')))\n",
    "print('CCSD energy of {} Hartree.'.format(molecule.get_from_file('ccsd_energy')))\n",
    "\n",
    "E_core=molecule.get_from_file('nuclear_repulsion')\n",
    "one_body_coeff = molecule.get_from_file('one_body_coefficients')\n",
    "two_body_coeff = molecule.get_from_file('two_body_coefficients')\n",
    "molecular_ham_print = molecule.get_from_file('print_molecular_hamiltonian')\n",
    "print('Core energy : {} Hartree.'.format(E_core))\n",
    "print('Electric dipole moment: {}'.format(molecule.get_from_file('elec_dipole')))\n",
    "print('Electric quadrupole moment: {}'.format(molecule.get_from_file('elec_quadrupole')))\n",
    "print('Electric (dipole) polarizability: {}'.format(molecule.get_from_file('elec_polarizability')))\n",
    "print('Molecular Hamiltonian : {}'.format(molecular_ham_print))"
   ]
  },
  {
   "cell_type": "markdown",
   "metadata": {},
   "source": [
    "Note that this molecular Hamiltonian cannot be used directly to construct the qubit Hamiltonian. It has to be reconstruct first thanks to the core energy and the one- and two-body coefficients:"
   ]
  },
  {
   "cell_type": "code",
   "execution_count": null,
   "metadata": {},
   "outputs": [],
   "source": [
    "from openfermion.ops import InteractionOperator\n",
    "\n",
    "molecular_ham = InteractionOperator(float(E_core),one_body_coeff,two_body_coeff)\n",
    "qubit_ham = jordan_wigner(molecular_ham)\n",
    "evs = eigenspectrum(qubit_ham)\n",
    "print(\"Solution of the qubit Hamiltonian :\\n {}\".format(evs))"
   ]
  },
  {
   "cell_type": "markdown",
   "metadata": {},
   "source": [
    "## Average-of-configuration open-shell Hartree-Fock"
   ]
  },
  {
   "cell_type": "markdown",
   "metadata": {},
   "source": [
    "http://www.diracprogram.org/doc/master/tutorials/open_shell_scf/aoc.html\n",
    "\n",
    "Note that DIRAC does not have restricted open-shell Hartree-Fock implemented, as it is a relativistic code: spin-orbit interaction couples spin and spatial degrees of freedom and make the formalism much more complicated since one cannot exploit spin symmetry alone for fixing the expansion coefficients in the reference configuration state function (CSF) which serves as the trial function.\n",
    "Instead of optimizing the energy for a single open-shell state, we shall optimize the energy for a limited set of open-shell states. See the link above for more information.\n",
    "\n",
    "As an example, let's consider the carbon atom. The two valence electrons are spread in 6 pi spinors, and one can do the average of configuration to make spherically averaged orbitals.\n",
    "\n",
    "List of 3 values, \n",
    "- the first one for the number of closed-shell electrons\n",
    "- the second one for the number of open-shell\n",
    "- the third is for the fractional occupation (#active electrons/#active spinor)\n",
    "\n",
    "Let us consider the problem without symmetry, otherwise the setup of the openshell keywords is more complicated and one should refer the DIRAC documentation. By the same time, let's look at the influence of the symmetry on the HF energy."
   ]
  },
  {
   "cell_type": "code",
   "execution_count": null,
   "metadata": {},
   "outputs": [],
   "source": [
    "geometry = [('C', (0., 0., 0.))]\n",
    "\n",
    "molecule = MolecularData_Dirac(geometry=geometry,\n",
    "                               basis=basis,\n",
    "                               multiplicity=multiplicity,\n",
    "                               charge=charge,\n",
    "                               description=description,\n",
    "                               data_directory=data_directory)\n",
    "\n",
    "molecule = run_dirac(molecule,\n",
    "                    delete_input=delete_input,\n",
    "                    delete_xyz=delete_xyz,\n",
    "                    delete_output=delete_output,\n",
    "                    symmetry=True)\n",
    "print('Hartree-Fock energy of {} Hartree.'.format(molecule.get_energies()[0]))\n",
    "\n",
    "molecule = run_dirac(molecule,\n",
    "                    delete_input=delete_input,\n",
    "                    delete_xyz=delete_xyz,\n",
    "                    delete_output=delete_output,\n",
    "                    symmetry=False)\n",
    "print('Hartree-Fock energy of {} Hartree.'.format(molecule.get_energies()[0]))\n",
    "\n",
    "openshell = [\"4\",\"1\",\"2/6\"]\n",
    "molecule = run_dirac(molecule,\n",
    "                    delete_input=delete_input,\n",
    "                    delete_xyz=delete_xyz,\n",
    "                    delete_output=delete_output,\n",
    "                    openshell=openshell,\n",
    "                    symmetry=False)\n",
    "print('Hartree-Fock energy of {} Hartree.'.format(molecule.get_energies()[0]))"
   ]
  },
  {
   "cell_type": "markdown",
   "metadata": {},
   "source": [
    "## Uncontracted Basis-set"
   ]
  },
  {
   "cell_type": "markdown",
   "metadata": {},
   "source": [
    " If one add the keyword for uncontract basis set, the SCF energy gets even lower."
   ]
  },
  {
   "cell_type": "code",
   "execution_count": null,
   "metadata": {},
   "outputs": [],
   "source": [
    "uncontract = True\n",
    "molecule = run_dirac(molecule,\n",
    "                    delete_input=delete_input,\n",
    "                    delete_xyz=delete_xyz,\n",
    "                    delete_output=delete_output,\n",
    "                    uncontract=uncontract)\n",
    "print('Hartree-Fock energy of {} Hartree.'.format(molecule.get_energies()[0]))\n",
    "\n",
    "molecule = run_dirac(molecule,\n",
    "                    delete_input=delete_input,\n",
    "                    delete_xyz=delete_xyz,\n",
    "                    delete_output=delete_output,\n",
    "                    symmetry=False,\n",
    "                    uncontract=uncontract)\n",
    "print('Hartree-Fock energy of {} Hartree.'.format(molecule.get_energies()[0]))\n",
    "\n",
    "molecule = run_dirac(molecule,\n",
    "                    delete_input=delete_input,\n",
    "                    delete_xyz=delete_xyz,\n",
    "                    delete_output=delete_output,\n",
    "                    symmetry=False,\n",
    "                    openshell=openshell,\n",
    "                    uncontract=uncontract)\n",
    "print('Hartree-Fock energy of {} Hartree.'.format(molecule.get_energies()[0]))"
   ]
  },
  {
   "cell_type": "markdown",
   "metadata": {},
   "source": [
    "## Special Basis-set"
   ]
  },
  {
   "cell_type": "markdown",
   "metadata": {},
   "source": [
    "The last option I want to discuss is the special basis set. One can specify a given basis set for a specific element only.\n",
    "An example is the Helium hydride ion HeH+, where the ```STO-3G``` basis can be considered for the Helium atom and the ```cc-pVDZ``` basis for the hydrogen atom.\n",
    "To do so, set the basis-set to \"special\", and defines a special basis as a list of two string, as follows:"
   ]
  },
  {
   "cell_type": "code",
   "execution_count": null,
   "metadata": {},
   "outputs": [],
   "source": [
    "geometry = [('He', (0., 0., 0.)), ('H', (0., 0., bond_length))]\n",
    "charge = 1\n",
    "multiplicity = 1\n",
    "run_ccsd = True\n",
    "if run_ccsd:\n",
    "    description = 'R' + str(bond_length) + '_ccsd'\n",
    "else:\n",
    "    description = 'R' + str(bond_length) + '_scf'\n",
    "\n",
    "# necessary keyword to specify that we are using a special basis\n",
    "basis=\"special\"\n",
    "# list of two string : [default basis, special basis for a given atomic species]\n",
    "special_basis=[\"STO-3G\",\"H BASIS cc-pVDZ\"]\n",
    "\n",
    "\n",
    "molecule = MolecularData_Dirac(geometry=geometry,\n",
    "                               basis=basis,\n",
    "                               special_basis=special_basis,\n",
    "                               multiplicity=multiplicity,\n",
    "                               charge=charge,\n",
    "                               description=description,\n",
    "                               data_directory=data_directory)\n",
    "\n",
    "molecule = run_dirac(molecule,\n",
    "                    point_nucleus=point_nucleus,\n",
    "                    delete_input=delete_input,\n",
    "                    delete_xyz=delete_xyz,\n",
    "                    delete_output=delete_output,\n",
    "                    delete_MRCONEE=delete_MRCONEE,\n",
    "                    delete_MDCINT=delete_MDCINT,\n",
    "                    run_ccsd=run_ccsd)\n",
    "\n",
    "print('Hartree-Fock energy of {} Hartree.'.format(molecule.get_energies()[0]))\n",
    "print('MP2 energy of {} Hartree.'.format(molecule.get_energies()[1]))\n",
    "print('CCSD energy of {} Hartree.'.format(molecule.get_energies()[2]))"
   ]
  },
  {
   "cell_type": "markdown",
   "metadata": {},
   "source": [
    "## Manual options"
   ]
  },
  {
   "cell_type": "markdown",
   "metadata": {},
   "source": [
    "The Dirac program possesses a lot of different options that can be inserted manually in the script. The ```manual_option``` keyword can be used in this respect. Here, I described an option that was necessary to perform CCSD calculation on HeH+, due to a known bug that has now been fixed."
   ]
  },
  {
   "cell_type": "code",
   "execution_count": null,
   "metadata": {},
   "outputs": [],
   "source": [
    "run_ccsd = True\n",
    "if run_ccsd:\n",
    "    description = 'R' + str(bond_length) + '_ccsd'\n",
    "else:\n",
    "    description = 'R' + str(bond_length) + '_scf'\n",
    "    \n",
    "basis=\"STO-3G\"\n",
    "manual_option = \"\"\"**RELCCSD\n",
    "*CCENER\n",
    ".NOSDT\"\"\" # or manual_option = \"**RELCCSD\\n*CCENER\\n.NOSDT\". This is used to switch off the triples correction.\n",
    "\n",
    "molecule = MolecularData_Dirac(geometry=geometry,\n",
    "                               basis=basis,\n",
    "                               multiplicity=multiplicity,\n",
    "                               charge=charge,\n",
    "                               description=description,\n",
    "                               data_directory=data_directory)\n",
    "\n",
    "molecule = run_dirac(molecule,\n",
    "                    fcidump=True,\n",
    "                    point_nucleus=point_nucleus,\n",
    "                    manual_option=manual_option,\n",
    "                    delete_input=delete_input,\n",
    "                    delete_xyz=delete_xyz,\n",
    "                    delete_output=delete_output,\n",
    "                    delete_MRCONEE=delete_MRCONEE,\n",
    "                    delete_MDCINT=delete_MDCINT,\n",
    "                    run_ccsd=run_ccsd)\n",
    "\n",
    "print('CCSD energy of {} Hartree.'.format(molecule.get_energies()[2]))"
   ]
  },
  {
   "cell_type": "markdown",
   "metadata": {},
   "source": [
    "Note that the qubit Hamiltonian operates in the Fock space. Hence, the ground-state is the ground-state is not always the expected one. This is especially true for ionic species, such as HeH+ for instance. One can use the symmetry conserving bravyi kitaev transformation to get only the states we are interested of:"
   ]
  },
  {
   "cell_type": "code",
   "execution_count": null,
   "metadata": {},
   "outputs": [],
   "source": [
    "molecular_hamiltonian = molecule.get_molecular_hamiltonian()[0]\n",
    "qubit_hamiltonian = jordan_wigner(molecular_hamiltonian)\n",
    "evs = eigenspectrum(qubit_hamiltonian)\n",
    "print('Solving the Qubit Hamiltonian (Jordan-Wigner): \\n {}'.format(evs))\n",
    "\n",
    "\n",
    "from openfermion.transforms import get_fermion_operator, symmetry_conserving_bravyi_kitaev\n",
    "\n",
    "#symmetry_conserving_bravyi_kitaev(fermionicoperator,number_of_active_orbs,number_of_active_elec)\n",
    "\n",
    "number_orbs = len(molecule.get_integrals_FCIDUMP()[1])\n",
    "fermion_operator = get_fermion_operator(molecular_hamiltonian)\n",
    "qubit_hamiltonian = symmetry_conserving_bravyi_kitaev(fermion_operator,number_orbs,2)\n",
    "evs = eigenspectrum(qubit_hamiltonian)\n",
    "\n",
    "print('CCSD energy of {} Hartree.'.format(molecule.get_energies()[2]))\n",
    "print('Solving the Qubit Hamiltonian (Bravyi-Kitaev) Symmetry conserving: \\n {}'.format(evs))"
   ]
  },
  {
   "cell_type": "markdown",
   "metadata": {},
   "source": [
    "# Known actual issues "
   ]
  },
  {
   "cell_type": "markdown",
   "metadata": {},
   "source": [
    "From the side of Dirac with CCSD:\n",
    "\n",
    "- Open-shell with CCSD: For Be+, HeH, or other open-shell systems, the starting Slater determinant for the CCSD calculation is not well determined. Because of this, CCSD calculation usually get rid of electrons and consider a closed-shell system (like Be2+ instead of Be+, or HeH+ instead of HeH). The repartition of the electrons in the determinant can be specified manually, but no automatic solution has been implemented yet.\n",
    "Note that the FCI calculation may work, as shown in the following case of Beryllium."
   ]
  },
  {
   "cell_type": "markdown",
   "metadata": {},
   "source": [
    "### Open-Shell problems (Be+)"
   ]
  },
  {
   "cell_type": "markdown",
   "metadata": {},
   "source": [
    "CCSD computes the energy of Be2+ instead of Be+. FCI is correct here."
   ]
  },
  {
   "cell_type": "code",
   "execution_count": null,
   "metadata": {},
   "outputs": [],
   "source": [
    "basis = 'sto-3g'\n",
    "multiplicity = 2\n",
    "charge = 1\n",
    "\n",
    "geometry = [('Be', (0., 0., 0.))]\n",
    "\n",
    "run_ccsd = 1\n",
    "description = ''\n",
    "\n",
    "molecule = MolecularData_Dirac(geometry=geometry,\n",
    "                               basis=basis,\n",
    "                               multiplicity=multiplicity,\n",
    "                               charge=charge,\n",
    "                               description=description,\n",
    "                               data_directory=data_directory)\n",
    "\n",
    "molecule_ccsd = run_dirac(molecule,\n",
    "                    fcidump=fcidump,\n",
    "                    delete_input=delete_input,\n",
    "                    delete_xyz=delete_xyz,\n",
    "                    delete_output=delete_output,\n",
    "                    delete_MRCONEE=delete_MRCONEE,\n",
    "                    delete_MDCINT=delete_MDCINT,\n",
    "                    run_ccsd=run_ccsd)\n",
    "\n",
    "molecular_hamiltonian = molecule.get_molecular_hamiltonian()[0]\n",
    "qubit_hamiltonian = jordan_wigner(molecular_hamiltonian)\n",
    "evs = eigenspectrum(qubit_hamiltonian)\n",
    "print('Hartree-Fock energy of {} Hartree.'.format(molecule.get_energies()[0]))\n",
    "print('MP2 energy of {} Hartree.'.format(molecule.get_energies()[1]))\n",
    "print('CCSD energy of {} Hartree.'.format(molecule.get_energies()[2]))\n",
    "print('Solving the Qubit Hamiltonian (Jordan-Wigner): first:{} ; twentieth:{} '.format(evs[0],evs[19])) \n",
    "# The 20th energy is the one of Be+. The first is the energy of Be.\n",
    "number_orbs = len(molecule.get_integrals_FCIDUMP()[1])\n",
    "fermion_operator = get_fermion_operator(molecular_hamiltonian)\n",
    "qubit_hamiltonian = symmetry_conserving_bravyi_kitaev(fermion_operator,number_orbs,3)\n",
    "evs = eigenspectrum(qubit_hamiltonian)\n",
    "print('Solving the Qubit Hamiltonian (Bravyi-Kitaev) Symmetry conserving: \\n \\\n",
    "      {}, {}, {}, {}'.format(evs[0],evs[1],evs[2],evs[3]))\n",
    "print('For unknown reasons, a triplet state seems to be obtained here, \\\n",
    "while the ground-state of Be+ should be a doublet.')\n",
    "\n",
    "molecule = run_dirac(molecule,\n",
    "                    delete_input=delete_input,\n",
    "                    delete_xyz=delete_xyz,\n",
    "                    delete_output=delete_output,\n",
    "                    delete_MRCONEE=delete_MRCONEE,\n",
    "                    delete_MDCINT=delete_MDCINT,\n",
    "                    run_fci=run_fci)\n",
    "\n",
    "print('FCI energy of Be+: {} Hartree.'.format(molecule.get_energies()[3]))\n",
    "\n",
    "multiplicity = 1\n",
    "charge = 0\n",
    "\n",
    "molecule = MolecularData_Dirac(geometry=geometry,\n",
    "                               basis=basis,\n",
    "                               multiplicity=multiplicity,\n",
    "                               charge=charge,\n",
    "                               description=description,\n",
    "                               data_directory=data_directory)\n",
    "\n",
    "molecule = run_dirac(molecule,\n",
    "                    delete_input=delete_input,\n",
    "                    delete_xyz=delete_xyz,\n",
    "                    delete_output=delete_output,\n",
    "                    delete_MRCONEE=delete_MRCONEE,\n",
    "                    delete_MDCINT=delete_MDCINT,\n",
    "                    run_fci=run_fci)\n",
    "\n",
    "print('FCI energy of Be: {} Hartree.'.format(molecule.get_energies()[3]))\n",
    "\n",
    "multiplicity = 1\n",
    "charge = 2\n",
    "\n",
    "molecule = MolecularData_Dirac(geometry=geometry,\n",
    "                               basis=basis,\n",
    "                               multiplicity=multiplicity,\n",
    "                               charge=charge,\n",
    "                               description=description,\n",
    "                               data_directory=data_directory)\n",
    "\n",
    "molecule = run_dirac(molecule,\n",
    "                    delete_input=delete_input,\n",
    "                    delete_xyz=delete_xyz,\n",
    "                    delete_output=delete_output,\n",
    "                    delete_MRCONEE=delete_MRCONEE,\n",
    "                    delete_MDCINT=delete_MDCINT,\n",
    "                    run_fci=run_fci)\n",
    "\n",
    "print('FCI energy of Be2+: {} Hartree.'.format(molecule.get_energies()[3]))"
   ]
  }
 ],
 "metadata": {
  "kernelspec": {
   "display_name": "Python 3",
   "language": "python",
   "name": "python3"
  },
  "language_info": {
   "codemirror_mode": {
    "name": "ipython",
    "version": 3
   },
   "file_extension": ".py",
   "mimetype": "text/x-python",
   "name": "python",
   "nbconvert_exporter": "python",
   "pygments_lexer": "ipython3",
   "version": "3.7.3"
  }
 },
 "nbformat": 4,
 "nbformat_minor": 2
}
