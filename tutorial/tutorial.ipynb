{
 "cells": [
  {
   "cell_type": "markdown",
   "metadata": {},
   "source": [
    "# Tutorial for the OpenFermion-Dirac interface"
   ]
  },
  {
   "cell_type": "markdown",
   "metadata": {},
   "source": [
    "The goal of this interface is to perform relativistic or non-relativistic calculation of \n",
    "chemical compounds through the Dirac program (see http://diracprogram.org)\n",
    "in OpenFermion (https://github.com/quantumlib/OpenFermion). \n",
    "The resulting molecular Hamiltonian can then be encoded into a qubit Hamiltonian thanks to the Jordan-Wigner\n",
    "transformation, for instance."
   ]
  },
  {
   "cell_type": "markdown",
   "metadata": {},
   "source": [
    "## Non relativistic calculation"
   ]
  },
  {
   "cell_type": "markdown",
   "metadata": {},
   "source": [
    "First, define your atom or molecule. Here, the example of the hydrogen molecule is provided."
   ]
  },
  {
   "cell_type": "code",
   "execution_count": 1,
   "metadata": {},
   "outputs": [],
   "source": [
    "bond_length = 1.0\n",
    "charge = 0\n",
    "geometry = [('H', (0., 0., 0.)), ('H', (0., 0., bond_length))]"
   ]
  },
  {
   "cell_type": "markdown",
   "metadata": {},
   "source": [
    "Then, specify the basis set. For practical reason, the small STO-3G basis set is considered here. More complex basis sets can be used to perform Hartree-Fock (HF) or Coupled Cluster Single and Doubles (CCSD), but it becomes rapidly untractable for Full Configuration Interaction (FCI)."
   ]
  },
  {
   "cell_type": "code",
   "execution_count": 2,
   "metadata": {},
   "outputs": [],
   "source": [
    "basis = 'STO-3G'"
   ]
  },
  {
   "cell_type": "markdown",
   "metadata": {},
   "source": [
    "To know more about the valid basis sets, we refer the reader to the DIRAC documentation (http://diracprogram.org)."
   ]
  },
  {
   "cell_type": "markdown",
   "metadata": {},
   "source": [
    "Given that the filename does not contain information about the bond length or the type of calculation, it is interesting to add it manually. We will perform here a CCSD calculation."
   ]
  },
  {
   "cell_type": "code",
   "execution_count": 3,
   "metadata": {},
   "outputs": [],
   "source": [
    "run_ccsd = True\n",
    "if run_ccsd:\n",
    "    description = 'R' + str(bond_length) + '_ccsd'\n",
    "else:\n",
    "    description = 'R' + str(bond_length) + '_scf'"
   ]
  },
  {
   "cell_type": "markdown",
   "metadata": {},
   "source": [
    "Now that every parameters are defined, one can construct the molecule thanks to the ```MolecularData_Dirac``` command"
   ]
  },
  {
   "cell_type": "code",
   "execution_count": 4,
   "metadata": {},
   "outputs": [],
   "source": [
    "import os\n",
    "\n",
    "data_directory=os.getcwd()\n",
    "\n",
    "from openfermion_dirac import MolecularData_Dirac\n",
    "\n",
    "molecule = MolecularData_Dirac(geometry=geometry,\n",
    "                               basis=basis,\n",
    "                               charge=charge,\n",
    "                               description=description,\n",
    "                               data_directory=data_directory)"
   ]
  },
  {
   "cell_type": "markdown",
   "metadata": {},
   "source": [
    "Time to start the calculation ! First, defines which type of calculation you want to perform. The choices are SCF (Hartree-Fock) or CCSD. If you don't set any option, it will run an SCF calculation automatically. \n",
    "If you set ```run_ccsd = True```, it will perform a CCSD calculation. Performing CCSD also gives you access to the second-order Moller-Plesset perturbation (MP2) and the Hartree-Fock (HF) energy."
   ]
  },
  {
   "cell_type": "code",
   "execution_count": 5,
   "metadata": {},
   "outputs": [],
   "source": [
    "run_ccsd = True"
   ]
  },
  {
   "cell_type": "markdown",
   "metadata": {},
   "source": [
    "Note that the non relativistic calculation uses the Levy-Leblond Hamiltonian. For some applications (outside the scope of this tutorial) one may want to use the NONREL Hamiltonian instead. This can be set with ```NONREL=True``` in ```run_dirac```.\n",
    "\n",
    "Several files are generated during the calculation: \n",
    "- The input file (.inp)\n",
    "- The geometry file (.xyz)\n",
    "- The output file (.out)\n",
    "- The integral files (MRCONEE and MDCINT)\n",
    "- The FCIDUMP file\n",
    "- Optionally, an hdf5 file which saves several informations (as shown latter on).\n",
    "\n",
    "You can define all the files that you want to keep or to discard at the end of the calculation. Note that the geometry of the molecule and the input file are included in the Dirac output file, such that only this file can be kept.\n",
    "The MRCONEE and MDCINT contain the one- and two-electron integrals, respectively. The ```dirac_openfermion_mointegral_export.x``` transforms those files into a FCIDUMP file containing all the molecular integrals. Only the latter file is then needed to construct the molecular Hamiltonian in OpenFermion. This molecular Hamiltonian can then be transformed into a Qubit Hamiltonian, as shown in the following."
   ]
  },
  {
   "cell_type": "code",
   "execution_count": 6,
   "metadata": {},
   "outputs": [],
   "source": [
    "delete_input = True\n",
    "delete_xyz = True\n",
    "delete_output = False\n",
    "delete_MRCONEE = True\n",
    "delete_MDCINT = True"
   ]
  },
  {
   "cell_type": "markdown",
   "metadata": {},
   "source": [
    "Note that is fcidump=False and run_ccsd = False, the MRCONEE and MDCINT files will not be extracted (not needed)."
   ]
  },
  {
   "cell_type": "markdown",
   "metadata": {},
   "source": [
    "To start the calculation, use the command ```run_dirac``` as follows:"
   ]
  },
  {
   "cell_type": "code",
   "execution_count": 7,
   "metadata": {},
   "outputs": [
    {
     "name": "stdout",
     "output_type": "stream",
     "text": [
      "  running /home/bsenjean/Git_repositories/dirac/build/pam --mol=/home/bsenjean/Git_repositories/Openfermion-Dirac/tutorial/H2_STO-3G_R1.0_ccsd.xyz --inp=/home/bsenjean/Git_repositories/Openfermion-Dirac/tutorial/H2_STO-3G_R1.0_ccsd.inp --get=MRCONEE MDCINT --silent --noarch\n",
      "  exit           : normal\n",
      " fcidump             \n",
      "  Initialized reading from MRCONEE (version DIRAC20 and later)\n",
      "  Core energy:   0.52917721090299996     \n",
      "  Breit interaction:  F\n",
      "  Group type (1:real, 2:complex, 4:quaternion) :           1\n",
      "  Initialized reading from MDCINT\n",
      "  MDCINT created:  20220812   09:14:09\n",
      "  Writing fcidump interface file ...\n",
      "  Printing full list of integrals (includes redundant integrals that are related by permutation symmetry)\n",
      "  fcidump file ready\n"
     ]
    }
   ],
   "source": [
    "from openfermion_dirac import run_dirac\n",
    "\n",
    "fcidump=True\n",
    "\n",
    "molecule = run_dirac(molecule,\n",
    "                    fcidump=fcidump,\n",
    "                    delete_input=delete_input,\n",
    "                    delete_xyz=delete_xyz,\n",
    "                    delete_output=delete_output,\n",
    "                    delete_MRCONEE=delete_MRCONEE,\n",
    "                    delete_MDCINT=delete_MDCINT,\n",
    "                    run_ccsd=run_ccsd)"
   ]
  },
  {
   "cell_type": "markdown",
   "metadata": {},
   "source": [
    "Note that ```fcidump=True``` has to be set if you want to extract the second-quantized molecular Hamiltonian in OpenFermion from the object ```molecule```:"
   ]
  },
  {
   "cell_type": "code",
   "execution_count": 8,
   "metadata": {},
   "outputs": [
    {
     "name": "stdout",
     "output_type": "stream",
     "text": [
      "() 0.529177210903\n",
      "((0, 1), (0, 0)) -1.1108441794784871\n",
      "((1, 1), (1, 0)) -1.1108441794784871\n",
      "((2, 1), (2, 0)) -0.5891210116485766\n",
      "((3, 1), (3, 0)) -0.5891210116485766\n",
      "((0, 1), (0, 1), (0, 0), (0, 0)) 0.3132012467721703\n",
      "((0, 1), (0, 1), (2, 0), (2, 0)) 0.09839528914684341\n",
      "((0, 1), (1, 1), (1, 0), (0, 0)) 0.3132012467721703\n",
      "((0, 1), (1, 1), (3, 0), (2, 0)) 0.09839528914684341\n",
      "((0, 1), (2, 1), (0, 0), (2, 0)) 0.09839528914684341\n",
      "((0, 1), (2, 1), (2, 0), (0, 0)) 0.31085337704142446\n",
      "((0, 1), (3, 1), (1, 0), (2, 0)) 0.09839528914684341\n",
      "((0, 1), (3, 1), (3, 0), (0, 0)) 0.31085337704142446\n",
      "((1, 1), (0, 1), (0, 0), (1, 0)) 0.3132012467721703\n",
      "((1, 1), (0, 1), (2, 0), (3, 0)) 0.09839528914684341\n",
      "((1, 1), (1, 1), (1, 0), (1, 0)) 0.3132012467721703\n",
      "((1, 1), (1, 1), (3, 0), (3, 0)) 0.09839528914684341\n",
      "((1, 1), (2, 1), (0, 0), (3, 0)) 0.09839528914684341\n",
      "((1, 1), (2, 1), (2, 0), (1, 0)) 0.31085337704142446\n",
      "((1, 1), (3, 1), (1, 0), (3, 0)) 0.09839528914684341\n",
      "((1, 1), (3, 1), (3, 0), (1, 0)) 0.31085337704142446\n",
      "((2, 1), (0, 1), (0, 0), (2, 0)) 0.31085337704142446\n",
      "((2, 1), (0, 1), (2, 0), (0, 0)) 0.09839528914684341\n",
      "((2, 1), (1, 1), (1, 0), (2, 0)) 0.31085337704142446\n",
      "((2, 1), (1, 1), (3, 0), (0, 0)) 0.09839528914684341\n",
      "((2, 1), (2, 1), (0, 0), (0, 0)) 0.09839528914684341\n",
      "((2, 1), (2, 1), (2, 0), (2, 0)) 0.3265353676658039\n",
      "((2, 1), (3, 1), (1, 0), (0, 0)) 0.09839528914684341\n",
      "((2, 1), (3, 1), (3, 0), (2, 0)) 0.3265353676658039\n",
      "((3, 1), (0, 1), (0, 0), (3, 0)) 0.31085337704142446\n",
      "((3, 1), (0, 1), (2, 0), (1, 0)) 0.09839528914684341\n",
      "((3, 1), (1, 1), (1, 0), (3, 0)) 0.31085337704142446\n",
      "((3, 1), (1, 1), (3, 0), (1, 0)) 0.09839528914684341\n",
      "((3, 1), (2, 1), (0, 0), (1, 0)) 0.09839528914684341\n",
      "((3, 1), (2, 1), (2, 0), (3, 0)) 0.3265353676658039\n",
      "((3, 1), (3, 1), (1, 0), (1, 0)) 0.09839528914684341\n",
      "((3, 1), (3, 1), (3, 0), (3, 0)) 0.3265353676658039\n",
      "\n"
     ]
    }
   ],
   "source": [
    "molecular_hamiltonian = molecule.get_molecular_hamiltonian()[0]\n",
    "print(molecular_hamiltonian)"
   ]
  },
  {
   "cell_type": "markdown",
   "metadata": {},
   "source": [
    "and encode it into the qubit Hamiltonian thanks to the Jordan-Wigner transformation, provided by OpenFermion:"
   ]
  },
  {
   "cell_type": "code",
   "execution_count": 9,
   "metadata": {},
   "outputs": [
    {
     "name": "stdout",
     "output_type": "stream",
     "text": [
      "-0.327608208069071 [] +\n",
      "-0.049197644573421705 [X0 X1 Y2 Y3] +\n",
      "0.049197644573421705 [X0 Y1 Y2 X3] +\n",
      "0.049197644573421705 [Y0 X1 X2 Y3] +\n",
      "-0.049197644573421705 [Y0 Y1 X2 X3] +\n",
      "0.13716573388515563 [Z0] +\n",
      "0.15660062338608516 [Z0 Z1] +\n",
      "0.10622904394729053 [Z0 Z2] +\n",
      "0.15542668852071223 [Z0 Z3] +\n",
      "0.13716573388515563 [Z1] +\n",
      "0.15542668852071223 [Z1 Z2] +\n",
      "0.10622904394729053 [Z1 Z3] +\n",
      "-0.13036291047661644 [Z2] +\n",
      "0.16326768383290194 [Z2 Z3] +\n",
      "-0.1303629104766164 [Z3]\n"
     ]
    }
   ],
   "source": [
    "from openfermion.transforms import jordan_wigner\n",
    "\n",
    "qubit_hamiltonian = jordan_wigner(molecular_hamiltonian)\n",
    "print(qubit_hamiltonian)"
   ]
  },
  {
   "cell_type": "markdown",
   "metadata": {},
   "source": [
    "The energies calculated from the Dirac program are extracted as follows:"
   ]
  },
  {
   "cell_type": "code",
   "execution_count": 10,
   "metadata": {},
   "outputs": [
    {
     "name": "stdout",
     "output_type": "stream",
     "text": [
      "Hartree-Fock energy of -1.0661086545096314 Hartree.\n",
      "MP2 energy of -1.086665369123031 Hartree.\n",
      "CCSD energy of -1.084147034280662 Hartree.\n"
     ]
    }
   ],
   "source": [
    "print('Hartree-Fock energy of {} Hartree.'.format(molecule.get_energies()[0]))\n",
    "print('MP2 energy of {} Hartree.'.format(molecule.get_energies()[1]))\n",
    "print('CCSD energy of {} Hartree.'.format(molecule.get_energies()[2]))"
   ]
  },
  {
   "cell_type": "markdown",
   "metadata": {},
   "source": [
    "Note that it is usual to set consider the point nucleus model instead of the Gaussian charge distribution (default)\n",
    "in a non-relativistic calculation. This can be set by specifying:"
   ]
  },
  {
   "cell_type": "code",
   "execution_count": 11,
   "metadata": {},
   "outputs": [
    {
     "name": "stdout",
     "output_type": "stream",
     "text": [
      "  running /home/bsenjean/Git_repositories/dirac/build/pam --mol=/home/bsenjean/Git_repositories/Openfermion-Dirac/tutorial/H2_STO-3G_R1.0_ccsd.xyz --inp=/home/bsenjean/Git_repositories/Openfermion-Dirac/tutorial/H2_STO-3G_R1.0_ccsd.inp --get= --silent --noarch\n",
      "  exit           : normal\n",
      "Hartree-Fock energy of -1.0661086554855708 Hartree.\n",
      "MP2 energy of -1.086665370107968 Hartree.\n",
      "CCSD energy of -1.210059543226092 Hartree.\n"
     ]
    }
   ],
   "source": [
    "point_nucleus = True\n",
    "\n",
    "molecule = run_dirac(molecule,\n",
    "                    delete_input=delete_input,\n",
    "                    delete_xyz=delete_xyz,\n",
    "                    delete_output=delete_output,\n",
    "                    delete_MRCONEE=delete_MRCONEE,\n",
    "                    delete_MDCINT=delete_MDCINT,\n",
    "                    run_ccsd=run_ccsd,\n",
    "                    point_nucleus=point_nucleus)\n",
    "\n",
    "print('Hartree-Fock energy of {} Hartree.'.format(molecule.get_energies()[0]))\n",
    "print('MP2 energy of {} Hartree.'.format(molecule.get_energies()[1]))\n",
    "print('CCSD energy of {} Hartree.'.format(molecule.get_energies()[2]))"
   ]
  },
  {
   "cell_type": "markdown",
   "metadata": {},
   "source": [
    "We can observe small changes in the energies. Then one can build the qubit Hamiltonian, which operates in the Fock space (i.e., independently of the number of particle) and is solved\n",
    "in OpenFermion with the eigenspectrum function:"
   ]
  },
  {
   "cell_type": "code",
   "execution_count": 12,
   "metadata": {},
   "outputs": [
    {
     "name": "stdout",
     "output_type": "stream",
     "text": [
      "Solving the Qubit Hamiltonian (Jordan-Wigner): \n",
      " [-1.10115033 -0.7458718  -0.7458718  -0.7458718  -0.60860674 -0.60860674\n",
      " -0.58166697 -0.58166697 -0.35229065 -0.06021533 -0.06021533 -0.0599438\n",
      " -0.0599438   0.0390476   0.50196592  0.52917721]\n"
     ]
    }
   ],
   "source": [
    "from openfermion.linalg import eigenspectrum\n",
    "\n",
    "evs = eigenspectrum(qubit_hamiltonian)\n",
    "print('Solving the Qubit Hamiltonian (Jordan-Wigner): \\n {}'.format(evs))"
   ]
  },
  {
   "cell_type": "markdown",
   "metadata": {},
   "source": [
    "## FCI Calculation"
   ]
  },
  {
   "cell_type": "markdown",
   "metadata": {},
   "source": [
    "The FCI ground-state energy can also be calculated as follows (let us take the example of LiH, for which CCSD is not exact anymore)"
   ]
  },
  {
   "cell_type": "code",
   "execution_count": 13,
   "metadata": {},
   "outputs": [
    {
     "name": "stdout",
     "output_type": "stream",
     "text": [
      "  running /home/bsenjean/Git_repositories/dirac/build/pam --mol=/home/bsenjean/Git_repositories/Openfermion-Dirac/tutorial/H1-Li1_STO-3G_R1.0_fci.xyz --inp=/home/bsenjean/Git_repositories/Openfermion-Dirac/tutorial/H1-Li1_STO-3G_R1.0_fci.inp --get= --silent --noarch\n",
      "  exit           : normal\n"
     ]
    },
    {
     "name": "stderr",
     "output_type": "stream",
     "text": [
      "/home/bsenjean/Git_repositories/Openfermion-Dirac/openfermion_dirac/_run_dirac.py:129: Warning: run_fci is simply implemented to get the FCI ground-state energy for now. Using it to get anything else is highly not recommended. This option has not been tested meticulously and it might lead to errors depending on the system that you want to treat.\n",
      "  warnings.warn('run_fci is simply implemented to get the FCI ground-state energy for now. Using it to get anything else is highly not recommended.\\\n"
     ]
    },
    {
     "name": "stdout",
     "output_type": "stream",
     "text": [
      "  running /home/bsenjean/Git_repositories/dirac/build/pam --mol=/home/bsenjean/Git_repositories/Openfermion-Dirac/tutorial/H1-Li1_STO-3G_R1.0_ccsd.xyz --inp=/home/bsenjean/Git_repositories/Openfermion-Dirac/tutorial/H1-Li1_STO-3G_R1.0_ccsd.inp --get= --silent --noarch\n",
      "  exit           : normal\n",
      "Hartree-Fock energy of -7.7673621358088454 Hartree.\n",
      "MP2 energy of -7.778799089884522 Hartree.\n",
      "CCSD energy of -7.784454822023323 Hartree.\n",
      "FCI energy of -7.784460279635 Hartree.\n"
     ]
    }
   ],
   "source": [
    "geometry = [('Li', (0., 0., 0.)), ('H', (0., 0., bond_length))]\n",
    "run_fci = True\n",
    "description = 'R' + str(bond_length) + '_fci'\n",
    "\n",
    "molecule = MolecularData_Dirac(geometry=geometry,\n",
    "                               basis=basis,\n",
    "                               charge=charge,\n",
    "                               description=description,\n",
    "                               data_directory=data_directory)\n",
    "\n",
    "molecule_fci = run_dirac(molecule,\n",
    "                    point_nucleus=point_nucleus,\n",
    "                    delete_input=delete_input,\n",
    "                    delete_xyz=delete_xyz,\n",
    "                    delete_output=delete_output,\n",
    "                    delete_MRCONEE=delete_MRCONEE,\n",
    "                    delete_MDCINT=delete_MDCINT,\n",
    "                    run_fci=run_fci)\n",
    "\n",
    "# Let us compare with the CCSD energy:\n",
    "run_ccsd = True\n",
    "description = 'R' + str(bond_length) + '_ccsd'\n",
    "molecule = MolecularData_Dirac(geometry=geometry,\n",
    "                               basis=basis,\n",
    "                               charge=charge,\n",
    "                               description=description,\n",
    "                               data_directory=data_directory)\n",
    "\n",
    "molecule_ccsd = run_dirac(molecule,\n",
    "                    point_nucleus=point_nucleus,\n",
    "                    delete_input=delete_input,\n",
    "                    delete_xyz=delete_xyz,\n",
    "                    delete_output=delete_output,\n",
    "                    delete_MRCONEE=delete_MRCONEE,\n",
    "                    delete_MDCINT=delete_MDCINT,\n",
    "                    run_ccsd=run_ccsd)\n",
    "\n",
    "print('Hartree-Fock energy of {} Hartree.'.format(molecule_ccsd.get_energies()[0]))\n",
    "print('MP2 energy of {} Hartree.'.format(molecule_ccsd.get_energies()[1]))\n",
    "print('CCSD energy of {} Hartree.'.format(molecule_ccsd.get_energies()[2]))\n",
    "print('FCI energy of {} Hartree.'.format(molecule_fci.get_energies()[3]))"
   ]
  },
  {
   "cell_type": "markdown",
   "metadata": {},
   "source": [
    "## DFT Calculation"
   ]
  },
  {
   "cell_type": "markdown",
   "metadata": {},
   "source": [
    "Density-functional theory is one of the most widely used approach in quantum chemistry due to its mean-field-like formulation, thus leading to a much cheaper computational cost in comparison to multiconfigurational wavefunction methods. In Dirac program, several functionals are available (see http://www.diracprogram.org/doc/master/manual/dftcfun.html?highlight=dft) and can be called in this interface by specifying run_dirac=\"X\", where X is the choosen approximate exchange-correlation functional."
   ]
  },
  {
   "cell_type": "code",
   "execution_count": 14,
   "metadata": {},
   "outputs": [
    {
     "name": "stdout",
     "output_type": "stream",
     "text": [
      "  running /home/bsenjean/Git_repositories/dirac/build/pam --mol=/home/bsenjean/Git_repositories/Openfermion-Dirac/tutorial/H1-Li1_STO-3G_R1.0_LDA.xyz --inp=/home/bsenjean/Git_repositories/Openfermion-Dirac/tutorial/H1-Li1_STO-3G_R1.0_LDA.inp --get=MRCONEE MDCINT --silent --noarch\n",
      "  exit           : normal\n",
      " fcidump             \n",
      "  Initialized reading from MRCONEE (version DIRAC20 and later)\n",
      "  Core energy:   0.84930287199604382     \n",
      "  Breit interaction:  F\n",
      "  Group type (1:real, 2:complex, 4:quaternion) :           1\n",
      "  Initialized reading from MDCINT\n",
      "  MDCINT created:  20220812   09:14:11\n",
      "  Writing fcidump interface file ...\n",
      "  Printing full list of integrals (includes redundant integrals that are related by permutation symmetry)\n",
      "  fcidump file ready\n",
      "DFT energy of -7.6988055947126668 Hartree.\n"
     ]
    }
   ],
   "source": [
    "run_dft=\"LDA\"\n",
    "description = 'R' + str(bond_length) + '_' + run_dft\n",
    "\n",
    "molecule = MolecularData_Dirac(geometry=geometry,\n",
    "                               basis=basis,\n",
    "                               charge=charge,\n",
    "                               description=description,\n",
    "                               data_directory=data_directory)\n",
    "\n",
    "molecule = run_dirac(molecule,\n",
    "                    fcidump=True,\n",
    "                    point_nucleus=point_nucleus,\n",
    "                    delete_input=delete_input,\n",
    "                    delete_xyz=delete_xyz,\n",
    "                    delete_output=delete_output,\n",
    "                    run_dft=run_dft)\n",
    "\n",
    "print('DFT energy of {} Hartree.'.format(molecule.get_energies()[0]))"
   ]
  },
  {
   "cell_type": "markdown",
   "metadata": {},
   "source": [
    "## Relativistic Calculation"
   ]
  },
  {
   "cell_type": "markdown",
   "metadata": {},
   "source": [
    "To perform a relativistic calculation by considering the full Dirac-Coulomb Hamiltonian, a simple option has to be switched on. Note that one should not switch on the ```point_nucleus``` option for relativistic calculation."
   ]
  },
  {
   "cell_type": "code",
   "execution_count": 15,
   "metadata": {},
   "outputs": [
    {
     "name": "stdout",
     "output_type": "stream",
     "text": [
      "  running /home/bsenjean/Git_repositories/dirac/build/pam --mol=/home/bsenjean/Git_repositories/Openfermion-Dirac/tutorial/H2_STO-3G_R1.0_scf_rel.xyz --inp=/home/bsenjean/Git_repositories/Openfermion-Dirac/tutorial/H2_STO-3G_R1.0_scf_rel.inp --get=MRCONEE MDCINT --silent --noarch\n",
      "  exit           : normal\n",
      " fcidump             \n",
      "  Initialized reading from MRCONEE (version DIRAC20 and later)\n",
      "  Core energy:   0.52917721099243087     \n",
      "  Breit interaction:  F\n",
      "  Group type (1:real, 2:complex, 4:quaternion) :           1\n",
      "  Initialized reading from MDCINT\n",
      "  MDCINT created:  20220812   09:14:11\n",
      "  Writing fcidump interface file ...\n",
      "  Printing full list of integrals (includes redundant integrals that are related by permutation symmetry)\n",
      "  fcidump file ready\n",
      "Hartree-Fock energy of -1.0661226640988906 Hartree.\n",
      "MP2 energy of None Hartree.\n",
      "CCSD energy of None Hartree.\n",
      "Solving the Qubit Hamiltonian (Jordan-Wigner): \n",
      " [-1.10116571 -0.74591588 -0.74591588 -0.74591588 -0.60865735 -0.60865735\n",
      " -0.58167347 -0.58167347 -0.35233876 -0.06029881 -0.06029881 -0.05998437\n",
      " -0.05998437  0.03896803  0.50187889  0.52917721]\n"
     ]
    }
   ],
   "source": [
    "relativistic = True\n",
    "basis = \"STO-3G\"\n",
    "bond_length = 1.0\n",
    "charge = 0\n",
    "geometry = [('H', (0., 0., 0.)), ('H', (0., 0., bond_length))]\n",
    "\n",
    "run_ccsd = False\n",
    "if run_ccsd:\n",
    "    description = 'R' + str(bond_length) + '_ccsd'\n",
    "else:\n",
    "    description = 'R' + str(bond_length) + '_scf'\n",
    "\n",
    "molecule = MolecularData_Dirac(geometry=geometry,\n",
    "                               basis=basis,\n",
    "                               charge=charge,\n",
    "                               relativistic=relativistic,\n",
    "                               description=description,\n",
    "                               data_directory=data_directory)\n",
    "\n",
    "molecule = run_dirac(molecule,\n",
    "                    fcidump=fcidump,\n",
    "                    delete_input=delete_input,\n",
    "                    delete_xyz=delete_xyz,\n",
    "                    delete_output=delete_output,\n",
    "                    delete_MRCONEE=delete_MRCONEE,\n",
    "                    delete_MDCINT=delete_MDCINT,\n",
    "                    run_ccsd=run_ccsd,\n",
    "                    relativistic=relativistic)\n",
    "\n",
    "molecular_hamiltonian = molecule.get_molecular_hamiltonian()[0]\n",
    "qubit_hamiltonian = jordan_wigner(molecular_hamiltonian)\n",
    "evs = eigenspectrum(qubit_hamiltonian)\n",
    "print('Hartree-Fock energy of {} Hartree.'.format(molecule.get_energies()[0]))\n",
    "print('MP2 energy of {} Hartree.'.format(molecule.get_energies()[1]))\n",
    "print('CCSD energy of {} Hartree.'.format(molecule.get_energies()[2]))\n",
    "print('Solving the Qubit Hamiltonian (Jordan-Wigner): \\n {}'.format(evs))"
   ]
  },
  {
   "cell_type": "markdown",
   "metadata": {},
   "source": [
    "Small differences are seen between the relativistic energies and the non-relativistic ones obtained previously.\n",
    "Of course, the difference is quite small for the hydrogen molecule but it is known to be very important especially for heavy elements."
   ]
  },
  {
   "cell_type": "markdown",
   "metadata": {},
   "source": [
    "### Extraction of the CC amplitudes"
   ]
  },
  {
   "cell_type": "markdown",
   "metadata": {},
   "source": [
    "Does not work with the master branch of DIRAC, skip the two next cells. \n",
    "Not so much tested for now. I advise to keep ```relativistic=True```, as well as ```symmetry=False```.\n",
    "The format has been chosen to be the same as in the other interfaces with OpenFermion (like PySCF)."
   ]
  },
  {
   "cell_type": "raw",
   "metadata": {
    "scrolled": true
   },
   "source": [
    "ccamp = True\n",
    "run_ccsd = True\n",
    "relativistic = True\n",
    "symmetry = False\n",
    "if run_ccsd:\n",
    "    description = 'ccsd'\n",
    "else:\n",
    "    description = 'scf'\n",
    "\n",
    "geometry = [('C', (0., 0., 0.))]\n",
    "\n",
    "molecule = MolecularData_Dirac(geometry=geometry,\n",
    "                               basis=basis,\n",
    "                               charge=charge,\n",
    "                               relativistic=relativistic,\n",
    "                               symmetry=symmetry,\n",
    "                               description=description,\n",
    "                               data_directory=data_directory)\n",
    "\n",
    "molecule = run_dirac(molecule,\n",
    "                    fcidump=fcidump,\n",
    "                    delete_input=delete_input,\n",
    "                    delete_xyz=delete_xyz,\n",
    "                    delete_output=delete_output,\n",
    "                    delete_MRCONEE=delete_MRCONEE,\n",
    "                    delete_MDCINT=delete_MDCINT,\n",
    "                    run_ccsd=run_ccsd,\n",
    "                    relativistic=relativistic,\n",
    "                    ccamp=ccamp,\n",
    "                    symmetry=symmetry)"
   ]
  },
  {
   "cell_type": "markdown",
   "metadata": {},
   "source": [
    "Then one can get rid of all zeros amplitudes. That can be useful to reduce the number of terms in the Uniraty Coupled Cluster ansatz in OpenFermion for instance."
   ]
  },
  {
   "cell_type": "raw",
   "metadata": {},
   "source": [
    "def _cut_ccsd_amplitudes(single_amplitudes, double_amplitudes, threshold):\n",
    "    if not (isinstance(single_amplitudes, list) or isinstance(double_amplitudes, list)):\n",
    "        raise TypeError('Input amplitudes must be a list.')\n",
    "    sing_amp = single_amplitudes[:]\n",
    "    doub_amp = double_amplitudes[:]\n",
    "    list_sing_amp_del = []\n",
    "    list_doub_amp_del = []\n",
    "    for i in range(len(single_amplitudes)):\n",
    "        if (abs(single_amplitudes[i][1]) < threshold):\n",
    "            list_sing_amp_del.append(i)\n",
    "    for i in range(len(double_amplitudes)):     \n",
    "        if (abs(double_amplitudes[i][1]) < threshold):\n",
    "            list_doub_amp_del.append(i)\n",
    "    # Get rid of all zeros:\n",
    "    for i in sorted(list_sing_amp_del, reverse=True):\n",
    "        del sing_amp[i]\n",
    "    for i in sorted(list_doub_amp_del, reverse=True):\n",
    "        del doub_amp[i]\n",
    "    return sing_amp, doub_amp\n",
    "\n",
    "from openfermion import *\n",
    "from scipy.sparse.linalg import expm_multiply\n",
    "\n",
    "\n",
    "# TRUNCATE AMPLITUDES:\n",
    "threshold = 1e-8\n",
    "sing_amps, doub_amps = uccsd_convert_amplitude_format(molecule.get_ccamps()[0], molecule.get_ccamps()[1])\n",
    "sing_amps_trunc, doub_amps_trunc = _cut_ccsd_amplitudes(sing_amps,doub_amps,threshold)\n",
    "print(\"CCSD single amps: {}\".format(sing_amps_trunc))\n",
    "print(\"CCSD double amps: {}\".format(doub_amps_trunc))"
   ]
  },
  {
   "cell_type": "markdown",
   "metadata": {},
   "source": [
    "### Change the speed of light"
   ]
  },
  {
   "cell_type": "markdown",
   "metadata": {},
   "source": [
    "One can play with the speed of light (137 a.u.) in order to increase the relativistic effects:"
   ]
  },
  {
   "cell_type": "code",
   "execution_count": 16,
   "metadata": {},
   "outputs": [
    {
     "name": "stdout",
     "output_type": "stream",
     "text": [
      "  running /home/bsenjean/Git_repositories/dirac/build/pam --mol=/home/bsenjean/Git_repositories/Openfermion-Dirac/tutorial/H2_STO-3G_R1.0_scf_rel_c3.0.xyz --inp=/home/bsenjean/Git_repositories/Openfermion-Dirac/tutorial/H2_STO-3G_R1.0_scf_rel_c3.0.inp --get=MRCONEE MDCINT --silent --noarch\n",
      "  exit           : normal\n",
      " fcidump             \n",
      "  Initialized reading from MRCONEE (version DIRAC20 and later)\n",
      "  Core energy:   0.52917721099243087     \n",
      "  Breit interaction:  F\n",
      "  Group type (1:real, 2:complex, 4:quaternion) :           1\n",
      "  Initialized reading from MDCINT\n",
      "  MDCINT created:  20220812   09:14:11\n",
      "  Writing fcidump interface file ...\n",
      "  Printing full list of integrals (includes redundant integrals that are related by permutation symmetry)\n",
      "  fcidump file ready\n",
      "Hartree-Fock energy of -1.0942741646828611 Hartree.\n",
      "MP2 energy of None Hartree.\n",
      "CCSD energy of None Hartree.\n",
      "Solving the Qubit Hamiltonian (Jordan-Wigner): \n",
      " [-1.13213496 -0.82925112 -0.82925112 -0.82925112 -0.70678081 -0.70678081\n",
      " -0.59452925 -0.59452925 -0.44310418 -0.21989424 -0.21989424 -0.13468642\n",
      " -0.13468642 -0.10968397  0.33171783  0.52917721]\n"
     ]
    }
   ],
   "source": [
    "speed_of_light = 3.0\n",
    "geometry = [('H', (0., 0., 0.)), ('H', (0., 0., bond_length))]\n",
    "\n",
    "run_ccsd = False\n",
    "if run_ccsd:\n",
    "    description = 'R' + str(bond_length) + '_ccsd'\n",
    "else:\n",
    "    description = 'R' + str(bond_length) + '_scf'\n",
    "\n",
    "molecule = MolecularData_Dirac(geometry=geometry,\n",
    "                               basis=basis,\n",
    "                               charge=charge,\n",
    "                               speed_of_light=speed_of_light,\n",
    "                               description=description,\n",
    "                               relativistic=relativistic,\n",
    "                               data_directory=data_directory)\n",
    "\n",
    "molecule = run_dirac(molecule,\n",
    "                    fcidump=fcidump,\n",
    "                    delete_input=delete_input,\n",
    "                    delete_xyz=delete_xyz,\n",
    "                    delete_output=delete_output,\n",
    "                    delete_MRCONEE=delete_MRCONEE,\n",
    "                    delete_MDCINT=delete_MDCINT,\n",
    "                    run_ccsd=run_ccsd,\n",
    "                    relativistic=relativistic,\n",
    "                    speed_of_light=speed_of_light)\n",
    "\n",
    "molecular_hamiltonian = molecule.get_molecular_hamiltonian()[0]\n",
    "qubit_hamiltonian = jordan_wigner(molecular_hamiltonian)\n",
    "evs = eigenspectrum(qubit_hamiltonian)\n",
    "print('Hartree-Fock energy of {} Hartree.'.format(molecule.get_energies()[0]))\n",
    "print('MP2 energy of {} Hartree.'.format(molecule.get_energies()[1]))\n",
    "print('CCSD energy of {} Hartree.'.format(molecule.get_energies()[2]))\n",
    "print('Solving the Qubit Hamiltonian (Jordan-Wigner): \\n {}'.format(evs))"
   ]
  },
  {
   "cell_type": "markdown",
   "metadata": {},
   "source": [
    "The change in energy is now much more important, showing the significance of considering relativistic effects in this case."
   ]
  },
  {
   "cell_type": "markdown",
   "metadata": {},
   "source": [
    "## Active space option"
   ]
  },
  {
   "cell_type": "markdown",
   "metadata": {},
   "source": [
    "Let us take the example of the lithium hydride molecule LiH:"
   ]
  },
  {
   "cell_type": "code",
   "execution_count": 17,
   "metadata": {},
   "outputs": [],
   "source": [
    "basis = 'STO-3G'\n",
    "bond_length = 2.0\n",
    "charge = 0\n",
    "\n",
    "delete_input = True\n",
    "delete_xyz = True\n",
    "delete_output = False\n",
    "delete_MRCONEE = True\n",
    "delete_MDCINT = True\n",
    "delete_FCIDUMP = False\n",
    "geometry = [('Li', (0., 0., 0.)), ('H', (0., 0., bond_length))]\n",
    "description = \"R\" + str(bond_length) + \"_scf\"\n",
    "\n",
    "molecule = MolecularData_Dirac(geometry=geometry,\n",
    "                               basis=basis,\n",
    "                               charge=charge,\n",
    "                               description=description,\n",
    "                               data_directory=data_directory)"
   ]
  },
  {
   "cell_type": "markdown",
   "metadata": {},
   "source": [
    "For LiH, let's first do a calculation to have information on the orbital energies. To get the orbitals, we only need the SCF calculation which is the default (i.e., switch-off ```run_ccsd```)."
   ]
  },
  {
   "cell_type": "code",
   "execution_count": 18,
   "metadata": {},
   "outputs": [
    {
     "name": "stdout",
     "output_type": "stream",
     "text": [
      "  running /home/bsenjean/Git_repositories/dirac/build/pam --mol=/home/bsenjean/Git_repositories/Openfermion-Dirac/tutorial/H1-Li1_STO-3G_R2.0_scf.xyz --inp=/home/bsenjean/Git_repositories/Openfermion-Dirac/tutorial/H1-Li1_STO-3G_R2.0_scf.inp --get=MRCONEE MDCINT --silent --noarch\n",
      "  exit           : normal\n",
      " fcidump             \n",
      "  Initialized reading from MRCONEE (version DIRAC20 and later)\n",
      "  Core energy:   0.79376581635449994     \n",
      "  Breit interaction:  F\n",
      "  Group type (1:real, 2:complex, 4:quaternion) :           1\n",
      "  Initialized reading from MDCINT\n",
      "  MDCINT created:  20220812   09:14:11\n",
      "  Writing fcidump interface file ...\n",
      "  Printing full list of integrals (includes redundant integrals that are related by permutation symmetry)\n",
      "  fcidump file ready\n",
      "CCAMP not found, set run_ccsd and ccamp to True if needed.\n",
      "Hartree-Fock energy of -7.8309055884430441 Hartree.\n",
      "The spin-orbitals and their associated energy:b'{1: -2.361187885824919, 3: -0.25010666181875174, 5: 0.07327903918143933, 7: 0.16210566454657374, 9: 0.16210566454657382, 11: 0.4326451477796374, 2: -2.361187885824919, 4: -0.25010666181875174, 6: 0.07327903918143933, 8: 0.16210566454657374, 10: 0.16210566454657382, 12: 0.4326451477796374}'\n",
      "\n",
      "[-7.86108778 -7.78953175 -7.78953175 ...  0.79376582  1.28714689\n",
      "  1.61687514]\n"
     ]
    }
   ],
   "source": [
    "import sys\n",
    "save = True\n",
    "point_nucleus=True\n",
    "\n",
    "molecule = run_dirac(molecule,\n",
    "                    fcidump=fcidump,\n",
    "                    point_nucleus=point_nucleus,\n",
    "                    delete_input=delete_input,\n",
    "                    delete_xyz=delete_xyz,\n",
    "                    delete_output=delete_output,\n",
    "                    delete_MRCONEE=delete_MRCONEE,\n",
    "                    delete_MDCINT=delete_MDCINT,\n",
    "                    save=save)\n",
    "\n",
    "print('Hartree-Fock energy of {} Hartree.'.format(molecule.get_energies()[0]))\n",
    "\n",
    "# This could be done to check if the saving file exist already or not.\n",
    "#if os.path.exists(\"{}/{}.hdf5\".format(data_directory,molecule.name)) is False:\n",
    "if os.path.exists(\"{}.hdf5\".format(molecule.filename)) is False:\n",
    "    print(\"No file found. You should first run a calculation with save=True (see LiH_save.py)\")\n",
    "    sys.exit(0)\n",
    "\n",
    "print(\"The spin-orbitals and their associated energy:{}\\n\".format(molecule.get_from_file(\"orbital_energies\")))\n",
    "\n",
    "molecular_hamiltonian = molecule.get_molecular_hamiltonian()[0]\n",
    "qubit_hamiltonian = jordan_wigner(molecular_hamiltonian)\n",
    "evs = eigenspectrum(qubit_hamiltonian)\n",
    "print(evs)"
   ]
  },
  {
   "cell_type": "markdown",
   "metadata": {},
   "source": [
    "LiH is a system with 4 electrons. We see that the first spatial orbital (indexed by 1 and 2) has an energy much lower than the second one (indexed by 3 and 4). Consequently, one can freeze the two electrons in this orbital and consider only the 2 other electrons as active. We can also get rid of the last spatial orbital with the highest energy. By doing so, only 8 spin-orbitals with 2 electrons will form our active space.\n",
    "\n",
    "Note that for some cases, this keyword active actually works for each Fermion ircop (gerade and ungerade) such that if you want 10 active spatial-orbitals of the dinitrogen (N2) molecule in the STO-3G basis (so the full active space) you will have to set ```active = [1,2,3,4,5]``` and not ```active = [1,2,3,4,5,6,7,8,9,10]```. It is therefore strongly advised to look at the DIRAC output when setting an active space."
   ]
  },
  {
   "cell_type": "code",
   "execution_count": 19,
   "metadata": {
    "scrolled": true
   },
   "outputs": [
    {
     "name": "stdout",
     "output_type": "stream",
     "text": [
      "  running /home/bsenjean/Git_repositories/dirac/build/pam --mol=/home/bsenjean/Git_repositories/Openfermion-Dirac/tutorial/H1-Li1_STO-3G_R2.0_scf.xyz --inp=/home/bsenjean/Git_repositories/Openfermion-Dirac/tutorial/H1-Li1_STO-3G_R2.0_scf.inp --get=MRCONEE MDCINT --silent --noarch\n",
      "  exit           : normal\n",
      " fcidump             \n",
      "  Initialized reading from MRCONEE (version DIRAC20 and later)\n",
      "  Core energy:   -6.8704146782713780     \n",
      "  Breit interaction:  F\n",
      "  Group type (1:real, 2:complex, 4:quaternion) :           1\n",
      "  Initialized reading from MDCINT\n",
      "  MDCINT created:  20220812   09:14:30\n",
      "  Writing fcidump interface file ...\n",
      "  Printing full list of integrals (includes redundant integrals that are related by permutation symmetry)\n",
      "  fcidump file ready\n",
      "Hartree-Fock energy of -7.8309055884430441 Hartree.\n",
      "MP2 energy of -7.832575302258982 Hartree.\n",
      "CCSD energy of -7.832886006855334 Hartree.\n",
      "CASCI energy of -7.832886006855329 Hartree\n",
      "  running /home/bsenjean/Git_repositories/dirac/build/pam --mol=/home/bsenjean/Git_repositories/Openfermion-Dirac/tutorial/H1-Li1_STO-3G_R2.0_scf.xyz --inp=/home/bsenjean/Git_repositories/Openfermion-Dirac/tutorial/H1-Li1_STO-3G_R2.0_scf.inp --get= --silent --noarch\n",
      "  exit           : normal\n",
      "run_fci and active keywords are not False. Note that this will run a CASCI and not a FCI.\n",
      "  running /home/bsenjean/Git_repositories/dirac/build/pam --mol=/home/bsenjean/Git_repositories/Openfermion-Dirac/tutorial/H1-Li1_STO-3G_R2.0_scf.xyz --inp=/home/bsenjean/Git_repositories/Openfermion-Dirac/tutorial/H1-Li1_STO-3G_R2.0_scf.inp --get= --silent --noarch\n",
      "  exit           : normal\n",
      "CASCI energy of -7.832886006855 Hartree\n",
      "FCI energy of -7.861087775508 Hartree\n"
     ]
    }
   ],
   "source": [
    "active = [2,3,4,5] # denote spatial orbitals\n",
    "\n",
    "run_ccsd=True\n",
    "\n",
    "molecule = run_dirac(molecule,\n",
    "                    fcidump=fcidump,\n",
    "                    point_nucleus=point_nucleus,\n",
    "                    delete_input=delete_input,\n",
    "                    delete_xyz=delete_xyz,\n",
    "                    delete_output=delete_output,\n",
    "                    delete_MRCONEE=delete_MRCONEE,\n",
    "                    delete_MDCINT=delete_MDCINT,\n",
    "                    run_ccsd=run_ccsd,\n",
    "                    active=active)\n",
    "\n",
    "molecular_hamiltonian = molecule.get_molecular_hamiltonian()[0]\n",
    "qubit_hamiltonian = jordan_wigner(molecular_hamiltonian)\n",
    "evs = eigenspectrum(qubit_hamiltonian)\n",
    "print('Hartree-Fock energy of {} Hartree.'.format(molecule.get_energies()[0]))\n",
    "print('MP2 energy of {} Hartree.'.format(molecule.get_energies()[1]))\n",
    "print('CCSD energy of {} Hartree.'.format(molecule.get_energies()[2]))\n",
    "print('CASCI energy of {} Hartree'.format(evs[0]))\n",
    "\n",
    "# Compare with FCI:\n",
    "molecule = run_dirac(molecule,\n",
    "                    fcidump=False,\n",
    "                    point_nucleus=point_nucleus,\n",
    "                    delete_input=delete_input,\n",
    "                    delete_xyz=delete_xyz,\n",
    "                    delete_output=delete_output,\n",
    "                    delete_MRCONEE=delete_MRCONEE,\n",
    "                    delete_MDCINT=delete_MDCINT,\n",
    "                    run_fci=run_fci)\n",
    "\n",
    "FCI_energy = molecule.get_energies()[3]\n",
    "\n",
    "# Compare with FCI within the active space (in other words, CASCI)\n",
    "molecule = run_dirac(molecule,\n",
    "                    fcidump=False,\n",
    "                    point_nucleus=point_nucleus,\n",
    "                    delete_input=delete_input,\n",
    "                    delete_xyz=delete_xyz,\n",
    "                    delete_output=delete_output,\n",
    "                    delete_MRCONEE=delete_MRCONEE,\n",
    "                    delete_MDCINT=delete_MDCINT,\n",
    "                    active=active,\n",
    "                    run_fci=run_fci)\n",
    "\n",
    "CASCI_energy = molecule.get_energies()[3]\n",
    "\n",
    "print('CASCI energy of {} Hartree'.format(CASCI_energy))\n",
    "print('FCI energy of {} Hartree'.format(FCI_energy))"
   ]
  },
  {
   "cell_type": "markdown",
   "metadata": {},
   "source": [
    "The calculation is much faster than if all the spin-orbitals are considered active, at the expense of a lower accuracy."
   ]
  },
  {
   "cell_type": "code",
   "execution_count": 20,
   "metadata": {},
   "outputs": [
    {
     "name": "stdout",
     "output_type": "stream",
     "text": [
      "\n",
      "Let's add the last virtual orbitals:\n",
      "\n",
      "  running /home/bsenjean/Git_repositories/dirac/build/pam --mol=/home/bsenjean/Git_repositories/Openfermion-Dirac/tutorial/H1-Li1_STO-3G_R2.0_scf.xyz --inp=/home/bsenjean/Git_repositories/Openfermion-Dirac/tutorial/H1-Li1_STO-3G_R2.0_scf.inp --get=MRCONEE MDCINT --silent --noarch\n",
      "  exit           : normal\n",
      " fcidump             \n",
      "  Initialized reading from MRCONEE (version DIRAC20 and later)\n",
      "  Core energy:   -6.8704146782713780     \n",
      "  Breit interaction:  F\n",
      "  Group type (1:real, 2:complex, 4:quaternion) :           1\n",
      "  Initialized reading from MDCINT\n",
      "  MDCINT created:  20220812   09:14:31\n",
      "  Writing fcidump interface file ...\n",
      "  Printing full list of integrals (includes redundant integrals that are related by permutation symmetry)\n",
      "  fcidump file ready\n",
      "Hartree-Fock energy of -7.8309055884430441 Hartree.\n",
      "MP2 energy of -7.848142752310511 Hartree.\n",
      "CCSD energy of -7.860828261259667 Hartree.\n",
      "Ground-state energy of -7.860828261259677 Hartree\n",
      "\n",
      "Let's do something crazy:\n",
      "\n",
      "  running /home/bsenjean/Git_repositories/dirac/build/pam --mol=/home/bsenjean/Git_repositories/Openfermion-Dirac/tutorial/H1-Li1_STO-3G_R2.0_scf.xyz --inp=/home/bsenjean/Git_repositories/Openfermion-Dirac/tutorial/H1-Li1_STO-3G_R2.0_scf.inp --get=MRCONEE MDCINT --silent --noarch\n",
      "  exit           : normal\n",
      " fcidump             \n",
      "  Initialized reading from MRCONEE (version DIRAC20 and later)\n",
      "  Core energy:   -1.4493778411288711     \n",
      "  Breit interaction:  F\n",
      "  Group type (1:real, 2:complex, 4:quaternion) :           1\n",
      "  Initialized reading from MDCINT\n",
      "  MDCINT created:  20220812   09:14:33\n",
      "  Writing fcidump interface file ...\n",
      "  Printing full list of integrals (includes redundant integrals that are related by permutation symmetry)\n",
      "  fcidump file ready\n",
      "Hartree-Fock energy of -7.8309055884430441 Hartree.\n",
      "MP2 energy of -7.831051913989405 Hartree.\n",
      "CCSD energy of -7.831037640464413 Hartree.\n",
      "Ground-state energy of -7.83103764046443 Hartree\n"
     ]
    }
   ],
   "source": [
    "print(\"\\nLet's add the last virtual orbitals:\\n\")\n",
    "active = [2,3,4,5,6]\n",
    "\n",
    "run_ccsd=True\n",
    "\n",
    "molecule = run_dirac(molecule,\n",
    "                    fcidump=fcidump,\n",
    "                    point_nucleus=point_nucleus,\n",
    "                    delete_input=delete_input,\n",
    "                    delete_xyz=delete_xyz,\n",
    "                    delete_output=delete_output,\n",
    "                    delete_MRCONEE=delete_MRCONEE,\n",
    "                    delete_MDCINT=delete_MDCINT,\n",
    "                    run_ccsd=run_ccsd,\n",
    "                    active=active)\n",
    "\n",
    "molecular_hamiltonian = molecule.get_molecular_hamiltonian()[0]\n",
    "qubit_hamiltonian = jordan_wigner(molecular_hamiltonian)\n",
    "evs = eigenspectrum(qubit_hamiltonian)\n",
    "print('Hartree-Fock energy of {} Hartree.'.format(molecule.get_energies()[0]))\n",
    "print('MP2 energy of {} Hartree.'.format(molecule.get_energies()[1]))\n",
    "print('CCSD energy of {} Hartree.'.format(molecule.get_energies()[2]))\n",
    "print('Ground-state energy of {} Hartree'.format(evs[0]))\n",
    "\n",
    "print(\"\\nLet's do something crazy:\\n\")\n",
    "active = [1,3,5,6]\n",
    "\n",
    "run_ccsd=True\n",
    "\n",
    "molecule = run_dirac(molecule,\n",
    "                    fcidump=fcidump,\n",
    "                    point_nucleus=point_nucleus,\n",
    "                    delete_input=delete_input,\n",
    "                    delete_xyz=delete_xyz,\n",
    "                    delete_output=delete_output,\n",
    "                    delete_MRCONEE=delete_MRCONEE,\n",
    "                    delete_MDCINT=delete_MDCINT,\n",
    "                    run_ccsd=run_ccsd,\n",
    "                    active=active)\n",
    "\n",
    "molecular_hamiltonian = molecule.get_molecular_hamiltonian()[0]\n",
    "qubit_hamiltonian = jordan_wigner(molecular_hamiltonian)\n",
    "evs = eigenspectrum(qubit_hamiltonian)\n",
    "print('Hartree-Fock energy of {} Hartree.'.format(molecule.get_energies()[0]))\n",
    "print('MP2 energy of {} Hartree.'.format(molecule.get_energies()[1]))\n",
    "print('CCSD energy of {} Hartree.'.format(molecule.get_energies()[2]))\n",
    "print('Ground-state energy of {} Hartree'.format(evs[0]))"
   ]
  },
  {
   "cell_type": "markdown",
   "metadata": {},
   "source": [
    "One can see that MP2 and CCSD energies are also changing, because only the amplitudes of active orbitals will be considered."
   ]
  },
  {
   "cell_type": "markdown",
   "metadata": {},
   "source": [
    "# Other more specific options"
   ]
  },
  {
   "cell_type": "markdown",
   "metadata": {},
   "source": [
    "## Getting other important files"
   ]
  },
  {
   "cell_type": "markdown",
   "metadata": {},
   "source": [
    "DIRAC calculation can output several interesting files that are not written if not asked explicitly. For instance, OpenFermion-Dirac ask for the extraction of the ```MRCONEE``` and ```MDCINT``` file by default, which are unformatted files containing the electronic integrals, then transformed into a formatted FCIDUMP file. ```MDPROP``` is also extracted automatically if ```propint``` is ```True```. Another file that can be of interest is the ```DFCOEF``` one which contains all the molecular orbital coefficients, and information on the basis set (basis functiosn, their exponents and coefficients, etc.). This file is necessary to extract if you want to restart a calculation. Let's do a test with an SCF calculation that can last long (but not too long for the sake of the tutorial, it should last around 30 secondes): benzene in the cc-pVDZ basis set. (It should be noted that I am only doing an SCF calculation and I don't need the ```FCIDUMP``` file, such that the 4-index transformation can be omitted. Otherwise the calculation takes much longer.)"
   ]
  },
  {
   "cell_type": "code",
   "execution_count": 21,
   "metadata": {},
   "outputs": [
    {
     "name": "stdout",
     "output_type": "stream",
     "text": [
      "  running /home/bsenjean/Git_repositories/dirac/build/pam --mol=/home/bsenjean/Git_repositories/Openfermion-Dirac/tutorial/H6-C6_cc-pVDZ.xyz --inp=/home/bsenjean/Git_repositories/Openfermion-Dirac/tutorial/H6-C6_cc-pVDZ.inp --get= DFCOEF --silent --noarch\n",
      "  exit           : normal\n",
      "Hartree-Fock energy of -230.72133697359729 Hartree.\n"
     ]
    }
   ],
   "source": [
    "charge       = 0\n",
    "basis        = \"cc-pVDZ\"\n",
    "description  = \"\"\n",
    "get          = \"DFCOEF\"\n",
    "geometry = [\n",
    "    ('C',(      -1.39880212,       0.00000000,       0.00000000)),\n",
    "    ('C',(       1.39880212,       0.00000000,       0.00000000)),\n",
    "    ('C',(      -0.69940106,      -1.21139817,       0.00000000)),\n",
    "    ('C',(      -0.69940106,       1.21139817,       0.00000000)),\n",
    "    ('C',(       0.69940106,       1.21139817,       0.00000000)),\n",
    "    ('C',(       0.69940106,      -1.21139817,       0.00000000)),\n",
    "    ('H',(      -2.49009098,       0.00000000,       0.00000000)),\n",
    "    ('H',(      -1.24504549,       2.15648204,       0.00000000)),\n",
    "    ('H',(       1.24504549,       2.15648204,       0.00000000)),\n",
    "    ('H',(       2.49009098,       0.00000000,       0.00000000)),\n",
    "    ('H',(       1.24504549,      -2.15648204,       0.00000000)),\n",
    "    ('H',(      -1.24504549,      -2.15648204,       0.00000000))]\n",
    "\n",
    "molecule = MolecularData_Dirac(geometry=geometry,\n",
    "                               basis=basis,\n",
    "                               charge=charge,\n",
    "                               description=description,\n",
    "                               data_directory=data_directory)\n",
    "\n",
    "molecule = run_dirac(molecule,\n",
    "                    get=get,\n",
    "                    delete_input=delete_input,\n",
    "                    delete_xyz=delete_xyz,\n",
    "                    delete_output=delete_output)\n",
    "\n",
    "print('Hartree-Fock energy of {} Hartree.'.format(molecule.get_energies()[0]))"
   ]
  },
  {
   "cell_type": "markdown",
   "metadata": {},
   "source": [
    "Then, let's restart the calculation with the generated DFCOEF file. Given that the MOs are already the Hartree-Fock ones, the SCF calculation should converge in one iteration and the calculation will be much faster."
   ]
  },
  {
   "cell_type": "code",
   "execution_count": 22,
   "metadata": {},
   "outputs": [
    {
     "name": "stdout",
     "output_type": "stream",
     "text": [
      "  running /home/bsenjean/Git_repositories/dirac/build/pam --mol=/home/bsenjean/Git_repositories/Openfermion-Dirac/tutorial/H6-C6_cc-pVDZ.xyz --inp=/home/bsenjean/Git_repositories/Openfermion-Dirac/tutorial/H6-C6_cc-pVDZ.inp --get= --put=DFCOEF --silent --noarch\n",
      "  exit           : normal\n",
      "Hartree-Fock energy of -230.72133697359598 Hartree.\n"
     ]
    }
   ],
   "source": [
    "restart = True\n",
    "molecule = run_dirac(molecule,\n",
    "                    restart=restart,\n",
    "                    delete_input=delete_input,\n",
    "                    delete_xyz=delete_xyz,\n",
    "                    delete_output=delete_output)\n",
    "print('Hartree-Fock energy of {} Hartree.'.format(molecule.get_energies()[0]))"
   ]
  },
  {
   "cell_type": "markdown",
   "metadata": {},
   "source": [
    "## Molecular Properties"
   ]
  },
  {
   "cell_type": "markdown",
   "metadata": {},
   "source": [
    "Different properties can be computed within the Dirac program.\n",
    "One can ask for properties calculation by creating a list ```properties = []``` containing keywords corresponding to the given properties of interest."
   ]
  },
  {
   "cell_type": "code",
   "execution_count": 23,
   "metadata": {},
   "outputs": [
    {
     "name": "stdout",
     "output_type": "stream",
     "text": [
      "  running /home/bsenjean/Git_repositories/dirac/build/pam --mol=/home/bsenjean/Git_repositories/Openfermion-Dirac/tutorial/H2_STO-3G.xyz --inp=/home/bsenjean/Git_repositories/Openfermion-Dirac/tutorial/H2_STO-3G.inp --get= --silent --noarch\n",
      "  exit           : normal\n",
      "Electric dipole moment: [0.0, 0.0, 0.0]\n",
      "Electric quadrupole moment: [[-3.256263579657, 0.0, 0.0], [0.0, -3.256263579657, 0.0], [0.0, 0.0, 6.512527159314]]\n",
      "Electric (dipole) polarizability: [-0.0, -0.0, 22.75933453]\n"
     ]
    }
   ],
   "source": [
    "geometry = [('H', (0., 0., 0.)), ('H', (0., 0., bond_length))]\n",
    "basis = \"STO-3G\"\n",
    "properties = ['MOLGRD','DIPOLE','QUADRUPOLE','EFG','POLARIZABILITY'] \n",
    "delete_output = False\n",
    "molecule = MolecularData_Dirac(geometry=geometry,\n",
    "                               basis=basis,\n",
    "                               charge=charge,\n",
    "                               description=description,\n",
    "                               data_directory=data_directory)\n",
    "\n",
    "molecule = run_dirac(molecule,\n",
    "                    point_nucleus=point_nucleus,\n",
    "                    properties=properties,\n",
    "                    delete_input=delete_input,\n",
    "                    delete_xyz=delete_xyz,\n",
    "                    delete_output=delete_output,\n",
    "                    delete_MRCONEE=delete_MRCONEE,\n",
    "                    delete_MDCINT=delete_MDCINT,\n",
    "                    run_ccsd=run_ccsd)\n",
    "\n",
    "print('Electric dipole moment: {}'.format(molecule.get_elecdipole()))\n",
    "print('Electric quadrupole moment: {}'.format(molecule.get_elecquadrupole()))\n",
    "print('Electric (dipole) polarizability: {}'.format(molecule.get_elecpolarizability()))"
   ]
  },
  {
   "cell_type": "markdown",
   "metadata": {},
   "source": [
    "For now, the electric dipole, quadrupole and polarizability can be extracted. For other properties, one has to look directly at the output."
   ]
  },
  {
   "cell_type": "markdown",
   "metadata": {},
   "source": [
    "One can also extract the PROPINT file that contains all < phi_i | O | phi_j >, i.e. the property integrals in the MO basis for a given one-electron operator O. This can be done using the ```propint``` keyword as follows:"
   ]
  },
  {
   "cell_type": "code",
   "execution_count": 24,
   "metadata": {},
   "outputs": [
    {
     "name": "stdout",
     "output_type": "stream",
     "text": [
      "  running /home/bsenjean/Git_repositories/dirac/build/pam --mol=/home/bsenjean/Git_repositories/Openfermion-Dirac/tutorial/H1-Li1_STO-3G_rel.xyz --inp=/home/bsenjean/Git_repositories/Openfermion-Dirac/tutorial/H1-Li1_STO-3G_rel.inp --get=MRCONEE MDCINT MDPROP --silent --noarch\n",
      "  exit           : normal\n",
      " fcidump             \n",
      "  Initialized reading from MRCONEE (version DIRAC20 and later)\n",
      "  Core energy:    1.5875316340848606     \n",
      "  Breit interaction:  F\n",
      "  Group type (1:real, 2:complex, 4:quaternion) :           1\n",
      "  Initialized reading from MDCINT\n",
      "  MDCINT created:  20220812   09:14:48\n",
      "  Writing fcidump interface file ...\n",
      "  Printing full list of integrals (includes redundant integrals that are related by permutation symmetry)\n",
      "  fcidump file ready\n",
      " propint   ZDIPLEN   \n",
      "  Initialized reading from MRCONEE (version DIRAC20 and later)\n",
      "  Core energy:    1.5875316340848606     \n",
      "  Breit interaction:  F\n",
      "  Group type (1:real, 2:complex, 4:quaternion) :           1\n",
      "  Initialized reading from MDCINT\n",
      "  MDCINT created:  20220812   09:14:48\n",
      "  Writing property integrals file ...\n",
      "\n",
      " Read integral type ZDIPLEN  created ******** storage info : ********\n",
      "  propint file ready\n",
      "() 0.0\n",
      "((0, 1), (0, 0)) (-0.2324626689396+0j)\n",
      "((0, 1), (2, 0)) (0.1812110287207+0j)\n",
      "((0, 1), (4, 0)) (-0.1564527222818+0j)\n",
      "((0, 1), (6, 0)) (1.284605128178e-05+0j)\n",
      "((0, 1), (10, 0)) (-0.002687483699944+0j)\n",
      "((1, 1), (1, 0)) (-0.2324626689396+0j)\n",
      "((1, 1), (3, 0)) (0.1812110287207+0j)\n",
      "((1, 1), (5, 0)) (-0.1564527222818+0j)\n",
      "((1, 1), (7, 0)) (1.284605128178e-05+0j)\n",
      "((1, 1), (11, 0)) (-0.002687483699944+0j)\n",
      "((2, 1), (0, 0)) (0.1812110287207+0j)\n",
      "((2, 1), (2, 0)) (1.650207374426+0j)\n",
      "((2, 1), (4, 0)) (-0.1173443630745+0j)\n",
      "((2, 1), (6, 0)) (2.753802144937e-05+0j)\n",
      "((2, 1), (10, 0)) (0.07471927487817+0j)\n",
      "((3, 1), (1, 0)) (0.1812110287207+0j)\n",
      "((3, 1), (3, 0)) (1.650207374426+0j)\n",
      "((3, 1), (5, 0)) (-0.1173443630745+0j)\n",
      "((3, 1), (7, 0)) (2.753802144937e-05+0j)\n",
      "((3, 1), (11, 0)) (0.07471927487817+0j)\n",
      "((4, 1), (0, 0)) (-0.1564527222818+0j)\n",
      "((4, 1), (2, 0)) (-0.1173443630745+0j)\n",
      "((4, 1), (4, 0)) (-1.919110629515+0j)\n",
      "((4, 1), (6, 0)) (4.129369457046e-05+0j)\n",
      "((4, 1), (10, 0)) (-0.8591869212679+0j)\n",
      "((5, 1), (1, 0)) (-0.1564527222818+0j)\n",
      "((5, 1), (3, 0)) (-0.1173443630745+0j)\n",
      "((5, 1), (5, 0)) (-1.919110629515+0j)\n",
      "((5, 1), (7, 0)) (4.129369457046e-05+0j)\n",
      "((5, 1), (11, 0)) (-0.8591869212679+0j)\n",
      "((6, 1), (0, 0)) (1.284605128178e-05+0j)\n",
      "((6, 1), (2, 0)) (2.753802144937e-05+0j)\n",
      "((6, 1), (4, 0)) (4.129369457046e-05+0j)\n",
      "((6, 1), (6, 0)) (-0.2373571270845+0j)\n",
      "((6, 1), (10, 0)) (2.434258082464e-05+0j)\n",
      "((7, 1), (1, 0)) (1.284605128178e-05+0j)\n",
      "((7, 1), (3, 0)) (2.753802144937e-05+0j)\n",
      "((7, 1), (5, 0)) (4.129369457046e-05+0j)\n",
      "((7, 1), (7, 0)) (-0.2373571270845+0j)\n",
      "((7, 1), (11, 0)) (2.434258082464e-05+0j)\n",
      "((8, 1), (8, 0)) (-0.2373571264036+0j)\n",
      "((9, 1), (9, 0)) (-0.2373571264036+0j)\n",
      "((10, 1), (0, 0)) (-0.002687483699944+0j)\n",
      "((10, 1), (2, 0)) (0.07471927487817+0j)\n",
      "((10, 1), (4, 0)) (-0.8591869212679+0j)\n",
      "((10, 1), (6, 0)) (2.434258082464e-05+0j)\n",
      "((10, 1), (10, 0)) (1.347836654541+0j)\n",
      "((11, 1), (1, 0)) (-0.002687483699944+0j)\n",
      "((11, 1), (3, 0)) (0.07471927487817+0j)\n",
      "((11, 1), (5, 0)) (-0.8591869212679+0j)\n",
      "((11, 1), (7, 0)) (2.434258082464e-05+0j)\n",
      "((11, 1), (11, 0)) (1.347836654541+0j)\n",
      "\n",
      "Approximate Electric dipole moment (from Dirac program): [0.0, 0.0, -2.835489410974]\n",
      "FCI Electric dipole moment: [[-2.79871262-0.j]]\n"
     ]
    }
   ],
   "source": [
    "geometry = [('Li', (0., 0., 0.)), ('H', (0., 0., 1.0))]\n",
    "basis = \"STO-3G\"\n",
    "propint = \"ZDIPLEN\"\n",
    "# another formatted file to construct the unformatted PROPINT can be deleted:\n",
    "delete_MDPROP = True\n",
    "properties = ['DIPOLE']\n",
    "relativisitc = False\n",
    "\n",
    "\n",
    "molecule = MolecularData_Dirac(geometry=geometry,\n",
    "                    basis=basis,\n",
    "                    charge=charge,\n",
    "                    description=description,\n",
    "                    relativistic=relativistic,\n",
    "                    data_directory=data_directory)\n",
    "\n",
    "molecule = run_dirac(molecule,\n",
    "                    fcidump=fcidump,\n",
    "                    point_nucleus=point_nucleus,\n",
    "                    propint=propint,\n",
    "                    properties=properties,\n",
    "                    delete_input=delete_input,\n",
    "                    delete_xyz=delete_xyz,\n",
    "                    delete_output=delete_output,\n",
    "                    delete_MRCONEE=delete_MRCONEE,\n",
    "                    delete_MDCINT=delete_MDCINT,\n",
    "                    delete_MDPROP=delete_MDPROP,\n",
    "                    relativistic=relativistic,\n",
    "                    run_ccsd=run_ccsd)\n",
    "\n",
    "property_hamiltonian = molecule.get_property_hamiltonian()\n",
    "print(property_hamiltonian)\n",
    "\n",
    "\n",
    "# Check if we indeed get the correct dipole moment. The dipole moment using the \"properties\" keywords gives:\n",
    "print('Approximate Electric dipole moment (from Dirac program): {}'.format(molecule.get_elecdipole()))\n",
    "\n",
    "# Compare with - < Psi_0 | z | Psi_0 > where Psi_0 is the FCI ground-state, i.e. giving the FCI dipole moment.\n",
    "qubit_hamiltonian = jordan_wigner(molecule.get_molecular_hamiltonian()[0])\n",
    "# Compute the states. vecs[:,0] is the ground state.\n",
    "import numpy as np\n",
    "from openfermion.linalg import get_sparse_operator\n",
    "qubit_hamiltonian = get_sparse_operator(qubit_hamiltonian).todense()\n",
    "evs, vecs = np.linalg.eigh(qubit_hamiltonian)\n",
    "\n",
    "# Compute the expectation value of the first derivative Hamiltonians. It should give the dipole moment (up to a minus sign)\n",
    "property_ham = jordan_wigner(property_hamiltonian)\n",
    "property_ham = get_sparse_operator(property_ham).todense()\n",
    "zdip_analytic = vecs[:,0].conj().T @ property_ham @ vecs[:,0]\n",
    "print('FCI Electric dipole moment: {}'.format(- zdip_analytic))"
   ]
  },
  {
   "cell_type": "markdown",
   "metadata": {},
   "source": [
    "## Add one-electron operators to the Hamiltonian"
   ]
  },
  {
   "cell_type": "markdown",
   "metadata": {},
   "source": [
    "You can add a finite field in the x,y or z direction for instance. Other one-electron operators can be added. The field strength of the operator is specified with COMFACTOR.\n",
    "For more informations, see Dirac's documentation.\n",
    "Here, I describe how you can add a finite electric field in the z direction, for the H2 molecule."
   ]
  },
  {
   "cell_type": "code",
   "execution_count": 25,
   "metadata": {},
   "outputs": [
    {
     "name": "stdout",
     "output_type": "stream",
     "text": [
      "  running /home/bsenjean/Git_repositories/dirac/build/pam --mol=/home/bsenjean/Git_repositories/Openfermion-Dirac/tutorial/foo1-H2_special_R2.0_ccsd.xyz --inp=/home/bsenjean/Git_repositories/Openfermion-Dirac/tutorial/foo1-H2_special_R2.0_ccsd.inp --get=MRCONEE MDCINT --silent --noarch\n",
      "  exit           : normal\n",
      " fcidump             \n",
      "  Initialized reading from MRCONEE (version DIRAC20 and later)\n",
      "  Core energy:   0.26458860545149998     \n",
      "  Breit interaction:  F\n",
      "  Group type (1:real, 2:complex, 4:quaternion) :           1\n",
      "  Initialized reading from MDCINT\n",
      "  MDCINT created:  20220812   09:15:54\n",
      "  Writing fcidump interface file ...\n",
      "  Printing full list of integrals (includes redundant integrals that are related by permutation symmetry)\n",
      "  fcidump file ready\n"
     ]
    }
   ],
   "source": [
    "# Set molecule parameters.\n",
    "# a ghost nuclei \"foo\" is added to lower the symmetry.\n",
    "geometry = [('H', (0., 0., 0.)), ('H', (0., 0., bond_length)), ('foo', (0.,0., 10.))]\n",
    "# The basis has to be changed so that the nuclei \"foo\" is indeed treated as a ghost nuclei.\n",
    "basis = 'special'\n",
    "special_basis = [\"STO-3G\",\"foo NOBASIS\"]\n",
    "# Define the operator: [[op1,keywords,strength],[op2,keywords,strength],[op3,...],[...]]\n",
    "operator = [[\"ZDIPLEN\",\"COMFACTOR\",0.001]]\n",
    "\n",
    "run_ccsd = True\n",
    "point_nucleus = True\n",
    "description = 'R' + str(bond_length) + '_ccsd'\n",
    "\n",
    "molecule = MolecularData_Dirac(geometry=geometry,\n",
    "                               basis=basis,\n",
    "                               special_basis=special_basis,\n",
    "                               charge=charge,\n",
    "                               description=description,\n",
    "                               data_directory=data_directory)\n",
    "\n",
    "molecule = run_dirac(molecule,\n",
    "                    fcidump=fcidump,\n",
    "                    operator=operator,\n",
    "                    point_nucleus=point_nucleus,\n",
    "                    delete_input=delete_input,\n",
    "                    delete_xyz=delete_xyz,\n",
    "                    delete_output=delete_output,\n",
    "                    delete_MRCONEE=delete_MRCONEE,\n",
    "                    delete_MDCINT=delete_MDCINT,\n",
    "                    run_ccsd=run_ccsd)\n",
    "\n",
    "molecular_hamiltonian = molecule.get_molecular_hamiltonian()"
   ]
  },
  {
   "cell_type": "markdown",
   "metadata": {},
   "source": [
    "This has performed a finite perturbation calculation with the z dipole length operator added to the Hamiltonian: H + 0.001 z"
   ]
  },
  {
   "cell_type": "markdown",
   "metadata": {},
   "source": [
    "We can actually use this to compute the dipole moment by finite difference. To do so, just compute the \"property_hamiltonian\" described above by finite difference (H(+zdip/2) - H(-zdip/2))/zdip, where H(zdip) is the molecular Hamiltonian obtained above. By performing the same calculation as before to get the FCI dipole moment, you should find the same result than without finite difference (with ```propint```)."
   ]
  },
  {
   "cell_type": "markdown",
   "metadata": {},
   "source": [
    "## Save option"
   ]
  },
  {
   "cell_type": "markdown",
   "metadata": {},
   "source": [
    "Let us go back in a non relativistic framework (although everything that follows can be done with the ```relativistic = True``` option).\n",
    "More options can be set in the calculation. The first one is the ```save``` option that allows you to save your calculation in the HDF5 format. Note that ```fcidump``` has to be equal to ```True```. The ouput can be deleted, but I advise not to do it as it contains much more information on the performed calculation."
   ]
  },
  {
   "cell_type": "code",
   "execution_count": 26,
   "metadata": {},
   "outputs": [
    {
     "name": "stdout",
     "output_type": "stream",
     "text": [
      "  running /home/bsenjean/Git_repositories/dirac/build/pam --mol=/home/bsenjean/Git_repositories/Openfermion-Dirac/tutorial/H2_STO-3G_R2.0_ccsd.xyz --inp=/home/bsenjean/Git_repositories/Openfermion-Dirac/tutorial/H2_STO-3G_R2.0_ccsd.inp --get=MRCONEE MDCINT --silent --noarch\n",
      "  exit           : normal\n",
      " fcidump             \n",
      "  Initialized reading from MRCONEE (version DIRAC20 and later)\n",
      "  Core energy:   0.26458860545149998     \n",
      "  Breit interaction:  F\n",
      "  Group type (1:real, 2:complex, 4:quaternion) :           1\n",
      "  Initialized reading from MDCINT\n",
      "  MDCINT created:  20220812   09:15:54\n",
      "  Writing fcidump interface file ...\n",
      "  Printing full list of integrals (includes redundant integrals that are related by permutation symmetry)\n",
      "  fcidump file ready\n",
      "CCAMP not found, set run_ccsd and ccamp to True if needed.\n"
     ]
    }
   ],
   "source": [
    "save = True\n",
    "basis = \"STO-3G\"\n",
    "geometry = [('H', (0., 0., 0.)), ('H', (0., 0., bond_length))]\n",
    "point_nucleus = True\n",
    "properties = ['MOLGRD','DIPOLE','QUADRUPOLE','EFG','POLARIZABILITY']\n",
    "\n",
    "molecule = MolecularData_Dirac(geometry=geometry,\n",
    "                               basis=basis,\n",
    "                               charge=charge,\n",
    "                               description=description,\n",
    "                               data_directory=data_directory)\n",
    "\n",
    "molecule = run_dirac(molecule,\n",
    "                    fcidump=fcidump,\n",
    "                    point_nucleus=point_nucleus,\n",
    "                    properties=properties,\n",
    "                    delete_input=delete_input,\n",
    "                    delete_xyz=delete_xyz,\n",
    "                    delete_output=delete_output,\n",
    "                    delete_MRCONEE=delete_MRCONEE,\n",
    "                    delete_MDCINT=delete_MDCINT,\n",
    "                    run_ccsd=run_ccsd,\n",
    "                    save=save)"
   ]
  },
  {
   "cell_type": "markdown",
   "metadata": {},
   "source": [
    "Then check is the HDF5 file has been created"
   ]
  },
  {
   "cell_type": "code",
   "execution_count": 27,
   "metadata": {},
   "outputs": [
    {
     "name": "stdout",
     "output_type": "stream",
     "text": [
      "HDF5 file found, loading from file. Name : b'H2_STO-3G_R2.0_ccsd'\n"
     ]
    }
   ],
   "source": [
    "import sys\n",
    "#if os.path.exists(\"{}/{}.hdf5\".format(data_directory,molecule.name)) is False:\n",
    "if os.path.exists(\"{}.hdf5\".format(molecule.filename)) is False:\n",
    "      sys.exit(0)\n",
    "print(\"HDF5 file found, loading from file. Name : {}\".format(molecule.get_from_file('name')))"
   ]
  },
  {
   "cell_type": "markdown",
   "metadata": {},
   "source": [
    "You can extract the following information from this file thanks to the function ```get_from_file()```:"
   ]
  },
  {
   "cell_type": "code",
   "execution_count": 28,
   "metadata": {},
   "outputs": [
    {
     "name": "stdout",
     "output_type": "stream",
     "text": [
      "Name : b'H2_STO-3G_R2.0_ccsd'\n",
      "The description is b'R2.0_ccsd'.\n",
      "System with atoms [b'H' b'H'] and protons [1 1].\n",
      "System of 2 atoms and 2 electrons.\n",
      "With charge 0.\n",
      "With basis-set b'STO-3G'.\n",
      "With 4 spin-orbitals with corresponding energies b'{1: -0.21830140553976235, 2: -0.21830140553976235, 3: -0.10877548997075513, 4: -0.10877548997075513}'.\n",
      "With 4 qubits.\n",
      "Hartree-Fock energy of b'-0.7837926701518029' Hartree.\n",
      "MP2 energy of b'-0.872511888120035' Hartree.\n",
      "CCSD energy of b'-0.945507326159213' Hartree.\n",
      "Core energy : 0.2645886054515 Hartree.\n",
      "Electric dipole moment: [0. 0. 0.]\n",
      "Electric quadrupole moment: [[-3.25626358  0.          0.        ]\n",
      " [ 0.         -3.25626358  0.        ]\n",
      " [ 0.          0.          6.51252716]]\n",
      "Electric (dipole) polarizability: [-0.         -0.         22.75933453]\n",
      "Molecular Hamiltonian : b'() 0.2645886054515\\n((0, 1), (0, 0)) -0.7789220410710197\\n((1, 1), (1, 0)) -0.7789220410710197\\n((2, 1), (2, 0)) -0.6702666768607399\\n((3, 1), (3, 0)) -0.6702666768607399\\n((0, 1), (0, 1), (0, 0), (0, 0)) 0.2547314032693683\\n((0, 1), (0, 1), (2, 0), (2, 0)) 0.12956923417169552\\n((0, 1), (1, 1), (1, 0), (0, 0)) 0.2547314032693683\\n((0, 1), (1, 1), (3, 0), (2, 0)) 0.12956923417169552\\n((0, 1), (2, 1), (0, 0), (2, 0)) 0.12956923417169552\\n((0, 1), (2, 1), (2, 0), (0, 0)) 0.25960062569759723\\n((0, 1), (3, 1), (1, 0), (2, 0)) 0.12956923417169552\\n((0, 1), (3, 1), (3, 0), (0, 0)) 0.25960062569759723\\n((1, 1), (0, 1), (0, 0), (1, 0)) 0.2547314032693683\\n((1, 1), (0, 1), (2, 0), (3, 0)) 0.12956923417169552\\n((1, 1), (1, 1), (1, 0), (1, 0)) 0.2547314032693683\\n((1, 1), (1, 1), (3, 0), (3, 0)) 0.12956923417169552\\n((1, 1), (2, 1), (0, 0), (3, 0)) 0.12956923417169552\\n((1, 1), (2, 1), (2, 0), (1, 0)) 0.25960062569759723\\n((1, 1), (3, 1), (1, 0), (3, 0)) 0.12956923417169552\\n((1, 1), (3, 1), (3, 0), (1, 0)) 0.25960062569759723\\n((2, 1), (0, 1), (0, 0), (2, 0)) 0.25960062569759723\\n((2, 1), (0, 1), (2, 0), (0, 0)) 0.12956923417169552\\n((2, 1), (1, 1), (1, 0), (2, 0)) 0.25960062569759723\\n((2, 1), (1, 1), (3, 0), (0, 0)) 0.12956923417169552\\n((2, 1), (2, 1), (0, 0), (0, 0)) 0.12956923417169552\\n((2, 1), (2, 1), (2, 0), (2, 0)) 0.2673320560730317\\n((2, 1), (3, 1), (1, 0), (0, 0)) 0.12956923417169552\\n((2, 1), (3, 1), (3, 0), (2, 0)) 0.2673320560730317\\n((3, 1), (0, 1), (0, 0), (3, 0)) 0.25960062569759723\\n((3, 1), (0, 1), (2, 0), (1, 0)) 0.12956923417169552\\n((3, 1), (1, 1), (1, 0), (3, 0)) 0.25960062569759723\\n((3, 1), (1, 1), (3, 0), (1, 0)) 0.12956923417169552\\n((3, 1), (2, 1), (0, 0), (1, 0)) 0.12956923417169552\\n((3, 1), (2, 1), (2, 0), (3, 0)) 0.2673320560730317\\n((3, 1), (3, 1), (1, 0), (1, 0)) 0.12956923417169552\\n((3, 1), (3, 1), (3, 0), (3, 0)) 0.2673320560730317\\n'\n"
     ]
    }
   ],
   "source": [
    "print('Name : {}'.format(molecule.get_from_file('name')))\n",
    "print('The description is {}.'.format(molecule.get_from_file('description')))\n",
    "print('System with atoms {} and protons {}.'.format(molecule.get_from_file('atoms'),\n",
    "                                    molecule.get_from_file('protons')))\n",
    "print('System of {} atoms and {} electrons.'.format(molecule.get_from_file('n_atoms'),\n",
    "                                                             molecule.get_from_file('n_electrons')))\n",
    "print('With charge {}.'.format(molecule.get_from_file('charge')))\n",
    "print('With basis-set {}.'.format(molecule.get_from_file('basis')))\n",
    "print('With {} spin-orbitals with corresponding energies {}.'.format(molecule.get_from_file('n_orbitals'),\n",
    "                                                                     molecule.get_from_file('orbital_energies')))\n",
    "print('With {} qubits.'.format(molecule.get_from_file('n_qubits')))\n",
    "print('Hartree-Fock energy of {} Hartree.'.format(molecule.get_from_file('hf_energy')))\n",
    "print('MP2 energy of {} Hartree.'.format(molecule.get_from_file('mp2_energy')))\n",
    "print('CCSD energy of {} Hartree.'.format(molecule.get_from_file('ccsd_energy')))\n",
    "\n",
    "E_core=molecule.get_from_file('nuclear_repulsion')\n",
    "one_body_coeff = molecule.get_from_file('one_body_coefficients')\n",
    "two_body_coeff = molecule.get_from_file('two_body_coefficients')\n",
    "molecular_ham_print = molecule.get_from_file('print_molecular_hamiltonian')\n",
    "print('Core energy : {} Hartree.'.format(E_core))\n",
    "print('Electric dipole moment: {}'.format(molecule.get_from_file('elec_dipole')))\n",
    "print('Electric quadrupole moment: {}'.format(molecule.get_from_file('elec_quadrupole')))\n",
    "print('Electric (dipole) polarizability: {}'.format(molecule.get_from_file('elec_polarizability')))\n",
    "print('Molecular Hamiltonian : {}'.format(molecular_ham_print))"
   ]
  },
  {
   "cell_type": "markdown",
   "metadata": {},
   "source": [
    "Note that this molecular Hamiltonian cannot be used directly to construct the qubit Hamiltonian. It has to be reconstruct first thanks to the core energy and the one- and two-body coefficients:"
   ]
  },
  {
   "cell_type": "code",
   "execution_count": 29,
   "metadata": {},
   "outputs": [
    {
     "name": "stdout",
     "output_type": "stream",
     "text": [
      "Solution of the qubit Hamiltonian :\n",
      " [-0.94864112 -0.92453733 -0.92453733 -0.92453733 -0.67479531 -0.67479531\n",
      " -0.54093864 -0.54093864 -0.51433344 -0.51433344 -0.40626039 -0.40567807\n",
      " -0.40567807 -0.37643218 -0.03113384  0.26458861]\n"
     ]
    }
   ],
   "source": [
    "from openfermion.ops import InteractionOperator\n",
    "\n",
    "molecular_ham = InteractionOperator(float(E_core),one_body_coeff,two_body_coeff)\n",
    "qubit_ham = jordan_wigner(molecular_ham)\n",
    "evs = eigenspectrum(qubit_ham)\n",
    "print(\"Solution of the qubit Hamiltonian :\\n {}\".format(evs))"
   ]
  },
  {
   "cell_type": "markdown",
   "metadata": {},
   "source": [
    "## Average-of-configuration open-shell Hartree-Fock"
   ]
  },
  {
   "cell_type": "markdown",
   "metadata": {},
   "source": [
    "http://www.diracprogram.org/doc/master/tutorials/open_shell_scf/aoc.html\n",
    "\n",
    "Note that DIRAC does not have restricted open-shell Hartree-Fock implemented, as it is a relativistic code: spin-orbit interaction couples spin and spatial degrees of freedom and make the formalism much more complicated since one cannot exploit spin symmetry alone for fixing the expansion coefficients in the reference configuration state function (CSF) which serves as the trial function.\n",
    "Instead of optimizing the energy for a single open-shell state, we shall optimize the energy for a limited set of open-shell states. See the link above for more information.\n",
    "\n",
    "As an example, let's consider the carbon atom. The two valence electrons are spread in 6 pi spinors, and one can do the average of configuration to make spherically averaged orbitals.\n",
    "\n",
    "List of 3 values, \n",
    "- the first one for the number of closed-shell electrons\n",
    "- the second one for the number of open-shell\n",
    "- the third is for the fractional occupation (#active electrons/#active spinor)\n",
    "\n",
    "Let us consider the problem without symmetry, otherwise the setup of the openshell keywords is more complicated and one should refer the DIRAC documentation. By the same time, let's look at the influence of the symmetry on the HF energy."
   ]
  },
  {
   "cell_type": "code",
   "execution_count": 30,
   "metadata": {},
   "outputs": [
    {
     "name": "stdout",
     "output_type": "stream",
     "text": [
      "  running /home/bsenjean/Git_repositories/dirac/build/pam --mol=/home/bsenjean/Git_repositories/Openfermion-Dirac/tutorial/C1_STO-3G_R2.0_ccsd.xyz --inp=/home/bsenjean/Git_repositories/Openfermion-Dirac/tutorial/C1_STO-3G_R2.0_ccsd.inp --get= --silent --noarch\n",
      "  exit           : normal\n",
      "Hartree-Fock energy of -36.761924772921503 Hartree.\n",
      "  running /home/bsenjean/Git_repositories/dirac/build/pam --mol=/home/bsenjean/Git_repositories/Openfermion-Dirac/tutorial/C1_STO-3G_R2.0_ccsd.xyz --inp=/home/bsenjean/Git_repositories/Openfermion-Dirac/tutorial/C1_STO-3G_R2.0_ccsd.inp --get= --silent --noarch\n",
      "  exit           : normal\n",
      "Hartree-Fock energy of -37.089584448492943 Hartree.\n",
      "  running /home/bsenjean/Git_repositories/dirac/build/pam --mol=/home/bsenjean/Git_repositories/Openfermion-Dirac/tutorial/C1_STO-3G_R2.0_ccsd.xyz --inp=/home/bsenjean/Git_repositories/Openfermion-Dirac/tutorial/C1_STO-3G_R2.0_ccsd.inp --get= --silent --noarch\n",
      "  exit           : normal\n",
      "Hartree-Fock energy of -37.162121731358731 Hartree.\n"
     ]
    }
   ],
   "source": [
    "geometry = [('C', (0., 0., 0.))]\n",
    "\n",
    "molecule = MolecularData_Dirac(geometry=geometry,\n",
    "                               basis=basis,\n",
    "                               charge=charge,\n",
    "                               description=description,\n",
    "                               data_directory=data_directory)\n",
    "\n",
    "molecule = run_dirac(molecule,\n",
    "                    delete_input=delete_input,\n",
    "                    delete_xyz=delete_xyz,\n",
    "                    delete_output=delete_output,\n",
    "                    symmetry=True)\n",
    "print('Hartree-Fock energy of {} Hartree.'.format(molecule.get_energies()[0]))\n",
    "\n",
    "molecule = run_dirac(molecule,\n",
    "                    delete_input=delete_input,\n",
    "                    delete_xyz=delete_xyz,\n",
    "                    delete_output=delete_output,\n",
    "                    symmetry=False)\n",
    "print('Hartree-Fock energy of {} Hartree.'.format(molecule.get_energies()[0]))\n",
    "\n",
    "openshell = [\"4\",\"1\",\"2/6\"]\n",
    "molecule = run_dirac(molecule,\n",
    "                    delete_input=delete_input,\n",
    "                    delete_xyz=delete_xyz,\n",
    "                    delete_output=delete_output,\n",
    "                    openshell=openshell,\n",
    "                    symmetry=False)\n",
    "print('Hartree-Fock energy of {} Hartree.'.format(molecule.get_energies()[0]))"
   ]
  },
  {
   "cell_type": "markdown",
   "metadata": {},
   "source": [
    "## Uncontracted Basis-set"
   ]
  },
  {
   "cell_type": "markdown",
   "metadata": {},
   "source": [
    " If one add the keyword for uncontract basis set, the SCF energy gets even lower."
   ]
  },
  {
   "cell_type": "code",
   "execution_count": 31,
   "metadata": {},
   "outputs": [
    {
     "name": "stdout",
     "output_type": "stream",
     "text": [
      "  running /home/bsenjean/Git_repositories/dirac/build/pam --mol=/home/bsenjean/Git_repositories/Openfermion-Dirac/tutorial/C1_STO-3G_R2.0_ccsd.xyz --inp=/home/bsenjean/Git_repositories/Openfermion-Dirac/tutorial/C1_STO-3G_R2.0_ccsd.inp --get= --silent --noarch\n",
      "  exit           : normal\n",
      "Hartree-Fock energy of -36.895377427883830 Hartree.\n",
      "  running /home/bsenjean/Git_repositories/dirac/build/pam --mol=/home/bsenjean/Git_repositories/Openfermion-Dirac/tutorial/C1_STO-3G_R2.0_ccsd.xyz --inp=/home/bsenjean/Git_repositories/Openfermion-Dirac/tutorial/C1_STO-3G_R2.0_ccsd.inp --get= --silent --noarch\n",
      "  exit           : normal\n",
      "Hartree-Fock energy of -37.176378231619175 Hartree.\n",
      "  running /home/bsenjean/Git_repositories/dirac/build/pam --mol=/home/bsenjean/Git_repositories/Openfermion-Dirac/tutorial/C1_STO-3G_R2.0_ccsd.xyz --inp=/home/bsenjean/Git_repositories/Openfermion-Dirac/tutorial/C1_STO-3G_R2.0_ccsd.inp --get= --silent --noarch\n",
      "  exit           : normal\n",
      "Hartree-Fock energy of -37.237701106225757 Hartree.\n"
     ]
    }
   ],
   "source": [
    "uncontract = True\n",
    "molecule = run_dirac(molecule,\n",
    "                    delete_input=delete_input,\n",
    "                    delete_xyz=delete_xyz,\n",
    "                    delete_output=delete_output,\n",
    "                    uncontract=uncontract)\n",
    "print('Hartree-Fock energy of {} Hartree.'.format(molecule.get_energies()[0]))\n",
    "\n",
    "molecule = run_dirac(molecule,\n",
    "                    delete_input=delete_input,\n",
    "                    delete_xyz=delete_xyz,\n",
    "                    delete_output=delete_output,\n",
    "                    symmetry=False,\n",
    "                    uncontract=uncontract)\n",
    "print('Hartree-Fock energy of {} Hartree.'.format(molecule.get_energies()[0]))\n",
    "\n",
    "molecule = run_dirac(molecule,\n",
    "                    delete_input=delete_input,\n",
    "                    delete_xyz=delete_xyz,\n",
    "                    delete_output=delete_output,\n",
    "                    symmetry=False,\n",
    "                    openshell=openshell,\n",
    "                    uncontract=uncontract)\n",
    "print('Hartree-Fock energy of {} Hartree.'.format(molecule.get_energies()[0]))"
   ]
  },
  {
   "cell_type": "markdown",
   "metadata": {},
   "source": [
    "## Special Basis-set"
   ]
  },
  {
   "cell_type": "markdown",
   "metadata": {},
   "source": [
    "The last option I want to discuss is the special basis set. One can specify a given basis set for a specific element only.\n",
    "An example is the Helium hydride ion HeH+, where the ```STO-3G``` basis can be considered for the Helium atom and the ```cc-pVDZ``` basis for the hydrogen atom.\n",
    "To do so, set the basis-set to \"special\", and defines a special basis as a list of two string, as follows:"
   ]
  },
  {
   "cell_type": "code",
   "execution_count": 32,
   "metadata": {},
   "outputs": [
    {
     "name": "stdout",
     "output_type": "stream",
     "text": [
      "  running /home/bsenjean/Git_repositories/dirac/build/pam --mol=/home/bsenjean/Git_repositories/Openfermion-Dirac/tutorial/H1-He1_special_1+_R2.0_ccsd.xyz --inp=/home/bsenjean/Git_repositories/Openfermion-Dirac/tutorial/H1-He1_special_1+_R2.0_ccsd.inp --get= --silent --noarch\n",
      "  exit           : normal\n",
      "Hartree-Fock energy of -2.8128481517782093 Hartree.\n",
      "MP2 energy of -2.813135514565686 Hartree.\n",
      "CCSD energy of -2.813094386918965 Hartree.\n"
     ]
    }
   ],
   "source": [
    "geometry = [('He', (0., 0., 0.)), ('H', (0., 0., bond_length))]\n",
    "charge = 1\n",
    "run_ccsd = True\n",
    "if run_ccsd:\n",
    "    description = 'R' + str(bond_length) + '_ccsd'\n",
    "else:\n",
    "    description = 'R' + str(bond_length) + '_scf'\n",
    "\n",
    "# necessary keyword to specify that we are using a special basis\n",
    "basis=\"special\"\n",
    "# list of two string : [default basis, special basis for a given atomic species]\n",
    "special_basis=[\"STO-3G\",\"H BASIS cc-pVDZ\"]\n",
    "\n",
    "\n",
    "molecule = MolecularData_Dirac(geometry=geometry,\n",
    "                               basis=basis,\n",
    "                               special_basis=special_basis,\n",
    "                               charge=charge,\n",
    "                               description=description,\n",
    "                               data_directory=data_directory)\n",
    "\n",
    "molecule = run_dirac(molecule,\n",
    "                    point_nucleus=point_nucleus,\n",
    "                    delete_input=delete_input,\n",
    "                    delete_xyz=delete_xyz,\n",
    "                    delete_output=delete_output,\n",
    "                    delete_MRCONEE=delete_MRCONEE,\n",
    "                    delete_MDCINT=delete_MDCINT,\n",
    "                    run_ccsd=run_ccsd)\n",
    "\n",
    "print('Hartree-Fock energy of {} Hartree.'.format(molecule.get_energies()[0]))\n",
    "print('MP2 energy of {} Hartree.'.format(molecule.get_energies()[1]))\n",
    "print('CCSD energy of {} Hartree.'.format(molecule.get_energies()[2]))"
   ]
  },
  {
   "cell_type": "markdown",
   "metadata": {},
   "source": [
    "## Manual options"
   ]
  },
  {
   "cell_type": "markdown",
   "metadata": {},
   "source": [
    "The Dirac program possesses a lot of different options that can be inserted manually in the script. The ```manual_option``` keyword can be used in this respect. Here, I described an option that was necessary to perform CCSD calculation on HeH+, due to a known bug that has now been fixed."
   ]
  },
  {
   "cell_type": "code",
   "execution_count": 33,
   "metadata": {},
   "outputs": [
    {
     "name": "stdout",
     "output_type": "stream",
     "text": [
      "  running /home/bsenjean/Git_repositories/dirac/build/pam --mol=/home/bsenjean/Git_repositories/Openfermion-Dirac/tutorial/H1-He1_STO-3G_1+_R2.0_ccsd.xyz --inp=/home/bsenjean/Git_repositories/Openfermion-Dirac/tutorial/H1-He1_STO-3G_1+_R2.0_ccsd.inp --get=MRCONEE MDCINT --silent --noarch\n",
      "  exit           : normal\n",
      " fcidump             \n",
      "  Initialized reading from MRCONEE (version DIRAC20 and later)\n",
      "  Core energy:   0.52917721090299996     \n",
      "  Breit interaction:  F\n",
      "  Group type (1:real, 2:complex, 4:quaternion) :           1\n",
      "  Initialized reading from MDCINT\n",
      "  MDCINT created:  20220812   09:15:57\n",
      "  Writing fcidump interface file ...\n",
      "  Printing full list of integrals (includes redundant integrals that are related by permutation symmetry)\n",
      "  fcidump file ready\n",
      "CCSD energy of -2.810780097230277 Hartree.\n"
     ]
    }
   ],
   "source": [
    "run_ccsd = True\n",
    "if run_ccsd:\n",
    "    description = 'R' + str(bond_length) + '_ccsd'\n",
    "else:\n",
    "    description = 'R' + str(bond_length) + '_scf'\n",
    "    \n",
    "basis=\"STO-3G\"\n",
    "manual_option = \"\"\"**RELCCSD\n",
    "*CCENER\n",
    ".NOSDT\"\"\" # or manual_option = \"**RELCCSD\\n*CCENER\\n.NOSDT\". This is used to switch off the triples correction.\n",
    "\n",
    "molecule = MolecularData_Dirac(geometry=geometry,\n",
    "                               basis=basis,\n",
    "                               charge=charge,\n",
    "                               description=description,\n",
    "                               data_directory=data_directory)\n",
    "\n",
    "molecule = run_dirac(molecule,\n",
    "                    fcidump=True,\n",
    "                    point_nucleus=point_nucleus,\n",
    "                    manual_option=manual_option,\n",
    "                    delete_input=delete_input,\n",
    "                    delete_xyz=delete_xyz,\n",
    "                    delete_output=delete_output,\n",
    "                    delete_MRCONEE=delete_MRCONEE,\n",
    "                    delete_MDCINT=delete_MDCINT,\n",
    "                    run_ccsd=run_ccsd)\n",
    "\n",
    "print('CCSD energy of {} Hartree.'.format(molecule.get_energies()[2]))"
   ]
  },
  {
   "cell_type": "markdown",
   "metadata": {},
   "source": [
    "Note that the qubit Hamiltonian operates in the Fock space. Hence, the ground-state is the ground-state is not always the expected one. This is especially true for ionic species, such as HeH+ for instance. One can use the symmetry conserving bravyi kitaev transformation to get only the states we are interested of:"
   ]
  },
  {
   "cell_type": "code",
   "execution_count": 34,
   "metadata": {},
   "outputs": [
    {
     "name": "stdout",
     "output_type": "stream",
     "text": [
      "Solving the Qubit Hamiltonian (Jordan-Wigner): \n",
      " [-3.27136847 -3.27136847 -2.95766144 -2.8107801  -2.39500654 -2.39500654\n",
      " -2.39500654 -2.38856976 -2.34400534 -2.34400534 -1.66717093 -1.66717093\n",
      " -0.67496426 -0.46136423 -0.46136423  0.52917721]\n",
      "CCSD energy of -2.810780097230277 Hartree.\n",
      "Solving the Qubit Hamiltonian (Bravyi-Kitaev) Symmetry conserving: \n",
      " [-2.8107801  -2.39500654 -2.38856976 -0.67496426]\n"
     ]
    }
   ],
   "source": [
    "molecular_hamiltonian = molecule.get_molecular_hamiltonian()[0]\n",
    "qubit_hamiltonian = jordan_wigner(molecular_hamiltonian)\n",
    "evs = eigenspectrum(qubit_hamiltonian)\n",
    "print('Solving the Qubit Hamiltonian (Jordan-Wigner): \\n {}'.format(evs))\n",
    "\n",
    "\n",
    "from openfermion.transforms import get_fermion_operator, symmetry_conserving_bravyi_kitaev\n",
    "\n",
    "#symmetry_conserving_bravyi_kitaev(fermionicoperator,number_of_active_orbs,number_of_active_elec)\n",
    "\n",
    "number_orbs = len(molecule.get_integrals_FCIDUMP()[1])\n",
    "fermion_operator = get_fermion_operator(molecular_hamiltonian)\n",
    "qubit_hamiltonian = symmetry_conserving_bravyi_kitaev(fermion_operator,number_orbs,2)\n",
    "evs = eigenspectrum(qubit_hamiltonian)\n",
    "\n",
    "print('CCSD energy of {} Hartree.'.format(molecule.get_energies()[2]))\n",
    "print('Solving the Qubit Hamiltonian (Bravyi-Kitaev) Symmetry conserving: \\n {}'.format(evs))"
   ]
  },
  {
   "cell_type": "markdown",
   "metadata": {},
   "source": [
    "# Known actual issues "
   ]
  },
  {
   "cell_type": "markdown",
   "metadata": {},
   "source": [
    "From the side of Dirac with CCSD:\n",
    "\n",
    "- Open-shell with CCSD: For Be+, HeH, or other open-shell systems, the starting Slater determinant for the CCSD calculation is not well determined. Because of this, CCSD calculation usually get rid of electrons and consider a closed-shell system (like Be2+ instead of Be+, or HeH+ instead of HeH). The repartition of the electrons in the determinant can be specified manually, but no automatic solution has been implemented yet.\n",
    "Note that the FCI calculation may work, as shown in the following case of Beryllium."
   ]
  },
  {
   "cell_type": "markdown",
   "metadata": {},
   "source": [
    "### Open-Shell problems (Be+)"
   ]
  },
  {
   "cell_type": "markdown",
   "metadata": {},
   "source": [
    "CCSD computes the energy of Be2+ instead of Be+. FCI is correct here."
   ]
  },
  {
   "cell_type": "code",
   "execution_count": 35,
   "metadata": {},
   "outputs": [
    {
     "name": "stdout",
     "output_type": "stream",
     "text": [
      "  running /home/bsenjean/Git_repositories/dirac/build/pam --mol=/home/bsenjean/Git_repositories/Openfermion-Dirac/tutorial/Be1_STO-3G_1+.xyz --inp=/home/bsenjean/Git_repositories/Openfermion-Dirac/tutorial/Be1_STO-3G_1+.inp --get=MRCONEE MDCINT --silent --noarch\n",
      "  exit           : normal\n",
      " fcidump             \n",
      "  Initialized reading from MRCONEE (version DIRAC20 and later)\n",
      "  Core energy:    0.0000000000000000     \n",
      "  Breit interaction:  F\n",
      "  Group type (1:real, 2:complex, 4:quaternion) :           1\n",
      "  Initialized reading from MDCINT\n",
      "  MDCINT created:  20220812   09:15:57\n",
      "  Writing fcidump interface file ...\n",
      "  Printing full list of integrals (includes redundant integrals that are related by permutation symmetry)\n",
      "  fcidump file ready\n",
      "Hartree-Fock energy of -14.097842446570771 Hartree.\n",
      "MP2 energy of -13.440020788513388 Hartree.\n",
      "CCSD energy of -13.439999521071710 Hartree.\n",
      "Solving the Qubit Hamiltonian (Jordan-Wigner): first:-14.403654763401024 ; twentieth:-14.098199529787994 \n",
      "10\n",
      "Solving the Qubit Hamiltonian (Bravyi-Kitaev) Symmetry conserving: \n",
      "       -14.164908020154119, -14.164908020154087, -14.164908020154078, -14.098199529787971\n",
      "For unknown reasons, a triplet state seems to be obtained here, while the ground-state of Be+ should be a doublet.\n",
      "  running /home/bsenjean/Git_repositories/dirac/build/pam --mol=/home/bsenjean/Git_repositories/Openfermion-Dirac/tutorial/Be1_STO-3G_1+.xyz --inp=/home/bsenjean/Git_repositories/Openfermion-Dirac/tutorial/Be1_STO-3G_1+.inp --get= --silent --noarch\n",
      "  exit           : normal\n",
      "FCI energy of Be+: -14.098199529788 Hartree.\n",
      "  running /home/bsenjean/Git_repositories/dirac/build/pam --mol=/home/bsenjean/Git_repositories/Openfermion-Dirac/tutorial/Be1_STO-3G.xyz --inp=/home/bsenjean/Git_repositories/Openfermion-Dirac/tutorial/Be1_STO-3G.inp --get= --silent --noarch\n",
      "  exit           : normal\n",
      "FCI energy of Be: -14.403654763390 Hartree.\n",
      "  running /home/bsenjean/Git_repositories/dirac/build/pam --mol=/home/bsenjean/Git_repositories/Openfermion-Dirac/tutorial/Be1_STO-3G_2+.xyz --inp=/home/bsenjean/Git_repositories/Openfermion-Dirac/tutorial/Be1_STO-3G_2+.inp --get= --silent --noarch\n",
      "  exit           : normal\n",
      "FCI energy of Be2+: -13.439999521072 Hartree.\n"
     ]
    }
   ],
   "source": [
    "basis = 'STO-3G'\n",
    "charge = 1\n",
    "\n",
    "geometry = [('Be', (0., 0., 0.))]\n",
    "\n",
    "run_ccsd = 1\n",
    "description = ''\n",
    "\n",
    "molecule = MolecularData_Dirac(geometry=geometry,\n",
    "                               basis=basis,\n",
    "                               charge=charge,\n",
    "                               description=description,\n",
    "                               data_directory=data_directory)\n",
    "\n",
    "molecule = run_dirac(molecule,\n",
    "                    fcidump=fcidump,\n",
    "                    delete_input=delete_input,\n",
    "                    delete_xyz=delete_xyz,\n",
    "                    delete_output=delete_output,\n",
    "                    delete_MRCONEE=delete_MRCONEE,\n",
    "                    delete_MDCINT=delete_MDCINT,\n",
    "                    run_ccsd=run_ccsd)\n",
    "\n",
    "molecular_hamiltonian = molecule.get_molecular_hamiltonian()[0]\n",
    "qubit_hamiltonian = jordan_wigner(molecular_hamiltonian)\n",
    "evs = eigenspectrum(qubit_hamiltonian)\n",
    "print('Hartree-Fock energy of {} Hartree.'.format(molecule.get_energies()[0]))\n",
    "print('MP2 energy of {} Hartree.'.format(molecule.get_energies()[1]))\n",
    "print('CCSD energy of {} Hartree.'.format(molecule.get_energies()[2]))\n",
    "print('Solving the Qubit Hamiltonian (Jordan-Wigner): first:{} ; twentieth:{} '.format(evs[0],evs[19])) \n",
    "# The 20th energy is the one of Be+. The first is the energy of Be.\n",
    "number_orbs = len(molecule.get_integrals_FCIDUMP()[1])\n",
    "print(number_orbs)\n",
    "fermion_operator = get_fermion_operator(molecular_hamiltonian)\n",
    "qubit_hamiltonian = symmetry_conserving_bravyi_kitaev(fermion_operator,number_orbs,3)\n",
    "evs = eigenspectrum(qubit_hamiltonian)\n",
    "print('Solving the Qubit Hamiltonian (Bravyi-Kitaev) Symmetry conserving: \\n \\\n",
    "      {}, {}, {}, {}'.format(evs[0],evs[1],evs[2],evs[3]))\n",
    "print('For unknown reasons, a triplet state seems to be obtained here, \\\n",
    "while the ground-state of Be+ should be a doublet.')\n",
    "\n",
    "molecule = run_dirac(molecule,\n",
    "                    delete_input=delete_input,\n",
    "                    delete_xyz=delete_xyz,\n",
    "                    delete_output=delete_output,\n",
    "                    delete_MRCONEE=delete_MRCONEE,\n",
    "                    delete_MDCINT=delete_MDCINT,\n",
    "                    run_fci=run_fci)\n",
    "\n",
    "print('FCI energy of Be+: {} Hartree.'.format(molecule.get_energies()[3]))\n",
    "\n",
    "charge = 0\n",
    "\n",
    "molecule = MolecularData_Dirac(geometry=geometry,\n",
    "                               basis=basis,\n",
    "                               charge=charge,\n",
    "                               description=description,\n",
    "                               data_directory=data_directory)\n",
    "\n",
    "molecule = run_dirac(molecule,\n",
    "                    delete_input=delete_input,\n",
    "                    delete_xyz=delete_xyz,\n",
    "                    delete_output=delete_output,\n",
    "                    delete_MRCONEE=delete_MRCONEE,\n",
    "                    delete_MDCINT=delete_MDCINT,\n",
    "                    run_fci=run_fci)\n",
    "\n",
    "print('FCI energy of Be: {} Hartree.'.format(molecule.get_energies()[3]))\n",
    "\n",
    "charge = 2\n",
    "\n",
    "molecule = MolecularData_Dirac(geometry=geometry,\n",
    "                               basis=basis,\n",
    "                               charge=charge,\n",
    "                               description=description,\n",
    "                               data_directory=data_directory)\n",
    "\n",
    "molecule = run_dirac(molecule,\n",
    "                    delete_input=delete_input,\n",
    "                    delete_xyz=delete_xyz,\n",
    "                    delete_output=delete_output,\n",
    "                    delete_MRCONEE=delete_MRCONEE,\n",
    "                    delete_MDCINT=delete_MDCINT,\n",
    "                    run_fci=run_fci)\n",
    "\n",
    "print('FCI energy of Be2+: {} Hartree.'.format(molecule.get_energies()[3]))"
   ]
  },
  {
   "cell_type": "code",
   "execution_count": null,
   "metadata": {},
   "outputs": [],
   "source": []
  }
 ],
 "metadata": {
  "kernelspec": {
   "display_name": "Python 3 (ipykernel)",
   "language": "python",
   "name": "python3"
  },
  "language_info": {
   "codemirror_mode": {
    "name": "ipython",
    "version": 3
   },
   "file_extension": ".py",
   "mimetype": "text/x-python",
   "name": "python",
   "nbconvert_exporter": "python",
   "pygments_lexer": "ipython3",
   "version": "3.9.12"
  },
  "toc": {
   "base_numbering": 1,
   "nav_menu": {},
   "number_sections": true,
   "sideBar": true,
   "skip_h1_title": false,
   "title_cell": "Table of Contents",
   "title_sidebar": "Contents",
   "toc_cell": false,
   "toc_position": {},
   "toc_section_display": true,
   "toc_window_display": false
  },
  "varInspector": {
   "cols": {
    "lenName": 16,
    "lenType": 16,
    "lenVar": 40
   },
   "kernels_config": {
    "python": {
     "delete_cmd_postfix": "",
     "delete_cmd_prefix": "del ",
     "library": "var_list.py",
     "varRefreshCmd": "print(var_dic_list())"
    },
    "r": {
     "delete_cmd_postfix": ") ",
     "delete_cmd_prefix": "rm(",
     "library": "var_list.r",
     "varRefreshCmd": "cat(var_dic_list()) "
    }
   },
   "types_to_exclude": [
    "module",
    "function",
    "builtin_function_or_method",
    "instance",
    "_Feature"
   ],
   "window_display": false
  }
 },
 "nbformat": 4,
 "nbformat_minor": 2
}
