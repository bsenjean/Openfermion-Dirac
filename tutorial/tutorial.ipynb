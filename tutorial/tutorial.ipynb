{
 "cells": [
  {
   "cell_type": "markdown",
   "metadata": {},
   "source": [
    "# Tutorial for the OpenFermion-Dirac interface"
   ]
  },
  {
   "cell_type": "markdown",
   "metadata": {},
   "source": [
    "The goal of this interface is to perform relativistic or non-relativistic calculation of \n",
    "chemical compounds through the Dirac program (see http://diracprogram.org)\n",
    "in OpenFermion (https://github.com/quantumlib/OpenFermion). \n",
    "The resulting molecular Hamiltonian can then be encoded into a qubit Hamiltonian thanks to the Jordan-Wigner\n",
    "transformation, for instance."
   ]
  },
  {
   "cell_type": "markdown",
   "metadata": {},
   "source": [
    "## Non relativistic calculation"
   ]
  },
  {
   "cell_type": "markdown",
   "metadata": {},
   "source": [
    "First, define your atom or molecule. Here, the example of the hydrogen molecule is provided."
   ]
  },
  {
   "cell_type": "code",
   "execution_count": 1,
   "metadata": {},
   "outputs": [],
   "source": [
    "bond_length = 1.0\n",
    "multiplicity = 1\n",
    "charge = 0\n",
    "geometry = [('H', (0., 0., 0.)), ('H', (0., 0., bond_length))]"
   ]
  },
  {
   "cell_type": "markdown",
   "metadata": {},
   "source": [
    "Then, specify the basis set. For practical reason, the small STO-3G basis set is considered here. More complex basis sets can be used to perform Hartree-Fock (HF) or Coupled Cluster Single and Doubles (CCSD), but it becomes rapidly untractable for Full Configuration Interaction (FCI)."
   ]
  },
  {
   "cell_type": "code",
   "execution_count": 2,
   "metadata": {},
   "outputs": [],
   "source": [
    "basis = 'STO-3G'"
   ]
  },
  {
   "cell_type": "markdown",
   "metadata": {},
   "source": [
    "To know more about the valid basis sets, we refer the reader to the DIRAC documentation (http://diracprogram.org)."
   ]
  },
  {
   "cell_type": "markdown",
   "metadata": {},
   "source": [
    "Given that the filename does not contain information about the bond length or the type of calculation, it is interesting to add it manually. We will perform here a CCSD calculation."
   ]
  },
  {
   "cell_type": "code",
   "execution_count": 3,
   "metadata": {},
   "outputs": [],
   "source": [
    "run_ccsd = True\n",
    "if run_ccsd:\n",
    "    description = 'R' + str(bond_length) + '_ccsd'\n",
    "else:\n",
    "    description = 'R' + str(bond_length) + '_scf'"
   ]
  },
  {
   "cell_type": "markdown",
   "metadata": {},
   "source": [
    "Now that every parameters are defined, one can construct the molecule thanks to the ```MolecularData_Dirac``` command"
   ]
  },
  {
   "cell_type": "code",
   "execution_count": 4,
   "metadata": {},
   "outputs": [],
   "source": [
    "import os\n",
    "data_directory=os.getcwd() + \"/\" + \"work_dir\"\n",
    "\n",
    "from openfermion_dirac import MolecularData_Dirac\n",
    "\n",
    "molecule = MolecularData_Dirac(geometry=geometry,\n",
    "                               basis=basis,\n",
    "                               multiplicity=multiplicity,\n",
    "                               charge=charge,\n",
    "                               description=description,\n",
    "                               data_directory=data_directory)"
   ]
  },
  {
   "cell_type": "markdown",
   "metadata": {},
   "source": [
    "Time to start the calculation ! First, defines which type of calculation you want to perform. The choices are SCF (Hartree-Fock) or CCSD. If you don't set any option, it will run an SCF calculation automatically. \n",
    "If you set ```run_ccsd = True```, it will perform a CCSD calculation. Performing CCSD also gives you access to the second-order Moller-Plesset perturbation (MP2) and the Hartree-Fock (HF) energy."
   ]
  },
  {
   "cell_type": "code",
   "execution_count": 5,
   "metadata": {},
   "outputs": [],
   "source": [
    "run_ccsd = True"
   ]
  },
  {
   "cell_type": "markdown",
   "metadata": {},
   "source": [
    "Several files are generated during the calculation: \n",
    "- The input file (.inp)\n",
    "- The geometry file (.xyz)\n",
    "- The output file (.out)\n",
    "- The integral files (MRCONEE and MDCINT)\n",
    "- The FCIDUMP file\n",
    "- Optionally, an hdf5 file which saves several informations (as shown latter on).\n",
    "\n",
    "You can define all the files that you want to keep or to discard at the end of the calculation. Note that the geometry of the molecule and the input file are included in the Dirac output file, such that only this file can be kept.\n",
    "The MRCONEE and MDCINT contain the one- and two-electron integrals, respectively. The ```dirac_openfermion_mointegral_export.x``` transforms those files into a FCIDUMP file containing all the molecular integrals. Only the latter file is then needed."
   ]
  },
  {
   "cell_type": "code",
   "execution_count": 6,
   "metadata": {},
   "outputs": [],
   "source": [
    "delete_input = True\n",
    "delete_xyz = True\n",
    "delete_output = False\n",
    "delete_MRCONEE = True\n",
    "delete_MDCINT = True\n",
    "delete_FCIDUMP = False"
   ]
  },
  {
   "cell_type": "markdown",
   "metadata": {},
   "source": [
    "To start the calculation, use the command ```run_dirac``` as follows:"
   ]
  },
  {
   "cell_type": "code",
   "execution_count": 7,
   "metadata": {},
   "outputs": [
    {
     "name": "stdout",
     "output_type": "stream",
     "text": [
      "Starting Dirac calculation\n",
      "\n",
      "\n",
      "Creation of the FCIDUMP file\n",
      "\n"
     ]
    }
   ],
   "source": [
    "from openfermion_dirac import run_dirac\n",
    "\n",
    "molecule = run_dirac(molecule,\n",
    "                    delete_input=delete_input,\n",
    "                    delete_xyz=delete_xyz,\n",
    "                    delete_output=delete_output,\n",
    "                    delete_MRCONEE=delete_MRCONEE,\n",
    "                    delete_MDCINT=delete_MDCINT,\n",
    "                    delete_FCIDUMP=delete_FCIDUMP,\n",
    "                    run_ccsd=run_ccsd)"
   ]
  },
  {
   "cell_type": "markdown",
   "metadata": {},
   "source": [
    "Now, one can extract the second quantized Hamiltonian from the object ```molecule```"
   ]
  },
  {
   "cell_type": "code",
   "execution_count": 8,
   "metadata": {},
   "outputs": [
    {
     "name": "stdout",
     "output_type": "stream",
     "text": [
      "() 0.5291772083\n",
      "((0, 1), (0, 0)) -1.11084417705\n",
      "((1, 1), (1, 0)) -1.11084417705\n",
      "((2, 1), (2, 0)) -0.5891210130952\n",
      "((3, 1), (3, 0)) -0.5891210130952\n",
      "((0, 1), (0, 1), (0, 0), (0, 0)) 0.313201246336\n",
      "((0, 1), (0, 1), (2, 0), (2, 0)) 0.0983952893027\n",
      "((0, 1), (1, 1), (1, 0), (0, 0)) 0.313201246336\n",
      "((0, 1), (1, 1), (3, 0), (2, 0)) 0.0983952893027\n",
      "((0, 1), (2, 1), (0, 0), (2, 0)) 0.0983952893027\n",
      "((0, 1), (2, 1), (2, 0), (0, 0)) 0.3108533766756\n",
      "((0, 1), (3, 1), (1, 0), (2, 0)) 0.0983952893027\n",
      "((0, 1), (3, 1), (3, 0), (0, 0)) 0.3108533766756\n",
      "((1, 1), (0, 1), (0, 0), (1, 0)) 0.313201246336\n",
      "((1, 1), (0, 1), (2, 0), (3, 0)) 0.0983952893027\n",
      "((1, 1), (1, 1), (1, 0), (1, 0)) 0.313201246336\n",
      "((1, 1), (1, 1), (3, 0), (3, 0)) 0.0983952893027\n",
      "((1, 1), (2, 1), (0, 0), (3, 0)) 0.0983952893027\n",
      "((1, 1), (2, 1), (2, 0), (1, 0)) 0.3108533766756\n",
      "((1, 1), (3, 1), (1, 0), (3, 0)) 0.0983952893027\n",
      "((1, 1), (3, 1), (3, 0), (1, 0)) 0.3108533766756\n",
      "((2, 1), (0, 1), (0, 0), (2, 0)) 0.3108533766756\n",
      "((2, 1), (0, 1), (2, 0), (0, 0)) 0.0983952893027\n",
      "((2, 1), (1, 1), (1, 0), (2, 0)) 0.3108533766756\n",
      "((2, 1), (1, 1), (3, 0), (0, 0)) 0.0983952893027\n",
      "((2, 1), (2, 1), (0, 0), (0, 0)) 0.0983952893027\n",
      "((2, 1), (2, 1), (2, 0), (2, 0)) 0.3265353672724\n",
      "((2, 1), (3, 1), (1, 0), (0, 0)) 0.0983952893027\n",
      "((2, 1), (3, 1), (3, 0), (2, 0)) 0.3265353672724\n",
      "((3, 1), (0, 1), (0, 0), (3, 0)) 0.3108533766756\n",
      "((3, 1), (0, 1), (2, 0), (1, 0)) 0.0983952893027\n",
      "((3, 1), (1, 1), (1, 0), (3, 0)) 0.3108533766756\n",
      "((3, 1), (1, 1), (3, 0), (1, 0)) 0.0983952893027\n",
      "((3, 1), (2, 1), (0, 0), (1, 0)) 0.0983952893027\n",
      "((3, 1), (2, 1), (2, 0), (3, 0)) 0.3265353672724\n",
      "((3, 1), (3, 1), (1, 0), (1, 0)) 0.0983952893027\n",
      "((3, 1), (3, 1), (3, 0), (3, 0)) 0.3265353672724\n",
      "\n"
     ]
    }
   ],
   "source": [
    "molecular_hamiltonian = molecule.get_molecular_hamiltonian()[0]\n",
    "print(molecular_hamiltonian)"
   ]
  },
  {
   "cell_type": "markdown",
   "metadata": {},
   "source": [
    "and encode it into the qubit Hamiltonian thanks to the Jordan-Wigner transformation, provided by OpenFermion:"
   ]
  },
  {
   "cell_type": "code",
   "execution_count": 9,
   "metadata": {},
   "outputs": [
    {
     "name": "stdout",
     "output_type": "stream",
     "text": [
      "-0.32760821099250037 [] +\n",
      "-0.04919764465135 [X0 X1 Y2 Y3] +\n",
      "0.04919764465135 [X0 Y1 Y2 X3] +\n",
      "0.04919764465135 [Y0 X1 X2 Y3] +\n",
      "-0.04919764465135 [Y0 Y1 X2 X3] +\n",
      "0.13716573333275 [Z0] +\n",
      "0.156600623168 [Z0 Z1] +\n",
      "0.10622904368644998 [Z0 Z2] +\n",
      "0.1554266883378 [Z0 Z3] +\n",
      "0.13716573333275 [Z1] +\n",
      "0.1554266883378 [Z1 Z2] +\n",
      "0.10622904368644998 [Z1 Z3] +\n",
      "-0.13036290911284995 [Z2] +\n",
      "0.1632676836362 [Z2 Z3] +\n",
      "-0.13036290911284995 [Z3]\n"
     ]
    }
   ],
   "source": [
    "from openfermion.transforms import jordan_wigner\n",
    "\n",
    "qubit_hamiltonian = jordan_wigner(molecular_hamiltonian)\n",
    "print(qubit_hamiltonian)"
   ]
  },
  {
   "cell_type": "markdown",
   "metadata": {},
   "source": [
    "The energies calculated from the Dirac program are extracted as follows:"
   ]
  },
  {
   "cell_type": "code",
   "execution_count": 10,
   "metadata": {},
   "outputs": [
    {
     "name": "stdout",
     "output_type": "stream",
     "text": [
      "Hartree-Fock energy of -1.0661086531285879 Hartree.\n",
      "MP2 energy of -1.086665367911369 Hartree.\n",
      "CCSD energy of -1.101150333445638 Hartree.\n"
     ]
    }
   ],
   "source": [
    "print('Hartree-Fock energy of {} Hartree.'.format(molecule.get_energies()[0]))\n",
    "print('MP2 energy of {} Hartree.'.format(molecule.get_energies()[1]))\n",
    "print('CCSD energy of {} Hartree.'.format(molecule.get_energies()[2]))"
   ]
  },
  {
   "cell_type": "markdown",
   "metadata": {},
   "source": [
    "Note that it is usual to set consider the point nucleus model instead of the Gaussian charge distribution (default)\n",
    "in a non-relativistic calculation. This can be set by specifying:"
   ]
  },
  {
   "cell_type": "code",
   "execution_count": 11,
   "metadata": {},
   "outputs": [
    {
     "name": "stdout",
     "output_type": "stream",
     "text": [
      "Starting Dirac calculation\n",
      "\n",
      "\n",
      "Creation of the FCIDUMP file\n",
      "\n",
      "Hartree-Fock energy of -1.0661086541045273 Hartree.\n",
      "MP2 energy of -1.086665368896307 Hartree.\n",
      "CCSD energy of -1.101150334281559 Hartree.\n"
     ]
    }
   ],
   "source": [
    "point_nucleus = True\n",
    "\n",
    "molecule = run_dirac(molecule,\n",
    "                    delete_input=delete_input,\n",
    "                    delete_xyz=delete_xyz,\n",
    "                    delete_output=delete_output,\n",
    "                    delete_MRCONEE=delete_MRCONEE,\n",
    "                    delete_MDCINT=delete_MDCINT,\n",
    "                    delete_FCIDUMP=delete_FCIDUMP,\n",
    "                    run_ccsd=run_ccsd,\n",
    "                    point_nucleus=point_nucleus)\n",
    "\n",
    "print('Hartree-Fock energy of {} Hartree.'.format(molecule.get_energies()[0]))\n",
    "print('MP2 energy of {} Hartree.'.format(molecule.get_energies()[1]))\n",
    "print('CCSD energy of {} Hartree.'.format(molecule.get_energies()[2]))"
   ]
  },
  {
   "cell_type": "markdown",
   "metadata": {},
   "source": [
    "We can observe small changes in the energies. Then one can build the qubit Hamiltonian, which operates in the Fock space (i.e., independently of the number of particle) and is solved\n",
    "in OpenFermion with the eigenspectrum function:"
   ]
  },
  {
   "cell_type": "code",
   "execution_count": 12,
   "metadata": {},
   "outputs": [
    {
     "name": "stdout",
     "output_type": "stream",
     "text": [
      "Solving the Qubit Hamiltonian (Jordan-Wigner): \n",
      " [-1.10115033 -0.74587181 -0.74587181 -0.74587181 -0.60860674 -0.60860674\n",
      " -0.58166697 -0.58166697 -0.35229065 -0.06021533 -0.06021533 -0.0599438\n",
      " -0.0599438   0.0390476   0.50196591  0.52917721]\n"
     ]
    }
   ],
   "source": [
    "from openfermion.utils import eigenspectrum\n",
    "\n",
    "evs = eigenspectrum(qubit_hamiltonian)\n",
    "print('Solving the Qubit Hamiltonian (Jordan-Wigner): \\n {}'.format(evs))"
   ]
  },
  {
   "cell_type": "markdown",
   "metadata": {},
   "source": [
    "## DFT Calculation"
   ]
  },
  {
   "cell_type": "markdown",
   "metadata": {},
   "source": [
    "Density-functional theory is one of the most widely used approach in quantum chemistry due to its mean-field-like formulation, thus leading to a much cheaper computational cost in comparison to multiconfigurational wavefunction methods. In Dirac program, several functionals are available (see http://www.diracprogram.org/doc/master/manual/dftcfun.html?highlight=dft) and can be called in this interface by specifying run_dirac=\"X\", where X is the choosen approximate exchange-correlation functional."
   ]
  },
  {
   "cell_type": "code",
   "execution_count": 13,
   "metadata": {},
   "outputs": [
    {
     "name": "stdout",
     "output_type": "stream",
     "text": [
      "Starting Dirac calculation\n",
      "\n",
      "\n",
      "Creation of the FCIDUMP file\n",
      "\n",
      "DFT energy of -1.0849003105849406 Hartree.\n"
     ]
    }
   ],
   "source": [
    "run_dft=\"LDA\"\n",
    "description = 'R' + str(bond_length) + '_' + run_dft\n",
    "\n",
    "molecule = MolecularData_Dirac(geometry=geometry,\n",
    "                               basis=basis,\n",
    "                               multiplicity=multiplicity,\n",
    "                               charge=charge,\n",
    "                               description=description,\n",
    "                               data_directory=data_directory)\n",
    "\n",
    "molecule = run_dirac(molecule,\n",
    "                    point_nucleus=point_nucleus,\n",
    "                    delete_input=delete_input,\n",
    "                    delete_xyz=delete_xyz,\n",
    "                    delete_output=delete_output,\n",
    "                    delete_MRCONEE=delete_MRCONEE,\n",
    "                    delete_MDCINT=delete_MDCINT,\n",
    "                    delete_FCIDUMP=delete_FCIDUMP,\n",
    "                    run_dft=run_dft)\n",
    "\n",
    "print('DFT energy of {} Hartree.'.format(molecule.get_energies()[0]))"
   ]
  },
  {
   "cell_type": "markdown",
   "metadata": {},
   "source": [
    "## Relativistic Calculation"
   ]
  },
  {
   "cell_type": "markdown",
   "metadata": {},
   "source": [
    "To perform a relativistic calculation by considering the full Dirac-Coulomb Hamiltonian, a simple option has to be switched on. Note that one should not switch on the ```point_nucleus``` option for relativistic calculation."
   ]
  },
  {
   "cell_type": "code",
   "execution_count": 14,
   "metadata": {},
   "outputs": [
    {
     "name": "stdout",
     "output_type": "stream",
     "text": [
      "Starting Dirac calculation\n",
      "\n",
      "\n",
      "Creation of the FCIDUMP file\n",
      "\n",
      "Hartree-Fock energy of -1.0661226627178420 Hartree.\n",
      "MP2 energy of -1.086679591591157 Hartree.\n",
      "CCSD energy of -1.101165704413968 Hartree.\n",
      "Solving the Qubit Hamiltonian (Jordan-Wigner): \n",
      " [-1.1011657  -0.74591589 -0.74591589 -0.74591589 -0.60865735 -0.60865735\n",
      " -0.58167347 -0.58167347 -0.35233876 -0.06029881 -0.06029881 -0.05998437\n",
      " -0.05998437  0.03896802  0.50187888  0.52917721]\n"
     ]
    }
   ],
   "source": [
    "relativistic = True\n",
    "basis = \"STO-3G\"\n",
    "bond_length = 1.0\n",
    "multiplicity = 1\n",
    "charge = 0\n",
    "geometry = [('H', (0., 0., 0.)), ('H', (0., 0., bond_length))]\n",
    "run_ccsd = True\n",
    "if run_ccsd:\n",
    "    description = 'R' + str(bond_length) + '_ccsd'\n",
    "else:\n",
    "    description = 'R' + str(bond_length) + '_scf'\n",
    "\n",
    "molecule = MolecularData_Dirac(geometry=geometry,\n",
    "                               basis=basis,\n",
    "                               multiplicity=multiplicity,\n",
    "                               charge=charge,\n",
    "                               relativistic=relativistic,\n",
    "                               description=description,\n",
    "                               data_directory=data_directory)\n",
    "\n",
    "molecule = run_dirac(molecule,\n",
    "                    delete_input=delete_input,\n",
    "                    delete_xyz=delete_xyz,\n",
    "                    delete_output=delete_output,\n",
    "                    delete_MRCONEE=delete_MRCONEE,\n",
    "                    delete_MDCINT=delete_MDCINT,\n",
    "                    delete_FCIDUMP=delete_FCIDUMP,\n",
    "                    run_ccsd=run_ccsd,\n",
    "                    relativistic=relativistic)\n",
    "\n",
    "molecular_hamiltonian = molecule.get_molecular_hamiltonian()[0]\n",
    "qubit_hamiltonian = jordan_wigner(molecular_hamiltonian)\n",
    "evs = eigenspectrum(qubit_hamiltonian)\n",
    "print('Hartree-Fock energy of {} Hartree.'.format(molecule.get_energies()[0]))\n",
    "print('MP2 energy of {} Hartree.'.format(molecule.get_energies()[1]))\n",
    "print('CCSD energy of {} Hartree.'.format(molecule.get_energies()[2]))\n",
    "print('Solving the Qubit Hamiltonian (Jordan-Wigner): \\n {}'.format(evs))"
   ]
  },
  {
   "cell_type": "markdown",
   "metadata": {},
   "source": [
    "Small differences are seen between the relativistic energies and the non-relativistic ones obtained previously.\n",
    "Of course, the difference is quite small for the hydrogen molecule but it is known to be very important especially for heavy elements."
   ]
  },
  {
   "cell_type": "markdown",
   "metadata": {},
   "source": [
    "### Change the speed of light"
   ]
  },
  {
   "cell_type": "markdown",
   "metadata": {},
   "source": [
    "One can play with the speed of light (137 a.u.) in order to increase the relativistic effects:"
   ]
  },
  {
   "cell_type": "code",
   "execution_count": null,
   "metadata": {},
   "outputs": [
    {
     "name": "stdout",
     "output_type": "stream",
     "text": [
      "Starting Dirac calculation\n",
      "\n",
      "\n",
      "Creation of the FCIDUMP file\n",
      "\n",
      "Hartree-Fock energy of -1.0942741633461521 Hartree.\n",
      "MP2 energy of -1.115281690754091 Hartree.\n",
      "CCSD energy of -1.132134955528720 Hartree.\n",
      "Solving the Qubit Hamiltonian (Jordan-Wigner): \n",
      " [-1.13213496 -0.82925112 -0.82925112 -0.82925112 -0.70678081 -0.70678081\n",
      " -0.59452925 -0.59452925 -0.44310418 -0.21989424 -0.21989424 -0.13468642\n",
      " -0.13468642 -0.10968398  0.33171782  0.52917721]\n"
     ]
    }
   ],
   "source": [
    "speed_of_light = 3.0\n",
    "\n",
    "molecule = MolecularData_Dirac(geometry=geometry,\n",
    "                               basis=basis,\n",
    "                               multiplicity=multiplicity,\n",
    "                               charge=charge,\n",
    "                               speed_of_light=speed_of_light,\n",
    "                               description=description,\n",
    "                               relativistic=relativistic,\n",
    "                               data_directory=data_directory)\n",
    "\n",
    "molecule = run_dirac(molecule,\n",
    "                    delete_input=delete_input,\n",
    "                    delete_xyz=delete_xyz,\n",
    "                    delete_output=delete_output,\n",
    "                    delete_MRCONEE=delete_MRCONEE,\n",
    "                    delete_MDCINT=delete_MDCINT,\n",
    "                    delete_FCIDUMP=delete_FCIDUMP,\n",
    "                    run_ccsd=run_ccsd,\n",
    "                    relativistic=relativistic,\n",
    "                    speed_of_light=speed_of_light)\n",
    "\n",
    "molecular_hamiltonian = molecule.get_molecular_hamiltonian()[0]\n",
    "qubit_hamiltonian = jordan_wigner(molecular_hamiltonian)\n",
    "evs = eigenspectrum(qubit_hamiltonian)\n",
    "print('Hartree-Fock energy of {} Hartree.'.format(molecule.get_energies()[0]))\n",
    "print('MP2 energy of {} Hartree.'.format(molecule.get_energies()[1]))\n",
    "print('CCSD energy of {} Hartree.'.format(molecule.get_energies()[2]))\n",
    "print('Solving the Qubit Hamiltonian (Jordan-Wigner): \\n {}'.format(evs))"
   ]
  },
  {
   "cell_type": "markdown",
   "metadata": {},
   "source": [
    "The change in energy is now much more important, showing the significance of considering relativistic effects in this case."
   ]
  },
  {
   "cell_type": "markdown",
   "metadata": {},
   "source": [
    "# Other more specific options"
   ]
  },
  {
   "cell_type": "markdown",
   "metadata": {},
   "source": [
    "## Properties"
   ]
  },
  {
   "cell_type": "markdown",
   "metadata": {},
   "source": [
    "Different properties can be computed within the Dirac program.\n",
    "One can ask for properties calculation by creating a list ```properties = []``` containing keywords corresponding to the given properties of interest."
   ]
  },
  {
   "cell_type": "code",
   "execution_count": null,
   "metadata": {},
   "outputs": [
    {
     "name": "stdout",
     "output_type": "stream",
     "text": [
      "Starting Dirac calculation\n",
      "\n",
      "\n",
      "Creation of the FCIDUMP file\n",
      "\n",
      "Electric dipole moment: [0.0, 0.0, 0.0]\n",
      "Electric quadrupole moment: [[-0.654525960667, 0.0, 0.0], [0.0, -0.654525960667, 0.0], [0.0, 0.0, 1.309051921334]]\n",
      "Electric (dipole) polarizability: [-0.0, -0.0, 5.20452436]\n"
     ]
    }
   ],
   "source": [
    "properties = ['MOLGRD','DIPOLE','QUADRUPOLE','EFG','POLARIZABILITY'] \n",
    "delete_output = False\n",
    "molecule = MolecularData_Dirac(geometry=geometry,\n",
    "                               basis=basis,\n",
    "                               multiplicity=multiplicity,\n",
    "                               charge=charge,\n",
    "                               description=description,\n",
    "                               data_directory=data_directory)\n",
    "\n",
    "molecule = run_dirac(molecule,\n",
    "                    point_nucleus=point_nucleus,\n",
    "                    properties=properties,\n",
    "                    delete_input=delete_input,\n",
    "                    delete_xyz=delete_xyz,\n",
    "                    delete_output=delete_output,\n",
    "                    delete_MRCONEE=delete_MRCONEE,\n",
    "                    delete_MDCINT=delete_MDCINT,\n",
    "                    delete_FCIDUMP=delete_FCIDUMP,\n",
    "                    run_ccsd=run_ccsd)\n",
    "\n",
    "print('Electric dipole moment: {}'.format(molecule.get_elecdipole()))\n",
    "print('Electric quadrupole moment: {}'.format(molecule.get_elecquadrupole()))\n",
    "print('Electric (dipole) polarizability: {}'.format(molecule.get_elecpolarizability()))"
   ]
  },
  {
   "cell_type": "markdown",
   "metadata": {},
   "source": [
    "For now, the electric dipole, quadrupole and polarizability can be extracted. For other properties, one has to look directly at the output."
   ]
  },
  {
   "cell_type": "markdown",
   "metadata": {},
   "source": [
    "## Save option"
   ]
  },
  {
   "cell_type": "markdown",
   "metadata": {},
   "source": [
    "Let us go back in a non relativistic framework (although everything that follows can be done with the ```relativistic = True``` option).\n",
    "More options can be set in the calculation. The first one is the ```save``` option that allows you to save your calculation in the HDF5 format.\n",
    "Note that ```delete_FCIDUMP``` has to be equal to ```False```. The ouput can be deleted, but I advise not to do it as it contains much more information on the performed calculation."
   ]
  },
  {
   "cell_type": "code",
   "execution_count": null,
   "metadata": {},
   "outputs": [
    {
     "name": "stdout",
     "output_type": "stream",
     "text": [
      "Starting Dirac calculation\n",
      "\n",
      "\n",
      "Creation of the FCIDUMP file\n",
      "\n",
      "\n",
      "Saving the results\n",
      "\n",
      "[0.0, 0.0, 0.0] [[-0.654525960667, 0.0, 0.0], [0.0, -0.654525960667, 0.0], [0.0, 0.0, 1.309051921334]] [-0.0, -0.0, 5.20452436]\n",
      "hey\n"
     ]
    }
   ],
   "source": [
    "save = True\n",
    "point_nucleus = True\n",
    "properties = ['MOLGRD','DIPOLE','QUADRUPOLE','EFG','POLARIZABILITY']\n",
    "\n",
    "molecule = MolecularData_Dirac(geometry=geometry,\n",
    "                               basis=basis,\n",
    "                               multiplicity=multiplicity,\n",
    "                               charge=charge,\n",
    "                               description=description,\n",
    "                               data_directory=data_directory)\n",
    "\n",
    "molecule = run_dirac(molecule,\n",
    "                    point_nucleus=point_nucleus,\n",
    "                    properties=properties,\n",
    "                    delete_input=delete_input,\n",
    "                    delete_xyz=delete_xyz,\n",
    "                    delete_output=delete_output,\n",
    "                    delete_MRCONEE=delete_MRCONEE,\n",
    "                    delete_MDCINT=delete_MDCINT,\n",
    "                    delete_FCIDUMP=delete_FCIDUMP,\n",
    "                    run_ccsd=run_ccsd,\n",
    "                    save=save)"
   ]
  },
  {
   "cell_type": "markdown",
   "metadata": {},
   "source": [
    "Then check is the HDF5 file has been created"
   ]
  },
  {
   "cell_type": "code",
   "execution_count": null,
   "metadata": {},
   "outputs": [
    {
     "name": "stdout",
     "output_type": "stream",
     "text": [
      "HDF5 file found, loading from file. Name : b'H2_STO-3G_singlet_R1.0_ccsd'\n"
     ]
    }
   ],
   "source": [
    "import sys\n",
    "#if os.path.exists(\"{}/{}.hdf5\".format(data_directory,molecule.name)) is False:\n",
    "if os.path.exists(\"{}.hdf5\".format(molecule.filename)) is False:\n",
    "      sys.exit(0)\n",
    "print(\"HDF5 file found, loading from file. Name : {}\".format(molecule.get_from_file('name')))"
   ]
  },
  {
   "cell_type": "markdown",
   "metadata": {},
   "source": [
    "You can extract the following information from this file thanks to the function ```get_from_file()```:"
   ]
  },
  {
   "cell_type": "code",
   "execution_count": null,
   "metadata": {},
   "outputs": [
    {
     "name": "stdout",
     "output_type": "stream",
     "text": [
      "Name : b'H2_STO-3G_singlet_R1.0_ccsd'\n",
      "The description is b'R1.0_ccsd'.\n",
      "System with atoms [b'H' b'H'] and protons [1 1].\n",
      "System of 2 atoms and 2 electrons.\n",
      "With charge 0 and multiplicity 1.\n",
      "With basis-set b'STO-3G'.\n",
      "With 4 spin-orbitals with corresponding energies {1: -0.5502018819084, 2: -0.5502018819084, 3: -0.03379116269064, 4: -0.03379116269064}.\n",
      "With 4 qubits.\n",
      "Hartree-Fock energy of -1.0661086541045273 Hartree.\n",
      "MP2 energy of -1.086665368896307 Hartree.\n",
      "CCSD energy of -1.101150334281559 Hartree.\n",
      "Core energy : 0.5291772083 Hartree.\n",
      "Electric dipole moment: [0. 0. 0.]\n",
      "Electric quadrupole moment: [[-0.65452596  0.          0.        ]\n",
      " [ 0.         -0.65452596  0.        ]\n",
      " [ 0.          0.          1.30905192]]\n",
      "Electric (dipole) polarizability: [-0.         -0.          5.20452436]\n",
      "Molecular Hamiltonian : () 0.5291772083\n",
      "((0, 1), (0, 0)) -1.110844177538\n",
      "((1, 1), (1, 0)) -1.110844177538\n",
      "((2, 1), (2, 0)) -0.5891210139955\n",
      "((3, 1), (3, 0)) -0.5891210139955\n",
      "((0, 1), (0, 1), (0, 0), (0, 0)) 0.313201246336\n",
      "((0, 1), (0, 1), (2, 0), (2, 0)) 0.0983952893027\n",
      "((0, 1), (1, 1), (1, 0), (0, 0)) 0.313201246336\n",
      "((0, 1), (1, 1), (3, 0), (2, 0)) 0.0983952893027\n",
      "((0, 1), (2, 1), (0, 0), (2, 0)) 0.0983952893027\n",
      "((0, 1), (2, 1), (2, 0), (0, 0)) 0.3108533766756\n",
      "((0, 1), (3, 1), (1, 0), (2, 0)) 0.0983952893027\n",
      "((0, 1), (3, 1), (3, 0), (0, 0)) 0.3108533766756\n",
      "((1, 1), (0, 1), (0, 0), (1, 0)) 0.313201246336\n",
      "((1, 1), (0, 1), (2, 0), (3, 0)) 0.0983952893027\n",
      "((1, 1), (1, 1), (1, 0), (1, 0)) 0.313201246336\n",
      "((1, 1), (1, 1), (3, 0), (3, 0)) 0.0983952893027\n",
      "((1, 1), (2, 1), (0, 0), (3, 0)) 0.0983952893027\n",
      "((1, 1), (2, 1), (2, 0), (1, 0)) 0.3108533766756\n",
      "((1, 1), (3, 1), (1, 0), (3, 0)) 0.0983952893027\n",
      "((1, 1), (3, 1), (3, 0), (1, 0)) 0.3108533766756\n",
      "((2, 1), (0, 1), (0, 0), (2, 0)) 0.3108533766756\n",
      "((2, 1), (0, 1), (2, 0), (0, 0)) 0.0983952893027\n",
      "((2, 1), (1, 1), (1, 0), (2, 0)) 0.3108533766756\n",
      "((2, 1), (1, 1), (3, 0), (0, 0)) 0.0983952893027\n",
      "((2, 1), (2, 1), (0, 0), (0, 0)) 0.0983952893027\n",
      "((2, 1), (2, 1), (2, 0), (2, 0)) 0.3265353672724\n",
      "((2, 1), (3, 1), (1, 0), (0, 0)) 0.0983952893027\n",
      "((2, 1), (3, 1), (3, 0), (2, 0)) 0.3265353672724\n",
      "((3, 1), (0, 1), (0, 0), (3, 0)) 0.3108533766756\n",
      "((3, 1), (0, 1), (2, 0), (1, 0)) 0.0983952893027\n",
      "((3, 1), (1, 1), (1, 0), (3, 0)) 0.3108533766756\n",
      "((3, 1), (1, 1), (3, 0), (1, 0)) 0.0983952893027\n",
      "((3, 1), (2, 1), (0, 0), (1, 0)) 0.0983952893027\n",
      "((3, 1), (2, 1), (2, 0), (3, 0)) 0.3265353672724\n",
      "((3, 1), (3, 1), (1, 0), (1, 0)) 0.0983952893027\n",
      "((3, 1), (3, 1), (3, 0), (3, 0)) 0.3265353672724\n",
      "\n"
     ]
    }
   ],
   "source": [
    "print('Name : {}'.format(molecule.get_from_file('name')))\n",
    "print('The description is {}.'.format(molecule.get_from_file('description')))\n",
    "print('System with atoms {} and protons {}.'.format(molecule.get_from_file('atoms'),\n",
    "                                    molecule.get_from_file('protons')))\n",
    "print('System of {} atoms and {} electrons.'.format(molecule.get_from_file('n_atoms'),\n",
    "                                                             molecule.get_from_file('n_electrons')))\n",
    "print('With charge {} and multiplicity {}.'.format(molecule.get_from_file('charge'),\n",
    "                                                  molecule.get_from_file('multiplicity')))\n",
    "print('With basis-set {}.'.format(molecule.get_from_file('basis')))\n",
    "print('With {} spin-orbitals with corresponding energies {}.'.format(molecule.get_from_file('n_orbitals'),\n",
    "                                                                     molecule.get_from_file('orbital_energies')))\n",
    "print('With {} qubits.'.format(molecule.get_from_file('n_qubits')))\n",
    "print('Hartree-Fock energy of {} Hartree.'.format(molecule.get_from_file('hf_energy')))\n",
    "print('MP2 energy of {} Hartree.'.format(molecule.get_from_file('mp2_energy')))\n",
    "print('CCSD energy of {} Hartree.'.format(molecule.get_from_file('ccsd_energy')))\n",
    "\n",
    "E_core=molecule.get_from_file('nuclear_repulsion')\n",
    "one_body_coeff = molecule.get_from_file('one_body_coefficients')\n",
    "two_body_coeff = molecule.get_from_file('two_body_coefficients')\n",
    "molecular_ham_print = molecule.get_from_file('print_molecular_hamiltonian')\n",
    "print('Core energy : {} Hartree.'.format(E_core))\n",
    "print('Electric dipole moment: {}'.format(molecule.get_from_file('elec_dipole')))\n",
    "print('Electric quadrupole moment: {}'.format(molecule.get_from_file('elec_quadrupole')))\n",
    "print('Electric (dipole) polarizability: {}'.format(molecule.get_from_file('elec_polarizability')))\n",
    "print('Molecular Hamiltonian : {}'.format(molecular_ham_print))"
   ]
  },
  {
   "cell_type": "markdown",
   "metadata": {},
   "source": [
    "Note that this molecular Hamiltonian cannot be used directly to construct the qubit Hamiltonian. It has to be reconstruct first thanks to the core energy and the one- and two-body coefficients:"
   ]
  },
  {
   "cell_type": "code",
   "execution_count": null,
   "metadata": {},
   "outputs": [
    {
     "name": "stdout",
     "output_type": "stream",
     "text": [
      "Solution of the qubit Hamiltonian :\n",
      " [-1.10115033 -0.74587181 -0.74587181 -0.74587181 -0.60860674 -0.60860674\n",
      " -0.58166697 -0.58166697 -0.35229065 -0.06021533 -0.06021533 -0.05994381\n",
      " -0.05994381  0.0390476   0.50196591  0.52917721]\n"
     ]
    }
   ],
   "source": [
    "from openfermion.ops import InteractionOperator\n",
    "\n",
    "molecular_ham = InteractionOperator(float(E_core),one_body_coeff,two_body_coeff)\n",
    "qubit_ham = jordan_wigner(molecular_ham)\n",
    "evs = eigenspectrum(qubit_ham)\n",
    "print(\"Solution of the qubit Hamiltonian :\\n {}\".format(evs))"
   ]
  },
  {
   "cell_type": "markdown",
   "metadata": {},
   "source": [
    "## Active space option"
   ]
  },
  {
   "cell_type": "markdown",
   "metadata": {},
   "source": [
    "Let us take the example of the lithium hydride molecule LiH:"
   ]
  },
  {
   "cell_type": "code",
   "execution_count": null,
   "metadata": {},
   "outputs": [],
   "source": [
    "basis = 'STO-3G'\n",
    "bond_length = 2.0\n",
    "multiplicity = 1\n",
    "charge = 0\n",
    "\n",
    "delete_input = True\n",
    "delete_xyz = True\n",
    "delete_output = False\n",
    "delete_MRCONEE = True\n",
    "delete_MDCINT = True\n",
    "delete_FCIDUMP = False\n",
    "geometry = [('Li', (0., 0., 0.)), ('H', (0., 0., bond_length))]\n",
    "description = \"_R\" + str(bond_length) + \"_scf\"\n",
    "\n",
    "molecule = MolecularData_Dirac(geometry=geometry,\n",
    "                               basis=basis,\n",
    "                               multiplicity=multiplicity,\n",
    "                               charge=charge,\n",
    "                               description=description,\n",
    "                               data_directory=data_directory)"
   ]
  },
  {
   "cell_type": "markdown",
   "metadata": {},
   "source": [
    "The option ```active``` is a list of 3 real numbers:\n",
    "- first number : lowest energy\n",
    "- second number : highest energy\n",
    "- third number : minimum gap required between the lowest (highest) minimum gap required between the neighbor energy of the lowest and highest energy set previously. If the gap is lower than this number, the lowest (or highest) energy is shifted down (or up) until the gap is larger to the third number.\n",
    "\n",
    "The orbitals with energy in between the first and second number are considered active. Of course, one should choose the active space such that no orbital with energy higher than the second number is occupied, and such that the relevant orbitals are considered active.\n",
    "The electrons in the core orbitals (with energy below the first number) are frozen, while the orbitals with energy higher than the second number are discarded."
   ]
  },
  {
   "cell_type": "markdown",
   "metadata": {},
   "source": [
    "For LiH, let's first do a calculation to have information on the orbital energies. To get the orbitals, we only need the SCF calculation (i.e., switch-off ```run_ccsd```, which is the default)."
   ]
  },
  {
   "cell_type": "code",
   "execution_count": null,
   "metadata": {},
   "outputs": [
    {
     "name": "stdout",
     "output_type": "stream",
     "text": [
      "Starting Dirac calculation\n",
      "\n",
      "\n",
      "Creation of the FCIDUMP file\n",
      "\n",
      "\n",
      "Saving the results\n",
      "\n",
      "None None None\n",
      "hey\n",
      "Hartree-Fock energy of -7.8309055873879219 Hartree.\n",
      "The spin-orbitals and their associated energy:{1: -2.361187885634, 3: -0.2501066514045, 5: 0.07327904161477, 7: 0.1621056645776, 9: 0.1621056645776, 11: 0.4326451334071, 2: -2.361187885634, 4: -0.2501066514045, 6: 0.07327904161477, 8: 0.1621056645776, 10: 0.1621056645776, 12: 0.4326451334071}\n",
      "\n"
     ]
    }
   ],
   "source": [
    "save = True\n",
    "point_nucleus=True\n",
    "\n",
    "molecule = run_dirac(molecule,\n",
    "                    point_nucleus=point_nucleus,\n",
    "                    delete_input=delete_input,\n",
    "                    delete_xyz=delete_xyz,\n",
    "                    delete_output=delete_output,\n",
    "                    delete_MRCONEE=delete_MRCONEE,\n",
    "                    delete_MDCINT=delete_MDCINT,\n",
    "                    delete_FCIDUMP=delete_FCIDUMP,\n",
    "                    save=save)\n",
    "\n",
    "print('Hartree-Fock energy of {} Hartree.'.format(molecule.get_energies()[0]))\n",
    "\n",
    "# This could be done to check if the saving file exist already or not.\n",
    "#if os.path.exists(\"{}/{}.hdf5\".format(data_directory,molecule.name)) is False:\n",
    "if os.path.exists(\"{}.hdf5\".format(molecule.filename)) is False:\n",
    "      print(\"No file found. You should first run a calculation with save=True (see LiH_save.py)\")\n",
    "      sys.exit(0)\n",
    "\n",
    "print(\"The spin-orbitals and their associated energy:{}\\n\".format(molecule.get_from_file(\"orbital_energies\")))"
   ]
  },
  {
   "cell_type": "markdown",
   "metadata": {},
   "source": [
    "LiH is a system with 4 electrons. We see that the first spatial orbital (indexed by 1 and 2) has an energy much lower than the second one (indexed by 3 and 4). Consequently, one can freeze the two electrons in this orbital and consider only the 2 other electrons as active. We can also get rid of the last spatial orbital with the highest energy. By doing so, only 8 spin-orbitals with 2 electrons will form our active space."
   ]
  },
  {
   "cell_type": "code",
   "execution_count": null,
   "metadata": {},
   "outputs": [
    {
     "name": "stdout",
     "output_type": "stream",
     "text": [
      "Starting Dirac calculation\n",
      "\n",
      "\n",
      "Creation of the FCIDUMP file\n",
      "\n",
      "Hartree-Fock energy of -7.8309055873879219 Hartree.\n",
      "MP2 energy of -7.832575301374425 Hartree.\n",
      "CCSD energy of -7.832886005802561 Hartree.\n"
     ]
    }
   ],
   "source": [
    "active = [-2.0,0.3,0.1]\n",
    "\n",
    "run_ccsd=True\n",
    "\n",
    "molecule = run_dirac(molecule,\n",
    "                    point_nucleus=point_nucleus,\n",
    "                    delete_input=delete_input,\n",
    "                    delete_xyz=delete_xyz,\n",
    "                    delete_output=delete_output,\n",
    "                    delete_MRCONEE=delete_MRCONEE,\n",
    "                    delete_MDCINT=delete_MDCINT,\n",
    "                    delete_FCIDUMP=delete_FCIDUMP,\n",
    "                    run_ccsd=run_ccsd,\n",
    "                    active=active)\n",
    "\n",
    "molecular_hamiltonian = molecule.get_molecular_hamiltonian()[0]\n",
    "qubit_hamiltonian = jordan_wigner(molecular_hamiltonian)\n",
    "evs = eigenspectrum(qubit_hamiltonian)\n",
    "print('Hartree-Fock energy of {} Hartree.'.format(molecule.get_energies()[0]))\n",
    "print('MP2 energy of {} Hartree.'.format(molecule.get_energies()[1]))\n",
    "print('CCSD energy of {} Hartree.'.format(molecule.get_energies()[2]))"
   ]
  },
  {
   "cell_type": "markdown",
   "metadata": {},
   "source": [
    "The calculation is much faster than if all the spin-orbitals are considered active."
   ]
  },
  {
   "cell_type": "markdown",
   "metadata": {},
   "source": [
    "## Special Basis-set"
   ]
  },
  {
   "cell_type": "markdown",
   "metadata": {},
   "source": [
    "The last option I want to discuss is the special basis set. One can specify a given basis set for a specific element only.\n",
    "An example is the Helium hydride ion HeH+, where the ```STO-3G``` basis can be considered for the Helium atom and the ```cc-pVDZ``` basis for the hydrogen atom.\n",
    "To do so, set the basis-set to \"special\", and defines a special basis as a list of two string, as follows:"
   ]
  },
  {
   "cell_type": "code",
   "execution_count": null,
   "metadata": {},
   "outputs": [
    {
     "name": "stdout",
     "output_type": "stream",
     "text": [
      "Starting Dirac calculation\n",
      "\n",
      "\n",
      "Creation of the FCIDUMP file\n",
      "\n",
      "Hartree-Fock energy of -2.8128481516433439 Hartree.\n"
     ]
    }
   ],
   "source": [
    "geometry = [('He', (0., 0., 0.)), ('H', (0., 0., bond_length))]\n",
    "charge = 1\n",
    "multiplicity = 1\n",
    "# Due to a known bug (see the end of the tutorial), \n",
    "# CCSD does not work for HeH+ without adding some other options manually.\n",
    "run_ccsd = False\n",
    "if run_ccsd:\n",
    "    description = 'R' + str(bond_length) + '_ccsd'\n",
    "else:\n",
    "    description = 'R' + str(bond_length) + '_scf'\n",
    "\n",
    "# necessary keyword to specify that we are using a special basis\n",
    "basis=\"special\"\n",
    "# list of two string : [default basis, special basis for a given atomic species]\n",
    "special_basis=[\"STO-3G\",\"H BASIS cc-pVDZ\"]\n",
    "\n",
    "\n",
    "molecule = MolecularData_Dirac(geometry=geometry,\n",
    "                               basis=basis,\n",
    "                               special_basis=special_basis,\n",
    "                               multiplicity=multiplicity,\n",
    "                               charge=charge,\n",
    "                               description=description,\n",
    "                               data_directory=data_directory)\n",
    "\n",
    "molecule = run_dirac(molecule,\n",
    "                    point_nucleus=point_nucleus,\n",
    "                    delete_input=delete_input,\n",
    "                    delete_xyz=delete_xyz,\n",
    "                    delete_output=delete_output,\n",
    "                    delete_MRCONEE=delete_MRCONEE,\n",
    "                    delete_MDCINT=delete_MDCINT,\n",
    "                    delete_FCIDUMP=delete_FCIDUMP,\n",
    "                    run_ccsd=run_ccsd)\n",
    "\n",
    "molecular_hamiltonian = molecule.get_molecular_hamiltonian()[0]\n",
    "print('Hartree-Fock energy of {} Hartree.'.format(molecule.get_energies()[0]))"
   ]
  },
  {
   "cell_type": "markdown",
   "metadata": {},
   "source": [
    "If one wants to make a CCSD calculation on HeH+, it is also possible but an additional option has to be set. This is a known actual issue of Dirac that will be fixed in the next bugfix-patch of Dirac. Meanwhile, it can be fixed by adding an option manually, in order to switch off triple corrections in CCSD.\n",
    "If one want to add manually more options, see the following subsection."
   ]
  },
  {
   "cell_type": "markdown",
   "metadata": {},
   "source": [
    "## Manual options"
   ]
  },
  {
   "cell_type": "markdown",
   "metadata": {},
   "source": [
    "The Dirac program possesses a lot of different options that can be inserted manually in the script. The ```manual_option``` keyword can be used in this respect."
   ]
  },
  {
   "cell_type": "code",
   "execution_count": null,
   "metadata": {},
   "outputs": [
    {
     "name": "stdout",
     "output_type": "stream",
     "text": [
      "Starting Dirac calculation\n",
      "\n",
      "\n",
      "Creation of the FCIDUMP file\n",
      "\n",
      "Hartree-Fock energy of -2.8107258328141613 Hartree.\n",
      "MP2 energy of -2.810807100837049 Hartree.\n",
      "CCSD energy of -2.810780097120332 Hartree.\n",
      "Solving the Qubit Hamiltonian (Jordan-Wigner): \n",
      " [-3.27136847 -3.27136847 -2.95766144 -2.8107801  -2.39500654 -2.39500654\n",
      " -2.39500654 -2.38856976 -2.34400534 -2.34400534 -1.66717093 -1.66717093\n",
      " -0.67496425 -0.46136423 -0.46136423  0.52917721]\n"
     ]
    }
   ],
   "source": [
    "run_ccsd = True\n",
    "if run_ccsd:\n",
    "    description = 'R' + str(bond_length) + '_ccsd'\n",
    "else:\n",
    "    description = 'R' + str(bond_length) + '_scf'\n",
    "\n",
    "    \n",
    "basis=\"STO-3G\"\n",
    "manual_option = \"\"\"**RELCCSD\n",
    "*CCENER\n",
    ".NOSDT\"\"\" # or manual_option = \"**RELCCSD\\n*CCENER\\n.NOSDT\". This is used to switch off the triples correction.\n",
    "\n",
    "molecule = MolecularData_Dirac(geometry=geometry,\n",
    "                               basis=basis,\n",
    "                               multiplicity=multiplicity,\n",
    "                               charge=charge,\n",
    "                               description=description,\n",
    "                               data_directory=data_directory)\n",
    "\n",
    "molecule = run_dirac(molecule,\n",
    "                    point_nucleus=point_nucleus,\n",
    "                    manual_option=manual_option,\n",
    "                    delete_input=delete_input,\n",
    "                    delete_xyz=delete_xyz,\n",
    "                    delete_output=delete_output,\n",
    "                    delete_MRCONEE=delete_MRCONEE,\n",
    "                    delete_MDCINT=delete_MDCINT,\n",
    "                    delete_FCIDUMP=delete_FCIDUMP,\n",
    "                    run_ccsd=run_ccsd)\n",
    "\n",
    "molecular_hamiltonian = molecule.get_molecular_hamiltonian()[0]\n",
    "qubit_hamiltonian = jordan_wigner(molecular_hamiltonian)\n",
    "evs = eigenspectrum(qubit_hamiltonian)\n",
    "print('Hartree-Fock energy of {} Hartree.'.format(molecule.get_energies()[0]))\n",
    "print('MP2 energy of {} Hartree.'.format(molecule.get_energies()[1]))\n",
    "print('CCSD energy of {} Hartree.'.format(molecule.get_energies()[2]))\n",
    "print('Solving the Qubit Hamiltonian (Jordan-Wigner): \\n {}'.format(evs))"
   ]
  },
  {
   "cell_type": "markdown",
   "metadata": {},
   "source": [
    "# Known actual issues "
   ]
  },
  {
   "cell_type": "markdown",
   "metadata": {},
   "source": [
    "From the side of Dirac with CCSD:\n",
    "- HeH+ : Due to the small size of the system, errors when performing CCSD calculation appear. To fix it, one has to switch off the triples correction thanks to the option ```manual_option = \"**RELCCSD\\n*CCENER\\n.NOSDT\"```. This will be fixed in the next bugfix-patch of Dirac.\n",
    "\n",
    "\n",
    "- Open-shell with CCSD: For Be+, HeH, or other open-shell systems, the starting Slater determinant for the CCSD calculation is not well determined. Because of this, CCSD calculation usually get rid of electrons and consider a closed-shell system (like Be2+ instead of Be+, or HeH+ instead of HeH). The repartition of the electrons in the determinant can be specified manually, but no automatic solution has been implemented yet.\n",
    "\n",
    "From the side of Openfermion:\n",
    "- Fock space :  The second-quantized Hamiltonian, and so the qubit Hamiltonian, operates in the Fock space. Hence, the ground-state is not always the expected one. This is especially true for ionic species, such as HeH+ for instance. One should add an option to constrain charge (and spin) conservation to get only the states we are interested of. This is yet to be done."
   ]
  },
  {
   "cell_type": "markdown",
   "metadata": {},
   "source": [
    "### Open-Shell problems (Be+)"
   ]
  },
  {
   "cell_type": "code",
   "execution_count": null,
   "metadata": {},
   "outputs": [
    {
     "name": "stdout",
     "output_type": "stream",
     "text": [
      "Starting Dirac calculation\n",
      "\n",
      "\n",
      "Creation of the FCIDUMP file\n",
      "\n",
      "Hartree-Fock energy of -14.097842446570805 Hartree.\n",
      "MP2 energy of -13.440020788513420 Hartree.\n",
      "CCSD energy of -13.439999521071831 Hartree.\n",
      "Solving the Qubit Hamiltonian (Jordan-Wigner): \n",
      " [-1.44036548e+01 -1.42866219e+01 -1.42866219e+01 ... -1.63415747e+00\n",
      " -1.63415747e+00  5.98132655e-15]\n"
     ]
    }
   ],
   "source": [
    "basis = 'sto-3g'\n",
    "multiplicity = 2\n",
    "charge = 1\n",
    "\n",
    "geometry = [('Be', (0., 0., 0.))]\n",
    "\n",
    "run_ccsd = 1\n",
    "description = 'ccsd'\n",
    "\n",
    "molecule = MolecularData_Dirac(geometry=geometry,\n",
    "                               basis=basis,\n",
    "                               multiplicity=multiplicity,\n",
    "                               charge=charge,\n",
    "                               description=description,\n",
    "                               data_directory=data_directory)\n",
    "\n",
    "molecule = run_dirac(molecule,\n",
    "                    delete_input=delete_input,\n",
    "                    delete_xyz=delete_xyz,\n",
    "                    delete_output=delete_output,\n",
    "                    delete_MRCONEE=delete_MRCONEE,\n",
    "                    delete_MDCINT=delete_MDCINT,\n",
    "                    delete_FCIDUMP=delete_FCIDUMP,\n",
    "                    run_ccsd=run_ccsd)\n",
    "\n",
    "molecular_hamiltonian = molecule.get_molecular_hamiltonian()[0]\n",
    "qubit_hamiltonian = jordan_wigner(molecular_hamiltonian)\n",
    "evs = eigenspectrum(qubit_hamiltonian)\n",
    "print('Hartree-Fock energy of {} Hartree.'.format(molecule.get_energies()[0]))\n",
    "print('MP2 energy of {} Hartree.'.format(molecule.get_energies()[1]))\n",
    "print('CCSD energy of {} Hartree.'.format(molecule.get_energies()[2]))\n",
    "print('Solving the Qubit Hamiltonian (Jordan-Wigner): \\n {}'.format(evs))"
   ]
  },
  {
   "cell_type": "markdown",
   "metadata": {},
   "source": [
    "Note that the CCSD energy is not the one of Be+, but actually the one of Be(2+) as seen below."
   ]
  },
  {
   "cell_type": "code",
   "execution_count": null,
   "metadata": {},
   "outputs": [
    {
     "name": "stdout",
     "output_type": "stream",
     "text": [
      "Starting Dirac calculation\n",
      "\n",
      "\n",
      "Creation of the FCIDUMP file\n",
      "\n"
     ]
    }
   ],
   "source": [
    "basis = 'sto-3g'\n",
    "multiplicity = 1\n",
    "charge = 2\n",
    "\n",
    "geometry = [('Be', (0., 0., 0.))]\n",
    "\n",
    "run_ccsd = 1\n",
    "description = 'ccsd'\n",
    "\n",
    "molecule = MolecularData_Dirac(geometry=geometry,\n",
    "                               basis=basis,\n",
    "                               multiplicity=multiplicity,\n",
    "                               charge=charge,\n",
    "                               description=description,\n",
    "                               data_directory=data_directory)\n",
    "\n",
    "molecule = run_dirac(molecule,\n",
    "                    delete_input=delete_input,\n",
    "                    delete_xyz=delete_xyz,\n",
    "                    delete_output=delete_output,\n",
    "                    delete_MRCONEE=delete_MRCONEE,\n",
    "                    delete_MDCINT=delete_MDCINT,\n",
    "                    delete_FCIDUMP=delete_FCIDUMP,\n",
    "                    run_ccsd=run_ccsd)\n",
    "\n",
    "molecular_hamiltonian = molecule.get_molecular_hamiltonian()[0]\n",
    "qubit_hamiltonian = jordan_wigner(molecular_hamiltonian)\n",
    "evs = eigenspectrum(qubit_hamiltonian)\n",
    "print('Hartree-Fock energy of {} Hartree.'.format(molecule.get_energies()[0]))\n",
    "print('MP2 energy of {} Hartree.'.format(molecule.get_energies()[1]))\n",
    "print('CCSD energy of {} Hartree.'.format(molecule.get_energies()[2]))\n",
    "print('Solving the Qubit Hamiltonian (Jordan-Wigner): \\n {}'.format(evs))"
   ]
  },
  {
   "cell_type": "markdown",
   "metadata": {},
   "source": [
    "Now the energy of CCSD is the correct one for Be(2+). However, the ground-state of the qubit Hamiltonian is not the one of Be(2+), because it operates in the whole Fock space."
   ]
  },
  {
   "cell_type": "markdown",
   "metadata": {},
   "source": [
    "If one performs a HeH calculation, with ```charge = 0``` and ```multiplicity = 2```, the CCSD calculation will run for HeH+ instead of HeH. Don't forget to set the option ```manual_option = \"**RELCCSD\\n*CCENER\\n.NOSDT\"``` to make it work for the HeH molecule."
   ]
  }
 ],
 "metadata": {
  "kernelspec": {
   "display_name": "Python 3",
   "language": "python",
   "name": "python3"
  },
  "language_info": {
   "codemirror_mode": {
    "name": "ipython",
    "version": 3
   },
   "file_extension": ".py",
   "mimetype": "text/x-python",
   "name": "python",
   "nbconvert_exporter": "python",
   "pygments_lexer": "ipython3",
   "version": "3.6.8"
  }
 },
 "nbformat": 4,
 "nbformat_minor": 2
}
